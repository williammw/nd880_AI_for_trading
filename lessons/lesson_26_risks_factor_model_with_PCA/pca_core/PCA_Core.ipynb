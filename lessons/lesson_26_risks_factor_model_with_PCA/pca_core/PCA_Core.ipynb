{
 "cells": [
  {
   "cell_type": "code",
   "execution_count": 1,
   "metadata": {},
   "outputs": [
    {
     "data": {
      "text/html": [
       "\n",
       "    <div class=\"bk-root\">\n",
       "        <a href=\"https://bokeh.pydata.org\" target=\"_blank\" class=\"bk-logo bk-logo-small bk-logo-notebook\"></a>\n",
       "        <span id=\"5069a309-7b91-4399-b6f9-ccd59136ab0e\">Loading BokehJS ...</span>\n",
       "    </div>"
      ]
     },
     "metadata": {},
     "output_type": "display_data"
    },
    {
     "data": {
      "application/javascript": [
       "\n",
       "(function(root) {\n",
       "  function now() {\n",
       "    return new Date();\n",
       "  }\n",
       "\n",
       "  var force = true;\n",
       "\n",
       "  if (typeof (root._bokeh_onload_callbacks) === \"undefined\" || force === true) {\n",
       "    root._bokeh_onload_callbacks = [];\n",
       "    root._bokeh_is_loading = undefined;\n",
       "  }\n",
       "\n",
       "  var JS_MIME_TYPE = 'application/javascript';\n",
       "  var HTML_MIME_TYPE = 'text/html';\n",
       "  var EXEC_MIME_TYPE = 'application/vnd.bokehjs_exec.v0+json';\n",
       "  var CLASS_NAME = 'output_bokeh rendered_html';\n",
       "\n",
       "  /**\n",
       "   * Render data to the DOM node\n",
       "   */\n",
       "  function render(props, node) {\n",
       "    var script = document.createElement(\"script\");\n",
       "    node.appendChild(script);\n",
       "  }\n",
       "\n",
       "  /**\n",
       "   * Handle when an output is cleared or removed\n",
       "   */\n",
       "  function handleClearOutput(event, handle) {\n",
       "    var cell = handle.cell;\n",
       "\n",
       "    var id = cell.output_area._bokeh_element_id;\n",
       "    var server_id = cell.output_area._bokeh_server_id;\n",
       "    // Clean up Bokeh references\n",
       "    if (id !== undefined) {\n",
       "      Bokeh.index[id].model.document.clear();\n",
       "      delete Bokeh.index[id];\n",
       "    }\n",
       "\n",
       "    if (server_id !== undefined) {\n",
       "      // Clean up Bokeh references\n",
       "      var cmd = \"from bokeh.io.state import curstate; print(curstate().uuid_to_server['\" + server_id + \"'].get_sessions()[0].document.roots[0]._id)\";\n",
       "      cell.notebook.kernel.execute(cmd, {\n",
       "        iopub: {\n",
       "          output: function(msg) {\n",
       "            var element_id = msg.content.text.trim();\n",
       "            Bokeh.index[element_id].model.document.clear();\n",
       "            delete Bokeh.index[element_id];\n",
       "          }\n",
       "        }\n",
       "      });\n",
       "      // Destroy server and session\n",
       "      var cmd = \"import bokeh.io.notebook as ion; ion.destroy_server('\" + server_id + \"')\";\n",
       "      cell.notebook.kernel.execute(cmd);\n",
       "    }\n",
       "  }\n",
       "\n",
       "  /**\n",
       "   * Handle when a new output is added\n",
       "   */\n",
       "  function handleAddOutput(event, handle) {\n",
       "    var output_area = handle.output_area;\n",
       "    var output = handle.output;\n",
       "\n",
       "    // limit handleAddOutput to display_data with EXEC_MIME_TYPE content only\n",
       "    if ((output.output_type != \"display_data\") || (!output.data.hasOwnProperty(EXEC_MIME_TYPE))) {\n",
       "      return\n",
       "    }\n",
       "\n",
       "    var toinsert = output_area.element.find(\".\" + CLASS_NAME.split(' ')[0]);\n",
       "\n",
       "    if (output.metadata[EXEC_MIME_TYPE][\"id\"] !== undefined) {\n",
       "      toinsert[0].firstChild.textContent = output.data[JS_MIME_TYPE];\n",
       "      // store reference to embed id on output_area\n",
       "      output_area._bokeh_element_id = output.metadata[EXEC_MIME_TYPE][\"id\"];\n",
       "    }\n",
       "    if (output.metadata[EXEC_MIME_TYPE][\"server_id\"] !== undefined) {\n",
       "      var bk_div = document.createElement(\"div\");\n",
       "      bk_div.innerHTML = output.data[HTML_MIME_TYPE];\n",
       "      var script_attrs = bk_div.children[0].attributes;\n",
       "      for (var i = 0; i < script_attrs.length; i++) {\n",
       "        toinsert[0].firstChild.setAttribute(script_attrs[i].name, script_attrs[i].value);\n",
       "      }\n",
       "      // store reference to server id on output_area\n",
       "      output_area._bokeh_server_id = output.metadata[EXEC_MIME_TYPE][\"server_id\"];\n",
       "    }\n",
       "  }\n",
       "\n",
       "  function register_renderer(events, OutputArea) {\n",
       "\n",
       "    function append_mime(data, metadata, element) {\n",
       "      // create a DOM node to render to\n",
       "      var toinsert = this.create_output_subarea(\n",
       "        metadata,\n",
       "        CLASS_NAME,\n",
       "        EXEC_MIME_TYPE\n",
       "      );\n",
       "      this.keyboard_manager.register_events(toinsert);\n",
       "      // Render to node\n",
       "      var props = {data: data, metadata: metadata[EXEC_MIME_TYPE]};\n",
       "      render(props, toinsert[0]);\n",
       "      element.append(toinsert);\n",
       "      return toinsert\n",
       "    }\n",
       "\n",
       "    /* Handle when an output is cleared or removed */\n",
       "    events.on('clear_output.CodeCell', handleClearOutput);\n",
       "    events.on('delete.Cell', handleClearOutput);\n",
       "\n",
       "    /* Handle when a new output is added */\n",
       "    events.on('output_added.OutputArea', handleAddOutput);\n",
       "\n",
       "    /**\n",
       "     * Register the mime type and append_mime function with output_area\n",
       "     */\n",
       "    OutputArea.prototype.register_mime_type(EXEC_MIME_TYPE, append_mime, {\n",
       "      /* Is output safe? */\n",
       "      safe: true,\n",
       "      /* Index of renderer in `output_area.display_order` */\n",
       "      index: 0\n",
       "    });\n",
       "  }\n",
       "\n",
       "  // register the mime type if in Jupyter Notebook environment and previously unregistered\n",
       "  if (root.Jupyter !== undefined) {\n",
       "    var events = require('base/js/events');\n",
       "    var OutputArea = require('notebook/js/outputarea').OutputArea;\n",
       "\n",
       "    if (OutputArea.prototype.mime_types().indexOf(EXEC_MIME_TYPE) == -1) {\n",
       "      register_renderer(events, OutputArea);\n",
       "    }\n",
       "  }\n",
       "\n",
       "  \n",
       "  if (typeof (root._bokeh_timeout) === \"undefined\" || force === true) {\n",
       "    root._bokeh_timeout = Date.now() + 5000;\n",
       "    root._bokeh_failed_load = false;\n",
       "  }\n",
       "\n",
       "  var NB_LOAD_WARNING = {'data': {'text/html':\n",
       "     \"<div style='background-color: #fdd'>\\n\"+\n",
       "     \"<p>\\n\"+\n",
       "     \"BokehJS does not appear to have successfully loaded. If loading BokehJS from CDN, this \\n\"+\n",
       "     \"may be due to a slow or bad network connection. Possible fixes:\\n\"+\n",
       "     \"</p>\\n\"+\n",
       "     \"<ul>\\n\"+\n",
       "     \"<li>re-rerun `output_notebook()` to attempt to load from CDN again, or</li>\\n\"+\n",
       "     \"<li>use INLINE resources instead, as so:</li>\\n\"+\n",
       "     \"</ul>\\n\"+\n",
       "     \"<code>\\n\"+\n",
       "     \"from bokeh.resources import INLINE\\n\"+\n",
       "     \"output_notebook(resources=INLINE)\\n\"+\n",
       "     \"</code>\\n\"+\n",
       "     \"</div>\"}};\n",
       "\n",
       "  function display_loaded() {\n",
       "    var el = document.getElementById(\"5069a309-7b91-4399-b6f9-ccd59136ab0e\");\n",
       "    if (el != null) {\n",
       "      el.textContent = \"BokehJS is loading...\";\n",
       "    }\n",
       "    if (root.Bokeh !== undefined) {\n",
       "      if (el != null) {\n",
       "        el.textContent = \"BokehJS \" + root.Bokeh.version + \" successfully loaded.\";\n",
       "      }\n",
       "    } else if (Date.now() < root._bokeh_timeout) {\n",
       "      setTimeout(display_loaded, 100)\n",
       "    }\n",
       "  }\n",
       "\n",
       "\n",
       "  function run_callbacks() {\n",
       "    try {\n",
       "      root._bokeh_onload_callbacks.forEach(function(callback) { callback() });\n",
       "    }\n",
       "    finally {\n",
       "      delete root._bokeh_onload_callbacks\n",
       "    }\n",
       "    console.info(\"Bokeh: all callbacks have finished\");\n",
       "  }\n",
       "\n",
       "  function load_libs(js_urls, callback) {\n",
       "    root._bokeh_onload_callbacks.push(callback);\n",
       "    if (root._bokeh_is_loading > 0) {\n",
       "      console.log(\"Bokeh: BokehJS is being loaded, scheduling callback at\", now());\n",
       "      return null;\n",
       "    }\n",
       "    if (js_urls == null || js_urls.length === 0) {\n",
       "      run_callbacks();\n",
       "      return null;\n",
       "    }\n",
       "    console.log(\"Bokeh: BokehJS not loaded, scheduling load and callback at\", now());\n",
       "    root._bokeh_is_loading = js_urls.length;\n",
       "    for (var i = 0; i < js_urls.length; i++) {\n",
       "      var url = js_urls[i];\n",
       "      var s = document.createElement('script');\n",
       "      s.src = url;\n",
       "      s.async = false;\n",
       "      s.onreadystatechange = s.onload = function() {\n",
       "        root._bokeh_is_loading--;\n",
       "        if (root._bokeh_is_loading === 0) {\n",
       "          console.log(\"Bokeh: all BokehJS libraries loaded\");\n",
       "          run_callbacks()\n",
       "        }\n",
       "      };\n",
       "      s.onerror = function() {\n",
       "        console.warn(\"failed to load library \" + url);\n",
       "      };\n",
       "      console.log(\"Bokeh: injecting script tag for BokehJS library: \", url);\n",
       "      document.getElementsByTagName(\"head\")[0].appendChild(s);\n",
       "    }\n",
       "  };var element = document.getElementById(\"5069a309-7b91-4399-b6f9-ccd59136ab0e\");\n",
       "  if (element == null) {\n",
       "    console.log(\"Bokeh: ERROR: autoload.js configured with elementid '5069a309-7b91-4399-b6f9-ccd59136ab0e' but no matching script tag was found. \")\n",
       "    return false;\n",
       "  }\n",
       "\n",
       "  var js_urls = [\"https://cdn.pydata.org/bokeh/release/bokeh-0.12.14.min.js\", \"https://cdn.pydata.org/bokeh/release/bokeh-widgets-0.12.14.min.js\", \"https://cdn.pydata.org/bokeh/release/bokeh-tables-0.12.14.min.js\", \"https://cdn.pydata.org/bokeh/release/bokeh-gl-0.12.14.min.js\"];\n",
       "\n",
       "  var inline_js = [\n",
       "    function(Bokeh) {\n",
       "      Bokeh.set_log_level(\"info\");\n",
       "    },\n",
       "    \n",
       "    function(Bokeh) {\n",
       "      \n",
       "    },\n",
       "    function(Bokeh) {\n",
       "      console.log(\"Bokeh: injecting CSS: https://cdn.pydata.org/bokeh/release/bokeh-0.12.14.min.css\");\n",
       "      Bokeh.embed.inject_css(\"https://cdn.pydata.org/bokeh/release/bokeh-0.12.14.min.css\");\n",
       "      console.log(\"Bokeh: injecting CSS: https://cdn.pydata.org/bokeh/release/bokeh-widgets-0.12.14.min.css\");\n",
       "      Bokeh.embed.inject_css(\"https://cdn.pydata.org/bokeh/release/bokeh-widgets-0.12.14.min.css\");\n",
       "      console.log(\"Bokeh: injecting CSS: https://cdn.pydata.org/bokeh/release/bokeh-tables-0.12.14.min.css\");\n",
       "      Bokeh.embed.inject_css(\"https://cdn.pydata.org/bokeh/release/bokeh-tables-0.12.14.min.css\");\n",
       "    }\n",
       "  ];\n",
       "\n",
       "  function run_inline_js() {\n",
       "    \n",
       "    if ((root.Bokeh !== undefined) || (force === true)) {\n",
       "      for (var i = 0; i < inline_js.length; i++) {\n",
       "        inline_js[i].call(root, root.Bokeh);\n",
       "      }if (force === true) {\n",
       "        display_loaded();\n",
       "      }} else if (Date.now() < root._bokeh_timeout) {\n",
       "      setTimeout(run_inline_js, 100);\n",
       "    } else if (!root._bokeh_failed_load) {\n",
       "      console.log(\"Bokeh: BokehJS failed to load within specified timeout.\");\n",
       "      root._bokeh_failed_load = true;\n",
       "    } else if (force !== true) {\n",
       "      var cell = $(document.getElementById(\"5069a309-7b91-4399-b6f9-ccd59136ab0e\")).parents('.cell').data().cell;\n",
       "      cell.output_area.append_execute_result(NB_LOAD_WARNING)\n",
       "    }\n",
       "\n",
       "  }\n",
       "\n",
       "  if (root._bokeh_is_loading === 0) {\n",
       "    console.log(\"Bokeh: BokehJS loaded, going straight to plotting\");\n",
       "    run_inline_js();\n",
       "  } else {\n",
       "    load_libs(js_urls, function() {\n",
       "      console.log(\"Bokeh: BokehJS plotting callback run at\", now());\n",
       "      run_inline_js();\n",
       "    });\n",
       "  }\n",
       "}(window));"
      ],
      "application/vnd.bokehjs_load.v0+json": "\n(function(root) {\n  function now() {\n    return new Date();\n  }\n\n  var force = true;\n\n  if (typeof (root._bokeh_onload_callbacks) === \"undefined\" || force === true) {\n    root._bokeh_onload_callbacks = [];\n    root._bokeh_is_loading = undefined;\n  }\n\n  \n\n  \n  if (typeof (root._bokeh_timeout) === \"undefined\" || force === true) {\n    root._bokeh_timeout = Date.now() + 5000;\n    root._bokeh_failed_load = false;\n  }\n\n  var NB_LOAD_WARNING = {'data': {'text/html':\n     \"<div style='background-color: #fdd'>\\n\"+\n     \"<p>\\n\"+\n     \"BokehJS does not appear to have successfully loaded. If loading BokehJS from CDN, this \\n\"+\n     \"may be due to a slow or bad network connection. Possible fixes:\\n\"+\n     \"</p>\\n\"+\n     \"<ul>\\n\"+\n     \"<li>re-rerun `output_notebook()` to attempt to load from CDN again, or</li>\\n\"+\n     \"<li>use INLINE resources instead, as so:</li>\\n\"+\n     \"</ul>\\n\"+\n     \"<code>\\n\"+\n     \"from bokeh.resources import INLINE\\n\"+\n     \"output_notebook(resources=INLINE)\\n\"+\n     \"</code>\\n\"+\n     \"</div>\"}};\n\n  function display_loaded() {\n    var el = document.getElementById(\"5069a309-7b91-4399-b6f9-ccd59136ab0e\");\n    if (el != null) {\n      el.textContent = \"BokehJS is loading...\";\n    }\n    if (root.Bokeh !== undefined) {\n      if (el != null) {\n        el.textContent = \"BokehJS \" + root.Bokeh.version + \" successfully loaded.\";\n      }\n    } else if (Date.now() < root._bokeh_timeout) {\n      setTimeout(display_loaded, 100)\n    }\n  }\n\n\n  function run_callbacks() {\n    try {\n      root._bokeh_onload_callbacks.forEach(function(callback) { callback() });\n    }\n    finally {\n      delete root._bokeh_onload_callbacks\n    }\n    console.info(\"Bokeh: all callbacks have finished\");\n  }\n\n  function load_libs(js_urls, callback) {\n    root._bokeh_onload_callbacks.push(callback);\n    if (root._bokeh_is_loading > 0) {\n      console.log(\"Bokeh: BokehJS is being loaded, scheduling callback at\", now());\n      return null;\n    }\n    if (js_urls == null || js_urls.length === 0) {\n      run_callbacks();\n      return null;\n    }\n    console.log(\"Bokeh: BokehJS not loaded, scheduling load and callback at\", now());\n    root._bokeh_is_loading = js_urls.length;\n    for (var i = 0; i < js_urls.length; i++) {\n      var url = js_urls[i];\n      var s = document.createElement('script');\n      s.src = url;\n      s.async = false;\n      s.onreadystatechange = s.onload = function() {\n        root._bokeh_is_loading--;\n        if (root._bokeh_is_loading === 0) {\n          console.log(\"Bokeh: all BokehJS libraries loaded\");\n          run_callbacks()\n        }\n      };\n      s.onerror = function() {\n        console.warn(\"failed to load library \" + url);\n      };\n      console.log(\"Bokeh: injecting script tag for BokehJS library: \", url);\n      document.getElementsByTagName(\"head\")[0].appendChild(s);\n    }\n  };var element = document.getElementById(\"5069a309-7b91-4399-b6f9-ccd59136ab0e\");\n  if (element == null) {\n    console.log(\"Bokeh: ERROR: autoload.js configured with elementid '5069a309-7b91-4399-b6f9-ccd59136ab0e' but no matching script tag was found. \")\n    return false;\n  }\n\n  var js_urls = [\"https://cdn.pydata.org/bokeh/release/bokeh-0.12.14.min.js\", \"https://cdn.pydata.org/bokeh/release/bokeh-widgets-0.12.14.min.js\", \"https://cdn.pydata.org/bokeh/release/bokeh-tables-0.12.14.min.js\", \"https://cdn.pydata.org/bokeh/release/bokeh-gl-0.12.14.min.js\"];\n\n  var inline_js = [\n    function(Bokeh) {\n      Bokeh.set_log_level(\"info\");\n    },\n    \n    function(Bokeh) {\n      \n    },\n    function(Bokeh) {\n      console.log(\"Bokeh: injecting CSS: https://cdn.pydata.org/bokeh/release/bokeh-0.12.14.min.css\");\n      Bokeh.embed.inject_css(\"https://cdn.pydata.org/bokeh/release/bokeh-0.12.14.min.css\");\n      console.log(\"Bokeh: injecting CSS: https://cdn.pydata.org/bokeh/release/bokeh-widgets-0.12.14.min.css\");\n      Bokeh.embed.inject_css(\"https://cdn.pydata.org/bokeh/release/bokeh-widgets-0.12.14.min.css\");\n      console.log(\"Bokeh: injecting CSS: https://cdn.pydata.org/bokeh/release/bokeh-tables-0.12.14.min.css\");\n      Bokeh.embed.inject_css(\"https://cdn.pydata.org/bokeh/release/bokeh-tables-0.12.14.min.css\");\n    }\n  ];\n\n  function run_inline_js() {\n    \n    if ((root.Bokeh !== undefined) || (force === true)) {\n      for (var i = 0; i < inline_js.length; i++) {\n        inline_js[i].call(root, root.Bokeh);\n      }if (force === true) {\n        display_loaded();\n      }} else if (Date.now() < root._bokeh_timeout) {\n      setTimeout(run_inline_js, 100);\n    } else if (!root._bokeh_failed_load) {\n      console.log(\"Bokeh: BokehJS failed to load within specified timeout.\");\n      root._bokeh_failed_load = true;\n    } else if (force !== true) {\n      var cell = $(document.getElementById(\"5069a309-7b91-4399-b6f9-ccd59136ab0e\")).parents('.cell').data().cell;\n      cell.output_area.append_execute_result(NB_LOAD_WARNING)\n    }\n\n  }\n\n  if (root._bokeh_is_loading === 0) {\n    console.log(\"Bokeh: BokehJS loaded, going straight to plotting\");\n    run_inline_js();\n  } else {\n    load_libs(js_urls, function() {\n      console.log(\"Bokeh: BokehJS plotting callback run at\", now());\n      run_inline_js();\n    });\n  }\n}(window));"
     },
     "metadata": {},
     "output_type": "display_data"
    }
   ],
   "source": [
    "import numpy as np\n",
    "from scipy.stats import norm\n",
    "import matplotlib.pylab as plt\n",
    "import pandas as pd\n",
    "from bokeh.layouts import row, widgetbox, layout, gridplot\n",
    "from bokeh.models import CustomJS, Slider\n",
    "from bokeh.plotting import figure, output_file, show, ColumnDataSource\n",
    "from bokeh.models.glyphs import MultiLine\n",
    "from bokeh.io import output_notebook\n",
    "from bokeh.models.widgets import Div\n",
    "%matplotlib inline\n",
    "output_notebook()"
   ]
  },
  {
   "cell_type": "markdown",
   "metadata": {},
   "source": [
    "## Create Fake Data\n",
    "Let's start by generating a wee fake dataset."
   ]
  },
  {
   "cell_type": "code",
   "execution_count": 2,
   "metadata": {},
   "outputs": [],
   "source": [
    "num_data = 5\n",
    "X = norm.rvs(size=(num_data,2), random_state=4)*2\n",
    "X = np.dot(X, np.linalg.cholesky([[1, 0.8], [0.8, 0.8]]))\n",
    "m = X.mean(axis=0)\n",
    "X = X - m"
   ]
  },
  {
   "cell_type": "markdown",
   "metadata": {},
   "source": [
    "Let's take a look at the data we generated."
   ]
  },
  {
   "cell_type": "code",
   "execution_count": 3,
   "metadata": {},
   "outputs": [
    {
     "data": {
      "text/plain": [
       "array([[ 1.87346497,  0.55034968],\n",
       "       [ 0.09035918,  0.70526742],\n",
       "       [-2.39950719, -1.11727317],\n",
       "       [ 0.63472617,  0.62924876],\n",
       "       [-0.19904312, -0.76759269]])"
      ]
     },
     "execution_count": 3,
     "metadata": {},
     "output_type": "execute_result"
    }
   ],
   "source": [
    "X"
   ]
  },
  {
   "cell_type": "code",
   "execution_count": 7,
   "metadata": {},
   "outputs": [
    {
     "data": {
      "text/plain": [
       "array([ 1.87346497,  0.09035918, -2.39950719,  0.63472617, -0.19904312])"
      ]
     },
     "execution_count": 7,
     "metadata": {},
     "output_type": "execute_result"
    }
   ],
   "source": [
    "X[:,0]"
   ]
  },
  {
   "cell_type": "code",
   "execution_count": 4,
   "metadata": {
    "scrolled": true
   },
   "outputs": [
    {
     "data": {
      "text/plain": [
       "<matplotlib.collections.PathCollection at 0x10d5fe7b8>"
      ]
     },
     "execution_count": 4,
     "metadata": {},
     "output_type": "execute_result"
    },
    {
     "data": {
      "image/png": "[encoded data removed]",
      "text/plain": [
       "<Figure size 432x288 with 1 Axes>"
      ]
     },
     "metadata": {
      "needs_background": "light"
     },
     "output_type": "display_data"
    }
   ],
   "source": [
    "plt.scatter(X[:, 0],X[:, 1])"
   ]
  },
  {
   "cell_type": "markdown",
   "metadata": {},
   "source": [
    "## An Interactive Plot\n",
    "Now we'll create an interactive plot with these data."
   ]
  },
  {
   "cell_type": "code",
   "execution_count": 5,
   "metadata": {},
   "outputs": [
    {
     "data": {
      "text/html": [
       "\n",
       "<div class=\"bk-root\">\n",
       "    <div class=\"bk-plotdiv\" id=\"422ca579-18f4-4b86-8db8-fb0726ae79ae\"></div>\n",
       "</div>"
      ]
     },
     "metadata": {},
     "output_type": "display_data"
    },
    {
     "data": {
      "application/javascript": [
       "(function(root) {\n",
       "  function embed_document(root) {\n",
       "    \n",
       "  var docs_json = {\"01b521bd-7d59-421c-92db-6dd6c43366c2\":{\"roots\":{\"references\":[{\"attributes\":{\"source\":{\"id\":\"9b98687f-8c5b-4e13-b8ec-dea567cdb862\",\"type\":\"ColumnDataSource\"}},\"id\":\"642d8259-3e42-4abf-ae4a-33ee9e467690\",\"type\":\"CDSView\"},{\"attributes\":{},\"id\":\"a086933f-a73a-49f6-a0ce-08ff4d994976\",\"type\":\"BasicTickFormatter\"},{\"attributes\":{\"children\":[{\"id\":\"2391add4-6387-40c4-90a4-0081acb7d66c\",\"type\":\"Column\"},{\"id\":\"22e6deaf-0851-41b8-ba61-b446b4867318\",\"type\":\"Column\"}]},\"id\":\"8db655ed-4fa2-4c34-b46c-ecb13eb57745\",\"type\":\"Row\"},{\"attributes\":{\"data_source\":{\"id\":\"9b98687f-8c5b-4e13-b8ec-dea567cdb862\",\"type\":\"ColumnDataSource\"},\"glyph\":{\"id\":\"b3379a44-44a7-4c71-8fea-64dbfe900a0d\",\"type\":\"Circle\"},\"hover_glyph\":null,\"muted_glyph\":null,\"nonselection_glyph\":{\"id\":\"5646df60-65a8-4c53-9fb5-20fc76f6ae03\",\"type\":\"Circle\"},\"selection_glyph\":null,\"view\":{\"id\":\"65de74cb-099c-44a7-82f3-6bff0b60f5a9\",\"type\":\"CDSView\"}},\"id\":\"6e34a2ca-ed02-40c0-9e16-8754d52b1fe0\",\"type\":\"GlyphRenderer\"},{\"attributes\":{\"line_alpha\":0.5,\"x\":{\"field\":\"z0\"},\"y\":{\"field\":\"z1\"}},\"id\":\"4f2bfc2f-1758-49d9-a46b-dc6dbede6965\",\"type\":\"Line\"},{\"attributes\":{\"source\":{\"id\":\"9b98687f-8c5b-4e13-b8ec-dea567cdb862\",\"type\":\"ColumnDataSource\"}},\"id\":\"65de74cb-099c-44a7-82f3-6bff0b60f5a9\",\"type\":\"CDSView\"},{\"attributes\":{\"fill_alpha\":{\"value\":0.6},\"fill_color\":{\"value\":\"navy\"},\"line_alpha\":{\"value\":0.6},\"line_color\":{\"value\":\"navy\"},\"size\":{\"units\":\"screen\",\"value\":5},\"x\":{\"field\":\"x0\"},\"y\":{\"field\":\"x1\"}},\"id\":\"cc5fbbeb-e907-4ea5-a027-35069b30536d\",\"type\":\"Circle\"},{\"attributes\":{\"formatter\":{\"id\":\"633c0786-8968-49f7-8cd3-94ab32aae5e1\",\"type\":\"BasicTickFormatter\"},\"plot\":{\"id\":\"0c555e04-c488-40d6-ab45-89e862ec9af1\",\"subtype\":\"Figure\",\"type\":\"Plot\"},\"ticker\":{\"id\":\"761ee3a9-dc61-48c5-a376-140da2846fd4\",\"type\":\"BasicTicker\"}},\"id\":\"5d6fd85d-4794-4e3f-9c6a-dc19daf5ee09\",\"type\":\"LinearAxis\"},{\"attributes\":{\"dimension\":1,\"plot\":{\"id\":\"85c23b0d-e371-4dd5-a9c6-4be8abe7783f\",\"subtype\":\"Figure\",\"type\":\"Plot\"},\"ticker\":{\"id\":\"cd4601b7-cd34-40ef-b037-97048cd5669a\",\"type\":\"BasicTicker\"}},\"id\":\"fca05108-c1f1-4dca-a303-7191a58c8154\",\"type\":\"Grid\"},{\"attributes\":{\"formatter\":{\"id\":\"a086933f-a73a-49f6-a0ce-08ff4d994976\",\"type\":\"BasicTickFormatter\"},\"plot\":{\"id\":\"85c23b0d-e371-4dd5-a9c6-4be8abe7783f\",\"subtype\":\"Figure\",\"type\":\"Plot\"},\"ticker\":{\"id\":\"cd4601b7-cd34-40ef-b037-97048cd5669a\",\"type\":\"BasicTicker\"}},\"id\":\"83955bf0-2f31-41ed-bc53-0a2c4f2e2b01\",\"type\":\"LinearAxis\"},{\"attributes\":{},\"id\":\"3e90762c-7d6f-48f0-a311-1839c649cb0c\",\"type\":\"LinearScale\"},{\"attributes\":{\"children\":[{\"id\":\"9fa79735-823c-44e4-b499-f78a503e549f\",\"type\":\"Slider\"}]},\"id\":\"d0dde014-9f3d-44e3-9dd3-a0ecea273720\",\"type\":\"WidgetBox\"},{\"attributes\":{\"source\":{\"id\":\"9b98687f-8c5b-4e13-b8ec-dea567cdb862\",\"type\":\"ColumnDataSource\"}},\"id\":\"0853e301-2641-4f54-ac07-002d8220109b\",\"type\":\"CDSView\"},{\"attributes\":{\"below\":[{\"id\":\"5d6fd85d-4794-4e3f-9c6a-dc19daf5ee09\",\"type\":\"LinearAxis\"}],\"left\":[{\"id\":\"0b32eed9-14e9-4de1-b3cc-9b77d996e1e2\",\"type\":\"LinearAxis\"}],\"plot_height\":300,\"plot_width\":300,\"renderers\":[{\"id\":\"5d6fd85d-4794-4e3f-9c6a-dc19daf5ee09\",\"type\":\"LinearAxis\"},{\"id\":\"f2568629-dbd4-4add-9a60-5bd0f50206c4\",\"type\":\"Grid\"},{\"id\":\"0b32eed9-14e9-4de1-b3cc-9b77d996e1e2\",\"type\":\"LinearAxis\"},{\"id\":\"3d844696-2e93-46d3-ad77-ff6ab55b51cd\",\"type\":\"Grid\"},{\"id\":\"7ed36089-6df4-4378-8199-fd07eba706a1\",\"type\":\"BoxAnnotation\"},{\"id\":\"6e34a2ca-ed02-40c0-9e16-8754d52b1fe0\",\"type\":\"GlyphRenderer\"}],\"title\":{\"id\":\"ee419efc-aa51-4993-bf51-b3fe1991ad98\",\"type\":\"Title\"},\"toolbar\":{\"id\":\"7620c971-d8a3-4f48-8ea9-009d9d9797e8\",\"type\":\"Toolbar\"},\"x_range\":{\"id\":\"7f350246-1cfd-4086-a433-c0448577dcd9\",\"type\":\"Range1d\"},\"x_scale\":{\"id\":\"0d1631e5-0f3e-4a2f-b0dc-4ddb314410f3\",\"type\":\"LinearScale\"},\"y_range\":{\"id\":\"784f4598-c85d-4268-b890-d2a70fbb12c2\",\"type\":\"Range1d\"},\"y_scale\":{\"id\":\"edb415b5-8d37-45f4-8710-043837a3d430\",\"type\":\"LinearScale\"}},\"id\":\"0c555e04-c488-40d6-ab45-89e862ec9af1\",\"subtype\":\"Figure\",\"type\":\"Plot\"},{\"attributes\":{},\"id\":\"543a1b5d-d755-4be1-9524-265627e6f6ca\",\"type\":\"WheelZoomTool\"},{\"attributes\":{\"data_source\":{\"id\":\"9b98687f-8c5b-4e13-b8ec-dea567cdb862\",\"type\":\"ColumnDataSource\"},\"glyph\":{\"id\":\"4f2bfc2f-1758-49d9-a46b-dc6dbede6965\",\"type\":\"Line\"},\"hover_glyph\":null,\"muted_glyph\":null,\"nonselection_glyph\":{\"id\":\"72be95c3-ce41-4f57-a33c-14ca987f335e\",\"type\":\"Line\"},\"selection_glyph\":null,\"view\":{\"id\":\"0853e301-2641-4f54-ac07-002d8220109b\",\"type\":\"CDSView\"}},\"id\":\"1e994f83-6ca8-47c6-a6b4-09a7fd998f5f\",\"type\":\"GlyphRenderer\"},{\"attributes\":{\"formatter\":{\"id\":\"352aacf6-f104-4417-a55b-d3ff76ae8861\",\"type\":\"BasicTickFormatter\"},\"plot\":{\"id\":\"0c555e04-c488-40d6-ab45-89e862ec9af1\",\"subtype\":\"Figure\",\"type\":\"Plot\"},\"ticker\":{\"id\":\"dec348ab-4fd7-48b4-a1aa-81c468f8ab49\",\"type\":\"BasicTicker\"}},\"id\":\"0b32eed9-14e9-4de1-b3cc-9b77d996e1e2\",\"type\":\"LinearAxis\"},{\"attributes\":{\"overlay\":{\"id\":\"a33498ce-0fa7-4002-8daa-f1f4169d7d9e\",\"type\":\"BoxAnnotation\"}},\"id\":\"40013de6-e67e-4790-b7df-daf15e64e546\",\"type\":\"BoxZoomTool\"},{\"attributes\":{},\"id\":\"52c460af-6089-4e2c-80c5-93b38e0635c2\",\"type\":\"BasicTickFormatter\"},{\"attributes\":{},\"id\":\"c2f42c82-a20f-4008-9d95-c2bbe0c90b5d\",\"type\":\"HelpTool\"},{\"attributes\":{\"height\":100,\"text\":\"Instructions: There's a lot of code in the cell above! What just happened? The blue dots are our original data points. We are choosing the direction of the first PC for this dataset; this direction is represented by the black line. The red dots are the projections of the data onto the new basis direction. Using the slider bar, change the angle of the new basis direction, and observe how the projections and the variance of the projections, represented by the spread of the points in the plot on the right, change.\",\"width\":900},\"id\":\"f1cdc901-0834-4c10-824a-0dea6766f360\",\"type\":\"Div\"},{\"attributes\":{},\"id\":\"dec348ab-4fd7-48b4-a1aa-81c468f8ab49\",\"type\":\"BasicTicker\"},{\"attributes\":{\"children\":[{\"id\":\"f1437098-e33a-41cb-a851-31677c0dae8a\",\"type\":\"WidgetBox\"},{\"id\":\"d0dde014-9f3d-44e3-9dd3-a0ecea273720\",\"type\":\"WidgetBox\"},{\"id\":\"c4b186e5-b929-43a8-a64b-a53b7f17dd78\",\"type\":\"WidgetBox\"},{\"id\":\"0c555e04-c488-40d6-ab45-89e862ec9af1\",\"subtype\":\"Figure\",\"type\":\"Plot\"}]},\"id\":\"22e6deaf-0851-41b8-ba61-b446b4867318\",\"type\":\"Column\"},{\"attributes\":{\"children\":[{\"id\":\"f1cdc901-0834-4c10-824a-0dea6766f360\",\"type\":\"Div\"}]},\"id\":\"e2d1d873-5888-408c-8e50-1640803b0430\",\"type\":\"WidgetBox\"},{\"attributes\":{},\"id\":\"328cafb2-b1e6-49c1-9419-a8ffa4095acf\",\"type\":\"WheelZoomTool\"},{\"attributes\":{},\"id\":\"21bc2094-1835-42fd-a6dd-752df6500432\",\"type\":\"LinearScale\"},{\"attributes\":{\"plot\":null,\"text\":\"\"},\"id\":\"6e4acbb5-be1e-4d06-8bdb-0124504ee777\",\"type\":\"Title\"},{\"attributes\":{},\"id\":\"0d1631e5-0f3e-4a2f-b0dc-4ddb314410f3\",\"type\":\"LinearScale\"},{\"attributes\":{\"children\":[{\"id\":\"e2d1d873-5888-408c-8e50-1640803b0430\",\"type\":\"WidgetBox\"},{\"id\":\"85c23b0d-e371-4dd5-a9c6-4be8abe7783f\",\"subtype\":\"Figure\",\"type\":\"Plot\"}]},\"id\":\"2391add4-6387-40c4-90a4-0081acb7d66c\",\"type\":\"Column\"},{\"attributes\":{\"fill_alpha\":{\"value\":0.6},\"fill_color\":{\"value\":\"firebrick\"},\"line_alpha\":{\"value\":0.6},\"line_color\":{\"value\":\"firebrick\"},\"x\":{\"field\":\"z0\"},\"y\":{\"field\":\"z1\"}},\"id\":\"a220708d-12e9-49de-a54d-d96a62b780ca\",\"type\":\"Circle\"},{\"attributes\":{\"data_source\":{\"id\":\"9b98687f-8c5b-4e13-b8ec-dea567cdb862\",\"type\":\"ColumnDataSource\"},\"glyph\":{\"id\":\"cc5fbbeb-e907-4ea5-a027-35069b30536d\",\"type\":\"Circle\"},\"hover_glyph\":null,\"muted_glyph\":null,\"nonselection_glyph\":{\"id\":\"02e30102-9714-4b83-9290-73c2ce17c46f\",\"type\":\"Circle\"},\"selection_glyph\":null,\"view\":{\"id\":\"642d8259-3e42-4abf-ae4a-33ee9e467690\",\"type\":\"CDSView\"}},\"id\":\"a2075fe7-c582-4228-9784-f2703193578f\",\"type\":\"GlyphRenderer\"},{\"attributes\":{\"plot\":{\"id\":\"0c555e04-c488-40d6-ab45-89e862ec9af1\",\"subtype\":\"Figure\",\"type\":\"Plot\"},\"ticker\":{\"id\":\"761ee3a9-dc61-48c5-a376-140da2846fd4\",\"type\":\"BasicTicker\"}},\"id\":\"f2568629-dbd4-4add-9a60-5bd0f50206c4\",\"type\":\"Grid\"},{\"attributes\":{\"callback\":null,\"end\":2.5,\"start\":-2.5},\"id\":\"784f4598-c85d-4268-b890-d2a70fbb12c2\",\"type\":\"Range1d\"},{\"attributes\":{},\"id\":\"633c0786-8968-49f7-8cd3-94ab32aae5e1\",\"type\":\"BasicTickFormatter\"},{\"attributes\":{\"overlay\":{\"id\":\"7ed36089-6df4-4378-8199-fd07eba706a1\",\"type\":\"BoxAnnotation\"}},\"id\":\"0f7ad214-0e63-4bd7-9978-2bc908814d9d\",\"type\":\"BoxZoomTool\"},{\"attributes\":{\"callback\":null,\"end\":3,\"start\":-3},\"id\":\"7f350246-1cfd-4086-a433-c0448577dcd9\",\"type\":\"Range1d\"},{\"attributes\":{\"plot\":{\"id\":\"85c23b0d-e371-4dd5-a9c6-4be8abe7783f\",\"subtype\":\"Figure\",\"type\":\"Plot\"},\"ticker\":{\"id\":\"9bb82c08-c9f9-4e76-8bda-ae26a2516c4a\",\"type\":\"BasicTicker\"}},\"id\":\"259ce4de-6994-4d16-8b5b-71a35f6b04e4\",\"type\":\"Grid\"},{\"attributes\":{\"fill_alpha\":{\"value\":0.1},\"fill_color\":{\"value\":\"#1f77b4\"},\"line_alpha\":{\"value\":0.1},\"line_color\":{\"value\":\"#1f77b4\"},\"size\":{\"units\":\"screen\",\"value\":5},\"x\":{\"field\":\"x0\"},\"y\":{\"field\":\"x1\"}},\"id\":\"02e30102-9714-4b83-9290-73c2ce17c46f\",\"type\":\"Circle\"},{\"attributes\":{\"children\":[{\"id\":\"8db655ed-4fa2-4c34-b46c-ecb13eb57745\",\"type\":\"Row\"}]},\"id\":\"d0cc0698-9205-4724-a99f-bb5c922118af\",\"type\":\"Column\"},{\"attributes\":{\"callback\":{\"id\":\"af93e8a6-43ac-497c-83d2-0cf9159b41f3\",\"type\":\"CustomJS\"},\"end\":180,\"start\":0,\"step\":0.05,\"title\":\"Angle\",\"value\":1},\"id\":\"9fa79735-823c-44e4-b499-f78a503e549f\",\"type\":\"Slider\"},{\"attributes\":{\"bottom_units\":\"screen\",\"fill_alpha\":{\"value\":0.5},\"fill_color\":{\"value\":\"lightgrey\"},\"left_units\":\"screen\",\"level\":\"overlay\",\"line_alpha\":{\"value\":1.0},\"line_color\":{\"value\":\"black\"},\"line_dash\":[4,4],\"line_width\":{\"value\":2},\"plot\":null,\"render_mode\":\"css\",\"right_units\":\"screen\",\"top_units\":\"screen\"},\"id\":\"7ed36089-6df4-4378-8199-fd07eba706a1\",\"type\":\"BoxAnnotation\"},{\"attributes\":{\"callback\":null,\"end\":2.5,\"start\":-3},\"id\":\"34d7ac8c-2703-4b18-b727-8c2eda520429\",\"type\":\"Range1d\"},{\"attributes\":{},\"id\":\"9bb82c08-c9f9-4e76-8bda-ae26a2516c4a\",\"type\":\"BasicTicker\"},{\"attributes\":{},\"id\":\"d6a577d3-96a3-400b-83af-b57588ae0da7\",\"type\":\"HelpTool\"},{\"attributes\":{},\"id\":\"761ee3a9-dc61-48c5-a376-140da2846fd4\",\"type\":\"BasicTicker\"},{\"attributes\":{\"line_color\":{\"value\":\"#8073ac\"},\"xs\":{\"field\":\"x0s\"},\"ys\":{\"field\":\"x1s\"}},\"id\":\"0d39d1b9-3e81-42a5-92fd-790c7e62f3e2\",\"type\":\"MultiLine\"},{\"attributes\":{\"line_alpha\":0.1,\"line_color\":\"#1f77b4\",\"x\":{\"field\":\"z0\"},\"y\":{\"field\":\"z1\"}},\"id\":\"72be95c3-ce41-4f57-a33c-14ca987f335e\",\"type\":\"Line\"},{\"attributes\":{\"children\":[{\"id\":\"493623aa-c37c-4d0f-ab29-6b3663a17513\",\"type\":\"Div\"}]},\"id\":\"f1437098-e33a-41cb-a851-31677c0dae8a\",\"type\":\"WidgetBox\"},{\"attributes\":{\"data_source\":{\"id\":\"9b98687f-8c5b-4e13-b8ec-dea567cdb862\",\"type\":\"ColumnDataSource\"},\"glyph\":{\"id\":\"a220708d-12e9-49de-a54d-d96a62b780ca\",\"type\":\"Circle\"},\"hover_glyph\":null,\"muted_glyph\":null,\"nonselection_glyph\":{\"id\":\"ad35c7fd-86de-4437-8a5d-85b87faefa1b\",\"type\":\"Circle\"},\"selection_glyph\":null,\"view\":{\"id\":\"12e04144-0e00-4891-ad6e-f1f73d727f50\",\"type\":\"CDSView\"}},\"id\":\"e3370663-ff39-4a09-ae5c-b0508312e86d\",\"type\":\"GlyphRenderer\"},{\"attributes\":{\"active_drag\":\"auto\",\"active_inspect\":\"auto\",\"active_scroll\":\"auto\",\"active_tap\":\"auto\",\"tools\":[{\"id\":\"5e08b18d-06d2-4eec-8350-74b15724f68c\",\"type\":\"PanTool\"},{\"id\":\"328cafb2-b1e6-49c1-9419-a8ffa4095acf\",\"type\":\"WheelZoomTool\"},{\"id\":\"0f7ad214-0e63-4bd7-9978-2bc908814d9d\",\"type\":\"BoxZoomTool\"},{\"id\":\"94c6bbe1-fe97-4e95-972d-11a387e10dfe\",\"type\":\"SaveTool\"},{\"id\":\"6ce6f64b-12a8-44d2-a811-32f67cd116a0\",\"type\":\"ResetTool\"},{\"id\":\"c2f42c82-a20f-4008-9d95-c2bbe0c90b5d\",\"type\":\"HelpTool\"}]},\"id\":\"7620c971-d8a3-4f48-8ea9-009d9d9797e8\",\"type\":\"Toolbar\"},{\"attributes\":{\"fill_alpha\":{\"value\":0.1},\"fill_color\":{\"value\":\"#1f77b4\"},\"line_alpha\":{\"value\":0.1},\"line_color\":{\"value\":\"#1f77b4\"},\"x\":{\"field\":\"d\"},\"y\":{\"field\":\"dzs\"}},\"id\":\"5646df60-65a8-4c53-9fb5-20fc76f6ae03\",\"type\":\"Circle\"},{\"attributes\":{\"height\":80,\"width\":200},\"id\":\"493623aa-c37c-4d0f-ab29-6b3663a17513\",\"type\":\"Div\"},{\"attributes\":{\"plot\":null,\"text\":\"\"},\"id\":\"ee419efc-aa51-4993-bf51-b3fe1991ad98\",\"type\":\"Title\"},{\"attributes\":{},\"id\":\"352aacf6-f104-4417-a55b-d3ff76ae8861\",\"type\":\"BasicTickFormatter\"},{\"attributes\":{\"source\":{\"id\":\"9b98687f-8c5b-4e13-b8ec-dea567cdb862\",\"type\":\"ColumnDataSource\"}},\"id\":\"c739a315-85e0-4c69-a043-6e8228a415be\",\"type\":\"CDSView\"},{\"attributes\":{},\"id\":\"94c6bbe1-fe97-4e95-972d-11a387e10dfe\",\"type\":\"SaveTool\"},{\"attributes\":{},\"id\":\"2444849a-1cd1-48de-b4db-d1ddb62b2aa8\",\"type\":\"ResetTool\"},{\"attributes\":{\"below\":[{\"id\":\"f8050b31-7e0d-4d6d-805f-49c57bf10ad7\",\"type\":\"LinearAxis\"}],\"left\":[{\"id\":\"83955bf0-2f31-41ed-bc53-0a2c4f2e2b01\",\"type\":\"LinearAxis\"}],\"match_aspect\":true,\"renderers\":[{\"id\":\"f8050b31-7e0d-4d6d-805f-49c57bf10ad7\",\"type\":\"LinearAxis\"},{\"id\":\"259ce4de-6994-4d16-8b5b-71a35f6b04e4\",\"type\":\"Grid\"},{\"id\":\"83955bf0-2f31-41ed-bc53-0a2c4f2e2b01\",\"type\":\"LinearAxis\"},{\"id\":\"fca05108-c1f1-4dca-a303-7191a58c8154\",\"type\":\"Grid\"},{\"id\":\"a33498ce-0fa7-4002-8daa-f1f4169d7d9e\",\"type\":\"BoxAnnotation\"},{\"id\":\"a2075fe7-c582-4228-9784-f2703193578f\",\"type\":\"GlyphRenderer\"},{\"id\":\"1e994f83-6ca8-47c6-a6b4-09a7fd998f5f\",\"type\":\"GlyphRenderer\"},{\"id\":\"e3370663-ff39-4a09-ae5c-b0508312e86d\",\"type\":\"GlyphRenderer\"},{\"id\":\"397b9d6d-86fa-40b0-aedb-cd2a551839ff\",\"type\":\"GlyphRenderer\"}],\"title\":{\"id\":\"6e4acbb5-be1e-4d06-8bdb-0124504ee777\",\"type\":\"Title\"},\"toolbar\":{\"id\":\"b24925f2-c011-4665-af2e-9c885ebc63c8\",\"type\":\"Toolbar\"},\"x_range\":{\"id\":\"34d7ac8c-2703-4b18-b727-8c2eda520429\",\"type\":\"Range1d\"},\"x_scale\":{\"id\":\"3e90762c-7d6f-48f0-a311-1839c649cb0c\",\"type\":\"LinearScale\"},\"y_range\":{\"id\":\"a5979bd2-073d-4747-bfb4-ad2d7ff1ee4a\",\"type\":\"Range1d\"},\"y_scale\":{\"id\":\"21bc2094-1835-42fd-a6dd-752df6500432\",\"type\":\"LinearScale\"}},\"id\":\"85c23b0d-e371-4dd5-a9c6-4be8abe7783f\",\"subtype\":\"Figure\",\"type\":\"Plot\"},{\"attributes\":{\"formatter\":{\"id\":\"52c460af-6089-4e2c-80c5-93b38e0635c2\",\"type\":\"BasicTickFormatter\"},\"plot\":{\"id\":\"85c23b0d-e371-4dd5-a9c6-4be8abe7783f\",\"subtype\":\"Figure\",\"type\":\"Plot\"},\"ticker\":{\"id\":\"9bb82c08-c9f9-4e76-8bda-ae26a2516c4a\",\"type\":\"BasicTicker\"}},\"id\":\"f8050b31-7e0d-4d6d-805f-49c57bf10ad7\",\"type\":\"LinearAxis\"},{\"attributes\":{},\"id\":\"b5e85647-72af-462a-8d86-27ffe74b834c\",\"type\":\"SaveTool\"},{\"attributes\":{},\"id\":\"5e08b18d-06d2-4eec-8350-74b15724f68c\",\"type\":\"PanTool\"},{\"attributes\":{},\"id\":\"e3c592ee-9382-41e8-aaf7-dc820b5ed148\",\"type\":\"PanTool\"},{\"attributes\":{\"data_source\":{\"id\":\"9b98687f-8c5b-4e13-b8ec-dea567cdb862\",\"type\":\"ColumnDataSource\"},\"glyph\":{\"id\":\"0d39d1b9-3e81-42a5-92fd-790c7e62f3e2\",\"type\":\"MultiLine\"},\"hover_glyph\":null,\"muted_glyph\":null,\"view\":{\"id\":\"c739a315-85e0-4c69-a043-6e8228a415be\",\"type\":\"CDSView\"}},\"id\":\"397b9d6d-86fa-40b0-aedb-cd2a551839ff\",\"type\":\"GlyphRenderer\"},{\"attributes\":{\"callback\":null,\"column_names\":[\"x0s\",\"x0\",\"x1s\",\"dzs\",\"z0\",\"d\",\"z1\",\"x1\"],\"data\":{\"d\":{\"__ndarray__\":\"AAAAAAAA+H8AAAAAAAD4fwAAAAAAAPh/AAAAAAAA+H8AAAAAAAD4fw==\",\"dtype\":\"float64\",\"shape\":[5]},\"dzs\":{\"__ndarray__\":\"AAAAAAAAAAAAAAAAAAAAAAAAAAAAAAAAAAAAAAAAAAAAAAAAAAAAAA==\",\"dtype\":\"float64\",\"shape\":[5]},\"x0\":{\"__ndarray__\":\"/o75Z7b5/T8Y67BmxyG3P8qvodMwMgPAOdjbQK1P5D/EUXm8PnrJvw==\",\"dtype\":\"float64\",\"shape\":[5]},\"x0s\":[{\"__ndarray__\":\"AAAAAAAA+H8AAAAAAAD4fw==\",\"dtype\":\"float64\",\"shape\":[2]},{\"__ndarray__\":\"AAAAAAAA+H8AAAAAAAD4fw==\",\"dtype\":\"float64\",\"shape\":[2]},{\"__ndarray__\":\"AAAAAAAA+H8AAAAAAAD4fw==\",\"dtype\":\"float64\",\"shape\":[2]},{\"__ndarray__\":\"AAAAAAAA+H8AAAAAAAD4fw==\",\"dtype\":\"float64\",\"shape\":[2]},{\"__ndarray__\":\"AAAAAAAA+H8AAAAAAAD4fw==\",\"dtype\":\"float64\",\"shape\":[2]}],\"x1\":{\"__ndarray__\":\"CSw78Hac4T9f5pz8jJHmP/wDUdVZ4PG/ivpISc4i5D/6BH+LHpDovw==\",\"dtype\":\"float64\",\"shape\":[5]},\"x1s\":[{\"__ndarray__\":\"AAAAAAAA+H8AAAAAAAD4fw==\",\"dtype\":\"float64\",\"shape\":[2]},{\"__ndarray__\":\"AAAAAAAA+H8AAAAAAAD4fw==\",\"dtype\":\"float64\",\"shape\":[2]},{\"__ndarray__\":\"AAAAAAAA+H8AAAAAAAD4fw==\",\"dtype\":\"float64\",\"shape\":[2]},{\"__ndarray__\":\"AAAAAAAA+H8AAAAAAAD4fw==\",\"dtype\":\"float64\",\"shape\":[2]},{\"__ndarray__\":\"AAAAAAAA+H8AAAAAAAD4fw==\",\"dtype\":\"float64\",\"shape\":[2]}],\"z0\":{\"__ndarray__\":\"AAAAAAAA+H8AAAAAAAD4fwAAAAAAAPh/AAAAAAAA+H8AAAAAAAD4fw==\",\"dtype\":\"float64\",\"shape\":[5]},\"z1\":{\"__ndarray__\":\"AAAAAAAA+H8AAAAAAAD4fwAAAAAAAPh/AAAAAAAA+H8AAAAAAAD4fw==\",\"dtype\":\"float64\",\"shape\":[5]}}},\"id\":\"9b98687f-8c5b-4e13-b8ec-dea567cdb862\",\"type\":\"ColumnDataSource\"},{\"attributes\":{\"callback\":null,\"end\":2.5,\"start\":-2.5},\"id\":\"a5979bd2-073d-4747-bfb4-ad2d7ff1ee4a\",\"type\":\"Range1d\"},{\"attributes\":{},\"id\":\"cd4601b7-cd34-40ef-b037-97048cd5669a\",\"type\":\"BasicTicker\"},{\"attributes\":{\"source\":{\"id\":\"9b98687f-8c5b-4e13-b8ec-dea567cdb862\",\"type\":\"ColumnDataSource\"}},\"id\":\"12e04144-0e00-4891-ad6e-f1f73d727f50\",\"type\":\"CDSView\"},{\"attributes\":{},\"id\":\"edb415b5-8d37-45f4-8710-043837a3d430\",\"type\":\"LinearScale\"},{\"attributes\":{\"args\":{\"ang\":{\"id\":\"9fa79735-823c-44e4-b499-f78a503e549f\",\"type\":\"Slider\"},\"source\":{\"id\":\"9b98687f-8c5b-4e13-b8ec-dea567cdb862\",\"type\":\"ColumnDataSource\"}},\"code\":\"\\n    var data = source.data;\\n    var x0 = data['x0']\\n    var x1 = data['x1']\\n    \\n    var d = data['d']\\n    \\n    var z0 = data['z0']\\n    var z1 = data['z1']\\n    \\n    var x0s = data['x0s']\\n    var x1s = data['x1s']\\n    \\n    var A = ang.value*Math.PI/180;\\n\\n    var w = [Math.cos(A), Math.sin(A)];\\n\\n    for (var i = 0; i < x0.length; i++) {\\n        d[i] = x0[i]*w[0] + x1[i]*w[1];\\n        z0[i] = w[0]*d[i];\\n        z1[i] = w[1]*d[i];\\n        x0s[i] = [x0[i], z0[i]];\\n        x1s[i] = [x1[i], z1[i]];\\n    }\\n\\n    data['z0'] = z0\\n    data['z1'] = z1\\n    data['x0s'] = x0s\\n    data['x1s'] = x1s\\n    data['d'] = d\\n    \\n    source.change.emit();\\n\"},\"id\":\"af93e8a6-43ac-497c-83d2-0cf9159b41f3\",\"type\":\"CustomJS\"},{\"attributes\":{\"active_drag\":\"auto\",\"active_inspect\":\"auto\",\"active_scroll\":\"auto\",\"active_tap\":\"auto\",\"tools\":[{\"id\":\"e3c592ee-9382-41e8-aaf7-dc820b5ed148\",\"type\":\"PanTool\"},{\"id\":\"543a1b5d-d755-4be1-9524-265627e6f6ca\",\"type\":\"WheelZoomTool\"},{\"id\":\"40013de6-e67e-4790-b7df-daf15e64e546\",\"type\":\"BoxZoomTool\"},{\"id\":\"b5e85647-72af-462a-8d86-27ffe74b834c\",\"type\":\"SaveTool\"},{\"id\":\"2444849a-1cd1-48de-b4db-d1ddb62b2aa8\",\"type\":\"ResetTool\"},{\"id\":\"d6a577d3-96a3-400b-83af-b57588ae0da7\",\"type\":\"HelpTool\"}]},\"id\":\"b24925f2-c011-4665-af2e-9c885ebc63c8\",\"type\":\"Toolbar\"},{\"attributes\":{\"dimension\":1,\"plot\":{\"id\":\"0c555e04-c488-40d6-ab45-89e862ec9af1\",\"subtype\":\"Figure\",\"type\":\"Plot\"},\"ticker\":{\"id\":\"dec348ab-4fd7-48b4-a1aa-81c468f8ab49\",\"type\":\"BasicTicker\"}},\"id\":\"3d844696-2e93-46d3-ad77-ff6ab55b51cd\",\"type\":\"Grid\"},{\"attributes\":{},\"id\":\"6ce6f64b-12a8-44d2-a811-32f67cd116a0\",\"type\":\"ResetTool\"},{\"attributes\":{\"children\":[{\"id\":\"5dd38324-4e7a-46bb-bc6c-46754b9f4f0d\",\"type\":\"Div\"}]},\"id\":\"c4b186e5-b929-43a8-a64b-a53b7f17dd78\",\"type\":\"WidgetBox\"},{\"attributes\":{\"bottom_units\":\"screen\",\"fill_alpha\":{\"value\":0.5},\"fill_color\":{\"value\":\"lightgrey\"},\"left_units\":\"screen\",\"level\":\"overlay\",\"line_alpha\":{\"value\":1.0},\"line_color\":{\"value\":\"black\"},\"line_dash\":[4,4],\"line_width\":{\"value\":2},\"plot\":null,\"render_mode\":\"css\",\"right_units\":\"screen\",\"top_units\":\"screen\"},\"id\":\"a33498ce-0fa7-4002-8daa-f1f4169d7d9e\",\"type\":\"BoxAnnotation\"},{\"attributes\":{\"fill_alpha\":{\"value\":0.1},\"fill_color\":{\"value\":\"#1f77b4\"},\"line_alpha\":{\"value\":0.1},\"line_color\":{\"value\":\"#1f77b4\"},\"x\":{\"field\":\"z0\"},\"y\":{\"field\":\"z1\"}},\"id\":\"ad35c7fd-86de-4437-8a5d-85b87faefa1b\",\"type\":\"Circle\"},{\"attributes\":{\"height\":95,\"width\":200},\"id\":\"5dd38324-4e7a-46bb-bc6c-46754b9f4f0d\",\"type\":\"Div\"},{\"attributes\":{\"fill_alpha\":{\"value\":0.6},\"fill_color\":{\"value\":\"firebrick\"},\"line_alpha\":{\"value\":0.6},\"line_color\":{\"value\":\"firebrick\"},\"x\":{\"field\":\"d\"},\"y\":{\"field\":\"dzs\"}},\"id\":\"b3379a44-44a7-4c71-8fea-64dbfe900a0d\",\"type\":\"Circle\"}],\"root_ids\":[\"d0cc0698-9205-4724-a99f-bb5c922118af\"]},\"title\":\"Bokeh Application\",\"version\":\"0.12.14\"}};\n",
       "  var render_items = [{\"docid\":\"01b521bd-7d59-421c-92db-6dd6c43366c2\",\"elementid\":\"422ca579-18f4-4b86-8db8-fb0726ae79ae\",\"modelid\":\"d0cc0698-9205-4724-a99f-bb5c922118af\"}];\n",
       "  root.Bokeh.embed.embed_items_notebook(docs_json, render_items);\n",
       "\n",
       "  }\n",
       "  if (root.Bokeh !== undefined) {\n",
       "    embed_document(root);\n",
       "  } else {\n",
       "    var attempts = 0;\n",
       "    var timer = setInterval(function(root) {\n",
       "      if (root.Bokeh !== undefined) {\n",
       "        embed_document(root);\n",
       "        clearInterval(timer);\n",
       "      }\n",
       "      attempts++;\n",
       "      if (attempts > 100) {\n",
       "        console.log(\"Bokeh: ERROR: Unable to run BokehJS code because BokehJS library is missing\")\n",
       "        clearInterval(timer);\n",
       "      }\n",
       "    }, 10, root)\n",
       "  }\n",
       "})(window);"
      ],
      "application/vnd.bokehjs_exec.v0+json": ""
     },
     "metadata": {
      "application/vnd.bokehjs_exec.v0+json": {
       "id": "d0cc0698-9205-4724-a99f-bb5c922118af"
      }
     },
     "output_type": "display_data"
    }
   ],
   "source": [
    "# bokeh plot\n",
    "\n",
    "# pre-populate data source object\n",
    "z0 = np.nan*np.zeros(len(X))\n",
    "z1 = np.nan*np.zeros(len(X))\n",
    "x0s = [np.array(np.nan*np.zeros(2)) for i in range(0,len(X))]\n",
    "x1s = [np.array(np.nan*np.zeros(2)) for i in range(0,len(X))]\n",
    "d = np.nan*np.zeros(len(X))\n",
    "dzs = np.zeros(len(X))\n",
    "\n",
    "# data source\n",
    "source_data = ColumnDataSource(data=dict(x0=X[:,0], x1=X[:,1], z0=z0, z1=z1, x0s=x0s, x1s=x1s, d=d, dzs=dzs))\n",
    "\n",
    "# main plot\n",
    "plot = figure(x_range=(-3, 2.5), y_range=(-2.5, 2.5), plot_width=600, plot_height=600, match_aspect=True)\n",
    "\n",
    "# plot the new components in the mini-plot on the right\n",
    "var_plot = figure(x_range=(-3, 3), y_range=(-2.5, 2.5), plot_width = 300, plot_height = 300)\n",
    "var_plot.scatter('d', 'dzs', source=source_data, color='firebrick', alpha=0.6)\n",
    "\n",
    "# plot the data\n",
    "plot.scatter('x0', 'x1', source=source_data, color='navy', alpha=0.6, size=5)\n",
    "\n",
    "# plot the new axis\n",
    "plot.line('z0', 'z1', source=source_data, color='black', alpha=0.5)\n",
    "\n",
    "# plot the projections of the data onto the rotating line\n",
    "plot.scatter('z0', 'z1', source=source_data, color='firebrick', alpha=0.6)\n",
    "\n",
    "# plot all the lines connecting the data dots to the projection dots\n",
    "glyph = MultiLine(xs = \"x0s\", ys = \"x1s\", line_color=\"#8073ac\", line_width=1)\n",
    "plot.add_glyph(source_data, glyph)\n",
    "\n",
    "# the javascript code that calculates all the projection dots depending upon the user-chosen angle for the line to project onto\n",
    "callback = CustomJS(args=dict(source=source_data), code=\"\"\"\n",
    "    var data = source.data;\n",
    "    var x0 = data['x0']\n",
    "    var x1 = data['x1']\n",
    "    \n",
    "    var d = data['d']\n",
    "    \n",
    "    var z0 = data['z0']\n",
    "    var z1 = data['z1']\n",
    "    \n",
    "    var x0s = data['x0s']\n",
    "    var x1s = data['x1s']\n",
    "    \n",
    "    var A = ang.value*Math.PI/180;\n",
    "\n",
    "    var w = [Math.cos(A), Math.sin(A)];\n",
    "\n",
    "    for (var i = 0; i < x0.length; i++) {\n",
    "        d[i] = x0[i]*w[0] + x1[i]*w[1];\n",
    "        z0[i] = w[0]*d[i];\n",
    "        z1[i] = w[1]*d[i];\n",
    "        x0s[i] = [x0[i], z0[i]];\n",
    "        x1s[i] = [x1[i], z1[i]];\n",
    "    }\n",
    "\n",
    "    data['z0'] = z0\n",
    "    data['z1'] = z1\n",
    "    data['x0s'] = x0s\n",
    "    data['x1s'] = x1s\n",
    "    data['d'] = d\n",
    "    \n",
    "    source.change.emit();\n",
    "\"\"\")\n",
    "\n",
    "# make the slider bar\n",
    "ang_slider = Slider(start=0, end=180, value=1, step=.05, title=\"Angle\", callback=callback)\n",
    "callback.args[\"ang\"] = ang_slider\n",
    "\n",
    "# add output text\n",
    "div = Div(text=\"Instructions: There's a lot of code in the cell above! What just happened? The blue dots are our original data points. We are choosing the direction of the first PC for this dataset; this direction is represented by the black line. The red dots are the projections of the data onto the new basis direction. Using the slider bar, change the angle of the new basis direction, and observe how the projections and the variance of the projections, represented by the spread of the points in the plot on the right, change.\", width=900, height=100)\n",
    "\n",
    "# empty space div\n",
    "space_div_1 = Div(width=200, height=80)\n",
    "space_div_2 = Div(width=200, height=95)\n",
    "\n",
    "# plot layout\n",
    "lo = layout([\n",
    "  [[widgetbox(div), plot], [widgetbox(space_div_1), widgetbox(ang_slider), widgetbox(space_div_2), var_plot]],\n",
    "])\n",
    "\n",
    "# display\n",
    "show(lo)"
   ]
  },
  {
   "cell_type": "markdown",
   "metadata": {},
   "source": [
    "## Quiz\n",
    "Once you've played around with the interactive plot above, submit the following quiz. Based on what you've learned in the lessons about what PCA does, eyeball the plot above and choose the approximate direction of the first principal component for the above dataset. Submit your answer as an angle in degrees. Here, we are just looking for an approximate value, so we are not looking for a calculation of the correct angle, just an approximation. It will be scored correct if it's right to within ±10°."
   ]
  },
  {
   "cell_type": "code",
   "execution_count": 6,
   "metadata": {},
   "outputs": [
    {
     "name": "stdout",
     "output_type": "stream",
     "text": [
      "Tests Passed\n"
     ]
    }
   ],
   "source": [
    "import quiz_tests\n",
    "\n",
    "# Fill in the value of the angle\n",
    "angle = 24.4\n",
    "\n",
    "quiz_tests.test_direction_of_first_PC(angle)"
   ]
  },
  {
   "cell_type": "code",
   "execution_count": null,
   "metadata": {
    "collapsed": true
   },
   "outputs": [],
   "source": []
  }
 ],
 "metadata": {
  "kernelspec": {
   "display_name": "Python 3",
   "language": "python",
   "name": "python3"
  },
  "language_info": {
   "codemirror_mode": {
    "name": "ipython",
    "version": 3
   },
   "file_extension": ".py",
   "mimetype": "text/x-python",
   "name": "python",
   "nbconvert_exporter": "python",
   "pygments_lexer": "ipython3",
   "version": "3.5.6"
  }
 },
 "nbformat": 4,
 "nbformat_minor": 2
}
