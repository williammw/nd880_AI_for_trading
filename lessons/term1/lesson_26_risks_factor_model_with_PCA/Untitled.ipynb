{
 "cells": [
  {
   "cell_type": "code",
   "execution_count": 3,
   "metadata": {},
   "outputs": [],
   "source": [
    "import numpy as np\n",
    "import pandas as pd"
   ]
  },
  {
   "cell_type": "code",
   "execution_count": 5,
   "metadata": {},
   "outputs": [],
   "source": [
    "df2 = pd.DataFrame(np.array([[1, 2, 3], [4, 5, 6], [7, 8, 9]]),\n",
    "                   ['a', 'b', 'c'], ['d','e','f'])"
   ]
  },
  {
   "cell_type": "code",
   "execution_count": 6,
   "metadata": {},
   "outputs": [
    {
     "data": {
      "text/html": [
       "<div>\n",
       "<table border=\"1\" class=\"dataframe\">\n",
       "  <thead>\n",
       "    <tr style=\"text-align: right;\">\n",
       "      <th></th>\n",
       "      <th>d</th>\n",
       "      <th>e</th>\n",
       "      <th>f</th>\n",
       "    </tr>\n",
       "  </thead>\n",
       "  <tbody>\n",
       "    <tr>\n",
       "      <th>a</th>\n",
       "      <td>1</td>\n",
       "      <td>2</td>\n",
       "      <td>3</td>\n",
       "    </tr>\n",
       "    <tr>\n",
       "      <th>b</th>\n",
       "      <td>4</td>\n",
       "      <td>5</td>\n",
       "      <td>6</td>\n",
       "    </tr>\n",
       "    <tr>\n",
       "      <th>c</th>\n",
       "      <td>7</td>\n",
       "      <td>8</td>\n",
       "      <td>9</td>\n",
       "    </tr>\n",
       "  </tbody>\n",
       "</table>\n",
       "</div>"
      ],
      "text/plain": [
       "   d  e  f\n",
       "a  1  2  3\n",
       "b  4  5  6\n",
       "c  7  8  9"
      ]
     },
     "execution_count": 6,
     "metadata": {},
     "output_type": "execute_result"
    }
   ],
   "source": [
    "df2"
   ]
  },
  {
   "cell_type": "code",
   "execution_count": 25,
   "metadata": {},
   "outputs": [
    {
     "name": "stdout",
     "output_type": "stream",
     "text": [
      "['as', 'i', 'was', 'waiting', 'a', 'man', 'came', 'out', 'of', 'a', 'side', 'room', 'and', 'at', 'a', 'glance', 'i', 'was', 'sure', 'he', 'must', 'be', 'long', 'john', 'his', 'left', 'leg', 'was', 'cut', 'off', 'close', 'by', 'the', 'hip', 'and', 'under', 'the', 'left', 'shoulder', 'he', 'carried', 'a', 'crutch', 'which', 'he', 'managed', 'with', 'wonderful', 'dexterity', 'hopping', 'about', 'upon', 'it', 'like', 'a', 'bird', 'he', 'was', 'very', 'tall', 'and', 'strong', 'with', 'a', 'face', 'as', 'big', 'as', 'a', 'ham—plain', 'and', 'pale', 'but', 'intelligent', 'and', 'smiling', 'indeed', 'he', 'seemed', 'in', 'the', 'most', 'cheerful', 'spirits', 'whistling', 'as', 'he', 'moved', 'about', 'among', 'the', 'tables', 'with', 'a', 'merry', 'word', 'or', 'a', 'slap', 'on', 'the', 'shoulder', 'for', 'the', 'more', 'favoured', 'of', 'his', 'guests']\n"
     ]
    },
    {
     "data": {
      "text/plain": [
       "{'a': 9,\n",
       " 'about': 2,\n",
       " 'among': 1,\n",
       " 'and': 5,\n",
       " 'as': 4,\n",
       " 'at': 1,\n",
       " 'be': 1,\n",
       " 'big': 1,\n",
       " 'bird': 1,\n",
       " 'but': 1,\n",
       " 'by': 1,\n",
       " 'came': 1,\n",
       " 'carried': 1,\n",
       " 'cheerful': 1,\n",
       " 'close': 1,\n",
       " 'crutch': 1,\n",
       " 'cut': 1,\n",
       " 'dexterity': 1,\n",
       " 'face': 1,\n",
       " 'favoured': 1,\n",
       " 'for': 1,\n",
       " 'glance': 1,\n",
       " 'guests': 1,\n",
       " 'ham—plain': 1,\n",
       " 'he': 6,\n",
       " 'hip': 1,\n",
       " 'his': 2,\n",
       " 'hopping': 1,\n",
       " 'i': 2,\n",
       " 'in': 1,\n",
       " 'indeed': 1,\n",
       " 'intelligent': 1,\n",
       " 'it': 1,\n",
       " 'john': 1,\n",
       " 'left': 2,\n",
       " 'leg': 1,\n",
       " 'like': 1,\n",
       " 'long': 1,\n",
       " 'man': 1,\n",
       " 'managed': 1,\n",
       " 'merry': 1,\n",
       " 'more': 1,\n",
       " 'most': 1,\n",
       " 'moved': 1,\n",
       " 'must': 1,\n",
       " 'of': 2,\n",
       " 'off': 1,\n",
       " 'on': 1,\n",
       " 'or': 1,\n",
       " 'out': 1,\n",
       " 'pale': 1,\n",
       " 'room': 1,\n",
       " 'seemed': 1,\n",
       " 'shoulder': 2,\n",
       " 'side': 1,\n",
       " 'slap': 1,\n",
       " 'smiling': 1,\n",
       " 'spirits': 1,\n",
       " 'strong': 1,\n",
       " 'sure': 1,\n",
       " 'tables': 1,\n",
       " 'tall': 1,\n",
       " 'the': 6,\n",
       " 'under': 1,\n",
       " 'upon': 1,\n",
       " 'very': 1,\n",
       " 'waiting': 1,\n",
       " 'was': 4,\n",
       " 'which': 1,\n",
       " 'whistling': 1,\n",
       " 'with': 3,\n",
       " 'wonderful': 1,\n",
       " 'word': 1}"
      ]
     },
     "execution_count": 25,
     "metadata": {},
     "output_type": "execute_result"
    }
   ],
   "source": [
    "text= \"As I was waiting, a man came out of a side room, and at a glance I was sure he must be Long John. His left leg was cut off close by the hip, and under the left shoulder he carried a crutch, which he managed with wonderful dexterity, hopping about upon it like a bird. He was very tall and strong, with a face as big as a ham—plain and pale, but intelligent and smiling. Indeed, he seemed in the most cheerful spirits, whistling as he moved about among the tables, with a merry word or a slap on the shoulder for the more favoured of his guests.\"\n",
    "\n",
    "\"\"\"Count words.\"\"\"\n",
    "\n",
    "\n",
    "def count_words(text):\n",
    "    \"\"\"Count how many times each unique word occurs in text.\"\"\"\n",
    "    counts = dict()  # dictionary of { <word>: <count> } pairs to return\n",
    "    words = text.lower().replace(',','').replace('.','').replace('!','').split(\" \")\n",
    "    # TODO: Convert to lowercase\n",
    "    print(words)\n",
    "    for word in words:\n",
    "        if counts.get(word) == None:\n",
    "            counts[word] = 1\n",
    "        else:\n",
    "            counts[word] += 1\n",
    "        \n",
    "    # TODO: Split text into tokens (words), leaving out punctuation\n",
    "    # (Hint: Use regex to split on non-alphanumeric characters)\n",
    "    \n",
    "    # TODO: Aggregate word counts using a dictionary\n",
    "    \n",
    "    return counts\n",
    "\n",
    "count_words(text)"
   ]
  },
  {
   "cell_type": "code",
   "execution_count": null,
   "metadata": {},
   "outputs": [],
   "source": []
  }
 ],
 "metadata": {
  "kernelspec": {
   "display_name": "Python 3",
   "language": "python",
   "name": "python3"
  },
  "language_info": {
   "codemirror_mode": {
    "name": "ipython",
    "version": 3
   },
   "file_extension": ".py",
   "mimetype": "text/x-python",
   "name": "python",
   "nbconvert_exporter": "python",
   "pygments_lexer": "ipython3",
   "version": "3.5.6"
  }
 },
 "nbformat": 4,
 "nbformat_minor": 4
}
