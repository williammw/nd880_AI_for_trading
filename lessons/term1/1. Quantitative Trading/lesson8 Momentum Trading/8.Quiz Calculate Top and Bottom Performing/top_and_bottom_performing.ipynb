{
 "cells": [
  {
   "cell_type": "markdown",
   "metadata": {},
   "source": [
    "# Top and Bottom Performing\n",
    "Let's look at how we might get the top performing stocks for a single period. For this example, we'll look at just a single month of closing prices:"
   ]
  },
  {
   "cell_type": "code",
   "execution_count": 12,
   "metadata": {},
   "outputs": [
    {
     "name": "stdout",
     "output_type": "stream",
     "text": [
      "Collecting Quandl\n",
      "  Downloading https://files.pythonhosted.org/packages/07/ab/8cd479fba8a9b197a43a0d55dd534b066fb8e5a0a04b5c0384cbc5d663aa/Quandl-3.5.0-py2.py3-none-any.whl\n",
      "Requirement already satisfied: numpy>=1.8 in /opt/conda/lib/python3.6/site-packages (from Quandl) (1.12.1)\n",
      "Collecting inflection>=0.3.1 (from Quandl)\n",
      "  Downloading https://files.pythonhosted.org/packages/d5/35/a6eb45b4e2356fe688b21570864d4aa0d0a880ce387defe9c589112077f8/inflection-0.3.1.tar.gz\n",
      "Requirement already satisfied: six in /opt/conda/lib/python3.6/site-packages (from Quandl) (1.11.0)\n",
      "Requirement already satisfied: python-dateutil in /opt/conda/lib/python3.6/site-packages (from Quandl) (2.6.1)\n",
      "Requirement already satisfied: more-itertools in /opt/conda/lib/python3.6/site-packages (from Quandl) (7.0.0)\n",
      "Requirement already satisfied: requests>=2.7.0 in /opt/conda/lib/python3.6/site-packages (from Quandl) (2.18.4)\n",
      "Requirement already satisfied: pandas>=0.14 in /opt/conda/lib/python3.6/site-packages (from Quandl) (0.23.3)\n",
      "Requirement already satisfied: chardet<3.1.0,>=3.0.2 in /opt/conda/lib/python3.6/site-packages (from requests>=2.7.0->Quandl) (3.0.4)\n",
      "Requirement already satisfied: idna<2.7,>=2.5 in /opt/conda/lib/python3.6/site-packages (from requests>=2.7.0->Quandl) (2.6)\n",
      "Requirement already satisfied: urllib3<1.23,>=1.21.1 in /opt/conda/lib/python3.6/site-packages (from requests>=2.7.0->Quandl) (1.22)\n",
      "Requirement already satisfied: certifi>=2017.4.17 in /opt/conda/lib/python3.6/site-packages (from requests>=2.7.0->Quandl) (2019.6.16)\n",
      "Requirement already satisfied: pytz>=2011k in /opt/conda/lib/python3.6/site-packages (from pandas>=0.14->Quandl) (2017.3)\n",
      "Building wheels for collected packages: inflection\n",
      "  Running setup.py bdist_wheel for inflection ... \u001b[?25ldone\n",
      "\u001b[?25h  Stored in directory: /root/.cache/pip/wheels/9f/5a/d3/6fc3bf6516d2a3eb7e18f9f28b472110b59325f3f258fe9211\n",
      "Successfully built inflection\n",
      "Installing collected packages: inflection, Quandl\n",
      "Successfully installed Quandl-3.5.0 inflection-0.3.1\n"
     ]
    }
   ],
   "source": [
    "!pip install Quandl"
   ]
  },
  {
   "cell_type": "code",
   "execution_count": 16,
   "metadata": {},
   "outputs": [
    {
     "name": "stderr",
     "output_type": "stream",
     "text": [
      "/opt/conda/lib/python3.6/site-packages/urllib3/connectionpool.py:858: InsecureRequestWarning: Unverified HTTPS request is being made. Adding certificate verification is strongly advised. See: https://urllib3.readthedocs.io/en/latest/advanced-usage.html#ssl-warnings\n",
      "  InsecureRequestWarning)\n"
     ]
    },
    {
     "data": {
      "text/plain": [
       "Date\n",
       "2018-07-09      NaN\n",
       "2018-07-10    16.80\n",
       "2018-07-11    19.00\n",
       "2018-07-12    19.00\n",
       "2018-07-13    19.26\n",
       "2018-07-16    21.45\n",
       "2018-07-17    21.05\n",
       "2018-07-18    20.90\n",
       "2018-07-19    21.55\n",
       "2018-07-20    20.10\n",
       "2018-07-23    19.88\n",
       "2018-07-24    19.02\n",
       "2018-07-25    18.24\n",
       "2018-07-26    18.58\n",
       "2018-07-27    18.30\n",
       "2018-07-30    19.04\n",
       "2018-07-31    18.68\n",
       "2018-08-01    17.60\n",
       "2018-08-02    17.86\n",
       "2018-08-03    17.26\n",
       "2018-08-06    17.00\n",
       "2018-08-07    17.22\n",
       "2018-08-08    17.42\n",
       "2018-08-09    17.14\n",
       "2018-08-10    18.08\n",
       "2018-08-13    18.16\n",
       "2018-08-14    17.44\n",
       "2018-08-15    17.16\n",
       "2018-08-16    16.30\n",
       "2018-08-17    16.24\n",
       "              ...  \n",
       "2019-12-06     9.07\n",
       "2019-12-09     9.34\n",
       "2019-12-10     9.32\n",
       "2019-12-11     9.21\n",
       "2019-12-12     9.99\n",
       "2019-12-13     9.93\n",
       "2019-12-16    10.40\n",
       "2019-12-17    10.52\n",
       "2019-12-18    10.68\n",
       "2019-12-19    10.50\n",
       "2019-12-20    10.36\n",
       "2019-12-23    10.34\n",
       "2019-12-24    10.24\n",
       "2019-12-27    10.56\n",
       "2019-12-30    10.80\n",
       "2019-12-31    10.64\n",
       "2020-01-02    10.78\n",
       "2020-01-03    11.22\n",
       "2020-01-06    10.90\n",
       "2020-01-07    10.98\n",
       "2020-01-08    11.00\n",
       "2020-01-09    11.08\n",
       "2020-01-10    11.50\n",
       "2020-01-13    11.42\n",
       "2020-01-14    11.90\n",
       "2020-01-15    11.68\n",
       "2020-01-16    12.26\n",
       "2020-01-17    12.22\n",
       "2020-01-20    13.24\n",
       "2020-01-21    13.30\n",
       "Name: Previous Close, Length: 380, dtype: float64"
      ]
     },
     "execution_count": 16,
     "metadata": {},
     "output_type": "execute_result"
    }
   ],
   "source": [
    "import quandl\n",
    "quandl.ApiConfig.api_key = 'xJq8FoisxxJrjCcLsE4P'\n",
    "quandl.ApiConfig.api_version = '2015-04-09'\n",
    "quandl.ApiConfig.verify_ssl = False\n",
    "\n",
    "k = quandl.get('HKEX/01810')\n",
    "k['Previous Close']"
   ]
  },
  {
   "cell_type": "code",
   "execution_count": 4,
   "metadata": {},
   "outputs": [
    {
     "data": {
      "text/html": [
       "<div>\n",
       "<style scoped>\n",
       "    .dataframe tbody tr th:only-of-type {\n",
       "        vertical-align: middle;\n",
       "    }\n",
       "\n",
       "    .dataframe tbody tr th {\n",
       "        vertical-align: top;\n",
       "    }\n",
       "\n",
       "    .dataframe thead th {\n",
       "        text-align: right;\n",
       "    }\n",
       "</style>\n",
       "<table border=\"1\" class=\"dataframe\">\n",
       "  <thead>\n",
       "    <tr style=\"text-align: right;\">\n",
       "      <th></th>\n",
       "      <th>A</th>\n",
       "      <th>B</th>\n",
       "      <th>C</th>\n",
       "      <th>D</th>\n",
       "      <th>E</th>\n",
       "      <th>F</th>\n",
       "      <th>G</th>\n",
       "      <th>H</th>\n",
       "    </tr>\n",
       "  </thead>\n",
       "  <tbody>\n",
       "    <tr>\n",
       "      <th>2018-02-01</th>\n",
       "      <td>1</td>\n",
       "      <td>12</td>\n",
       "      <td>35</td>\n",
       "      <td>3</td>\n",
       "      <td>79</td>\n",
       "      <td>2</td>\n",
       "      <td>15</td>\n",
       "      <td>59</td>\n",
       "    </tr>\n",
       "  </tbody>\n",
       "</table>\n",
       "</div>"
      ],
      "text/plain": [
       "            A   B   C  D   E  F   G   H\n",
       "2018-02-01  1  12  35  3  79  2  15  59"
      ]
     },
     "execution_count": 4,
     "metadata": {},
     "output_type": "execute_result"
    }
   ],
   "source": [
    "import pandas as pd\n",
    "\n",
    "month = pd.to_datetime('02/01/2018')\n",
    "close_month = pd.DataFrame(\n",
    "    {\n",
    "        'A': 1,\n",
    "        'B': 12,\n",
    "        'C': 35,\n",
    "        'D': 3,\n",
    "        'E': 79,\n",
    "        'F': 2,\n",
    "        'G': 15,\n",
    "        'H': 59},\n",
    "    [month])\n",
    "\n",
    "close_month"
   ]
  },
  {
   "cell_type": "code",
   "execution_count": 5,
   "metadata": {},
   "outputs": [
    {
     "data": {
      "text/html": [
       "<div>\n",
       "<style scoped>\n",
       "    .dataframe tbody tr th:only-of-type {\n",
       "        vertical-align: middle;\n",
       "    }\n",
       "\n",
       "    .dataframe tbody tr th {\n",
       "        vertical-align: top;\n",
       "    }\n",
       "\n",
       "    .dataframe thead th {\n",
       "        text-align: right;\n",
       "    }\n",
       "</style>\n",
       "<table border=\"1\" class=\"dataframe\">\n",
       "  <thead>\n",
       "    <tr style=\"text-align: right;\">\n",
       "      <th></th>\n",
       "      <th>APPL</th>\n",
       "      <th>MSFT</th>\n",
       "    </tr>\n",
       "  </thead>\n",
       "  <tbody>\n",
       "    <tr>\n",
       "      <th>2019-09-09</th>\n",
       "      <td>999.9</td>\n",
       "      <td>1111</td>\n",
       "    </tr>\n",
       "  </tbody>\n",
       "</table>\n",
       "</div>"
      ],
      "text/plain": [
       "             APPL  MSFT\n",
       "2019-09-09  999.9  1111"
      ]
     },
     "execution_count": 5,
     "metadata": {},
     "output_type": "execute_result"
    }
   ],
   "source": [
    "xtime = pd.to_datetime('09/09/2019')\n",
    "port_a =  pd.DataFrame({'APPL':999.9,'MSFT':1111},[xtime])\n",
    "\n",
    "port_a"
   ]
  },
  {
   "cell_type": "markdown",
   "metadata": {},
   "source": [
    "`close_month` gives use the prices for the month of February, 2018 for all the stocks in this universe (A, B, C, ...). Looking at these prices, we can see that the top 2 performing stocks for that month was E and H with the prices 79 and 59.\n",
    "\n",
    "To get this using code, we can use the [`Series.nlargest`](https://pandas.pydata.org/pandas-docs/version/0.21/generated/pandas.Series.nlargest.html) function. This function returns the items with the *n* largest numbers. For the example we just talked about, our *n* is 2."
   ]
  },
  {
   "cell_type": "code",
   "execution_count": 6,
   "metadata": {},
   "outputs": [
    {
     "name": "stdout",
     "output_type": "stream",
     "text": [
      "Error: nlargest() missing 1 required positional argument: 'columns'\n"
     ]
    }
   ],
   "source": [
    "try:\n",
    "    # Attempt to run nlargest\n",
    "    close_month.nlargest(2)\n",
    "except TypeError as err:\n",
    "    print('Error: {}'.format(err))"
   ]
  },
  {
   "cell_type": "markdown",
   "metadata": {},
   "source": [
    "What happeened here? It turns out we're not calling the [`Series.nlargest`](https://pandas.pydata.org/pandas-docs/version/0.21/generated/pandas.Series.nlargest.html) function, we're actually calling [`DataFrame.nlargest`](https://pandas.pydata.org/pandas-docs/version/0.21/generated/pandas.DataFrame.nlargest.html), since `close_month` is a DataFrame. Let's get the Series from the dataframe using `.loc[month]`, where `month` is the 2018-02-01 index created above."
   ]
  },
  {
   "cell_type": "code",
   "execution_count": 10,
   "metadata": {},
   "outputs": [
    {
     "data": {
      "text/plain": [
       "E    79\n",
       "Name: 2018-02-01 00:00:00, dtype: int64"
      ]
     },
     "execution_count": 10,
     "metadata": {},
     "output_type": "execute_result"
    }
   ],
   "source": [
    "close_month.loc[month].nlargest(1)"
   ]
  },
  {
   "cell_type": "markdown",
   "metadata": {},
   "source": [
    "Perfect! That gives us the top performing tickers for that month. Now, how do we get the bottom performing tickers? There's two ways to do this. You can use Panda's [`Series.nsmallest`](https://pandas.pydata.org/pandas-docs/version/0.21/generated/pandas.Series.nsmallest.html) function or just flip the sign on the prices and then apply [`DataFrame.nlargest`](https://pandas.pydata.org/pandas-docs/version/0.21/generated/pandas.DataFrame.nlargest.html). Either way is fine. For this course, we'll flip the sign with nlargest. This allows us to reuse any funtion created with nlargest to get the smallest.\n",
    "\n",
    "To get the bottom 2 performing tickers from `close_month`, we'll flip the sign."
   ]
  },
  {
   "cell_type": "code",
   "execution_count": 12,
   "metadata": {},
   "outputs": [
    {
     "data": {
      "text/plain": [
       "A   -1\n",
       "F   -2\n",
       "Name: 2018-02-01 00:00:00, dtype: int64"
      ]
     },
     "execution_count": 12,
     "metadata": {},
     "output_type": "execute_result"
    }
   ],
   "source": [
    "(-1 * close_month).loc[month].nlargest(2)"
   ]
  },
  {
   "cell_type": "markdown",
   "metadata": {},
   "source": [
    "That gives us the bottom performing tickers, but not the actual prices. To get this, we can flip the sign from the output of nlargest."
   ]
  },
  {
   "cell_type": "code",
   "execution_count": 13,
   "metadata": {},
   "outputs": [
    {
     "data": {
      "text/plain": [
       "A    1\n",
       "F    2\n",
       "Name: 2018-02-01 00:00:00, dtype: int64"
      ]
     },
     "execution_count": 13,
     "metadata": {},
     "output_type": "execute_result"
    }
   ],
   "source": [
    "(-1 * close_month).loc[month].nlargest(2) *-1"
   ]
  },
  {
   "cell_type": "markdown",
   "metadata": {},
   "source": [
    "Now you've seen how to get the top and bottom performing prices in a single month. Let's see if you can apply this knowledge.\n",
    "## Quiz\n",
    "Implement `date_top_industries` to find the top performing closing prices and return their sectors for a single date. The function should only return the [set](https://docs.python.org/3/tutorial/datastructures.html#sets) of sectors, there shouldn't be any duplicates returned.\n",
    "\n",
    "- The number of top performing prices to look at is represented by the parameter `top_n`.\n",
    "- The `date` parameter is the date to look for the top performing prices in the `prices` DataFrame.\n",
    "- The sector information for each ticker is located in the `sector` parameter.\n",
    "\n",
    "For example:\n",
    "```\n",
    "                 Prices\n",
    "               A         B         C         D         E\n",
    "2013-07-08     2         2         7         2         6\n",
    "2013-07-09     5         3         6         7         5\n",
    "...            ...       ...       ...\n",
    "\n",
    "           Sector\n",
    "A       \"Utilities\"       \n",
    "B       \"Health Care\"       \n",
    "C       \"Real Estate\"\n",
    "D       \"Real Estate\"\n",
    "E       \"Information Technology\"\n",
    "\n",
    "Date:  2013-07-09\n",
    "Top N: 3\n",
    "```\n",
    "The set created from the function `date_top_industries` should be the following:\n",
    "```\n",
    "{\"Utilities\", \"Real Estate\"}\n",
    "```\n",
    "*Note: Stock A and E have the same price for the date, but only A's sector got returned. We'll keep it simple and only take the first occurrences of ties.*"
   ]
  },
  {
   "cell_type": "code",
   "execution_count": null,
   "metadata": {},
   "outputs": [],
   "source": [
    "import project_tests\n",
    "\n",
    "\n",
    "def date_top_industries(prices, sector, date, top_n):\n",
    "    \"\"\"\n",
    "    Get the set of the top industries for the date\n",
    "    \n",
    "    Parameters\n",
    "    ----------\n",
    "    prices : DataFrame\n",
    "        Prices for each ticker and date\n",
    "    sector : Series\n",
    "        Sector name for each ticker\n",
    "    date : Date\n",
    "        Date to get the top performers\n",
    "    top_n : int\n",
    "        Number of top performers to get\n",
    "    \n",
    "    Returns\n",
    "    -------\n",
    "    top_industries : set\n",
    "        Top industries for the date\n",
    "    \"\"\"\n",
    "    print(prices)\n",
    "    print(\"\\n\\n\\n\\n\")\n",
    "    print(sector[0])\n",
    "    #print(\"______________________\")\n",
    "    #print(date)\n",
    "    #print(\"______________________\")\n",
    "    #print(top_n)\n",
    "    #print(prices.loc[date].nlargest(top_n))\n",
    "    #print(sector)\n",
    "    # TODO: Implement Function\n",
    "    #w = \n",
    "    print(set(sector.loc[prices.loc[date].nlargest(top_n).index]))\n",
    "    return set(sector.loc[prices.loc[date].nlargest(top_n).index])\n",
    "\n",
    "\n",
    "project_tests.test_date_top_industries(date_top_industries)"
   ]
  },
  {
   "cell_type": "markdown",
   "metadata": {},
   "source": [
    "## Quiz Solution\n",
    "If you're having trouble, you can check out the quiz solution [here](top_and_bottom_performing_solution.ipynb)."
   ]
  }
 ],
 "metadata": {
  "kernelspec": {
   "display_name": "Python 3",
   "language": "python",
   "name": "python3"
  },
  "language_info": {
   "codemirror_mode": {
    "name": "ipython",
    "version": 3
   },
   "file_extension": ".py",
   "mimetype": "text/x-python",
   "name": "python",
   "nbconvert_exporter": "python",
   "pygments_lexer": "ipython3",
   "version": "3.6.3"
  }
 },
 "nbformat": 4,
 "nbformat_minor": 2
}
