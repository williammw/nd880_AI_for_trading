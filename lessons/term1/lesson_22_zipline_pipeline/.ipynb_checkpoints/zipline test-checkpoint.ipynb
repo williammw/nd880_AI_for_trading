{
 "cells": [
  {
   "cell_type": "markdown",
   "metadata": {},
   "source": [
    "# Zipline Pipeline"
   ]
  },
  {
   "cell_type": "code",
   "execution_count": null,
   "metadata": {},
   "outputs": [],
   "source": [
    "# https://knowledge.udacity.com/questions/49130\n",
    "# https://www.quantopian.com/posts/guide-for-porting-your-algorithms-to-a-local-zipline-research-environment"
   ]
  },
  {
   "cell_type": "code",
   "execution_count": 1,
   "metadata": {},
   "outputs": [],
   "source": [
    "import sys\n",
    "#!{sys.executable} -m pip install -r requirements.txt\n",
    "# ~/.zipline/ <- dl data"
   ]
  },
  {
   "cell_type": "code",
   "execution_count": 6,
   "metadata": {},
   "outputs": [],
   "source": [
    "import os\n",
    "import pandas_datareader.data as pdr\n",
    "import datetime as dt\n",
    "import requests_cache\n",
    "import pandas as pd\n",
    "import pytz"
   ]
  },
  {
   "cell_type": "code",
   "execution_count": 7,
   "metadata": {},
   "outputs": [],
   "source": [
    "#!{sys.executable} -m pip install tensorflow --upgrade \n",
    "#!{sys.executable} -m pip install numpy --upgrade"
   ]
  },
  {
   "cell_type": "code",
   "execution_count": 9,
   "metadata": {},
   "outputs": [],
   "source": [
    "from zipline.data import bundles\n",
    "from zipline.data.bundles.csvdir import csvdir_equities"
   ]
  },
  {
   "cell_type": "code",
   "execution_count": 10,
   "metadata": {},
   "outputs": [
    {
     "data": {
      "text/plain": [
       "'xJq8FoisxxJrjCcLsE4P'"
      ]
     },
     "execution_count": 10,
     "metadata": {},
     "output_type": "execute_result"
    }
   ],
   "source": [
    "f = open(\"/Users/manwaiwong/key/quandl.txt\",\"r\")\n",
    "\n",
    "if f.mode == 'r':\n",
    "    c = f.read() \n",
    "    #print(c)\n",
    "c"
   ]
  },
  {
   "cell_type": "code",
   "execution_count": 28,
   "metadata": {
    "scrolled": true
   },
   "outputs": [],
   "source": [
    "\n",
    "# print(pdr.get_data_fred('GS10'))\n",
    "\n",
    "# option \n",
    "tickers = [\"HKEX/01810\"]\n",
    "# ticker = \"HKEX/HSINX2019\"\n",
    "# ticker = \"HKEX/00001\"\n",
    "# \n",
    "# ticker = \"0001.hk\"\n",
    "\n",
    "expire_after = dt.timedelta(days=1)\n",
    "session = requests_cache.CachedSession(cache_name='cache', backend='sqlite', expire_after=expire_after)\n",
    "start = dt.date.today() - dt.timedelta(360)\n",
    "end = dt.date.today() \n",
    "#print(end)\n",
    "qkey = c\n",
    "\n",
    "#[date, open , high, low, close, adj close, volume]\n",
    "close_prices = pd.DataFrame() # dataframe to store close price of each ticker\n",
    "attempt = 0 # initializing passthrough variable\n",
    "drop = [] # initializing list to store tickers whose close price was successfully extracted\n",
    "## loop tickers get data\n",
    "while len(tickers) != 0 and attempt <= 5:\n",
    "    tickers = [j for j in tickers if j not in drop] # removing stocks whose data has been extracted from the ticker list\n",
    "    for i in range(len(tickers)):\n",
    "        try:\n",
    "            #print(i)\n",
    "            file_name = tickers[i].replace('/','_')\n",
    "            #print(file_name)\n",
    "            save_path = r'/Volumes/TWD_00001/ssd_workspace/nd880_AI_for_trading/lessons/lesson_22_zipline_pipeline/data/daily/{}.csv'.format(file_name)\n",
    "            #print(tickers[i])\n",
    "            temp = pdr.DataReader(tickers[i], 'quandl', start, end, api_key=qkey, session=session)\n",
    "            #print(temp['NominalPrice'])\n",
    "            #[date, open , high, low, close, adj close, volume]\n",
    "            \n",
    "            \n",
    "            close_prices['open'] =  temp['PreviousClose']\n",
    "            close_prices['high'] =  temp['High']\n",
    "            close_prices['low'] =  temp['Low']\n",
    "            close_prices['close'] =  temp['NominalPrice']\n",
    "            close_prices['adj close'] =  temp['NominalPrice']\n",
    "            close_prices['volume'] =  temp['ShareVolume000']\n",
    "            \n",
    "            #print(close_prices)\n",
    "            close_prices.to_csv(save_path) \n",
    "            temp.dropna(inplace = True)\n",
    "            drop.append(tickers[i])       \n",
    "        except:\n",
    "            print(tickers[i],\" :failed to fetch data...retrying\")\n",
    "            continue\n",
    "    attempt+=1"
   ]
  },
  {
   "cell_type": "code",
   "execution_count": 40,
   "metadata": {},
   "outputs": [],
   "source": [
    "from collections import OrderedDict\n",
    "import pytz\n",
    "\n",
    "data = OrderedDict()\n",
    "data[\"HKEX_01810\"] = pd.read_csv(\"/Volumes/TWD_00001/ssd_workspace/nd880_AI_for_trading/lessons/lesson_22_zipline_pipeline/data/daily/HKEX_01810.csv\", index_col = 0)\n",
    "\n"
   ]
  },
  {
   "cell_type": "code",
   "execution_count": 42,
   "metadata": {},
   "outputs": [],
   "source": [
    "# import resources\n",
    "from zipline.pipeline import Pipeline\n",
    "from zipline.pipeline.factors import AverageDollarVolume\n",
    "\n",
    "# Create a screen for our Pipeline\n",
    "universe = AverageDollarVolume(window_length = 60).top(10)\n",
    "\n",
    "# Create an empty Pipeline with the given screen\n",
    "pipeline = Pipeline(screen = universe)\n"
   ]
  },
  {
   "cell_type": "code",
   "execution_count": 44,
   "metadata": {},
   "outputs": [
    {
     "ename": "NameError",
     "evalue": "name 'bundle_data' is not defined",
     "output_type": "error",
     "traceback": [
      "\u001b[0;31m---------------------------------------------------------------------------\u001b[0m",
      "\u001b[0;31mNameError\u001b[0m                                 Traceback (most recent call last)",
      "\u001b[0;32m<ipython-input-44-48941eee6084>\u001b[0m in \u001b[0;36m<module>\u001b[0;34m()\u001b[0m\n\u001b[1;32m      6\u001b[0m \u001b[0;34m\u001b[0m\u001b[0m\n\u001b[1;32m      7\u001b[0m \u001b[0;31m# Set the dataloader\u001b[0m\u001b[0;34m\u001b[0m\u001b[0;34m\u001b[0m\u001b[0m\n\u001b[0;32m----> 8\u001b[0;31m \u001b[0mpricing_loader\u001b[0m \u001b[0;34m=\u001b[0m \u001b[0mUSEquityPricingLoader\u001b[0m\u001b[0;34m(\u001b[0m\u001b[0mbundle_data\u001b[0m\u001b[0;34m.\u001b[0m\u001b[0mequity_daily_bar_reader\u001b[0m\u001b[0;34m,\u001b[0m \u001b[0mbundle_data\u001b[0m\u001b[0;34m.\u001b[0m\u001b[0madjustment_reader\u001b[0m\u001b[0;34m)\u001b[0m\u001b[0;34m\u001b[0m\u001b[0m\n\u001b[0m\u001b[1;32m      9\u001b[0m \u001b[0;34m\u001b[0m\u001b[0m\n\u001b[1;32m     10\u001b[0m \u001b[0;31m# Define the function for the get_loader parameter\u001b[0m\u001b[0;34m\u001b[0m\u001b[0;34m\u001b[0m\u001b[0m\n",
      "\u001b[0;31mNameError\u001b[0m: name 'bundle_data' is not defined"
     ]
    }
   ],
   "source": [
    "# import resources\n",
    "from zipline.utils.calendars import get_calendar\n",
    "from zipline.pipeline.data import USEquityPricing\n",
    "from zipline.pipeline.engine import SimplePipelineEngine\n",
    "from zipline.pipeline.loaders import USEquityPricingLoader\n",
    "\n",
    "# Set the dataloader\n",
    "pricing_loader = USEquityPricingLoader(bundle_data.equity_daily_bar_reader, bundle_data.adjustment_reader)\n",
    "\n",
    "# Define the function for the get_loader parameter\n",
    "def choose_loader(column):\n",
    "    if column not in USEquityPricing.columns:\n",
    "        raise Exception('Column not in USEquityPricing')\n",
    "    return pricing_loader\n",
    "# Set the trading calendar\n",
    "trading_calendar = get_calendar('NYSE')\n",
    "\n",
    "# Create a Pipeline engine\n",
    "engine = SimplePipelineEngine(get_loader = choose_loader,\n",
    "                              calendar = trading_calendar.all_sessions,\n",
    "                              asset_finder = bundle_data.asset_finder)\n"
   ]
  },
  {
   "cell_type": "code",
   "execution_count": 41,
   "metadata": {},
   "outputs": [],
   "source": [
    "# export QUANDL_API_KEY=\"xJq8FoisxxJrjCcLsE4P\" do it in terminal when conda 'ai_trade'"
   ]
  },
  {
   "cell_type": "code",
   "execution_count": 136,
   "metadata": {},
   "outputs": [],
   "source": [
    "#%zipline ingest -b quantopian-quandl"
   ]
  },
  {
   "cell_type": "code",
   "execution_count": 137,
   "metadata": {},
   "outputs": [],
   "source": [
    "#%zipline --bundle quantopian-quandl --start 2018-7-1 --end 2019-7-19 -o backtest.pickle"
   ]
  },
  {
   "cell_type": "markdown",
   "metadata": {},
   "source": [
    "# 2nd attempt"
   ]
  },
  {
   "cell_type": "code",
   "execution_count": null,
   "metadata": {},
   "outputs": [],
   "source": []
  }
 ],
 "metadata": {
  "kernelspec": {
   "display_name": "Python 3",
   "language": "python",
   "name": "python3"
  },
  "language_info": {
   "codemirror_mode": {
    "name": "ipython",
    "version": 3
   },
   "file_extension": ".py",
   "mimetype": "text/x-python",
   "name": "python",
   "nbconvert_exporter": "python",
   "pygments_lexer": "ipython3",
   "version": "3.5.6"
  }
 },
 "nbformat": 4,
 "nbformat_minor": 4
}
