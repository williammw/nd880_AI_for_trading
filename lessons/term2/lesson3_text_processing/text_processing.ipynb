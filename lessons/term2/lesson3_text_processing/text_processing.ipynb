{
 "cells": [
  {
   "cell_type": "markdown",
   "metadata": {},
   "source": [
    "# Text Processing\n",
    "\n",
    "## Capturing Text Data\n",
    "\n",
    "### Plain Text"
   ]
  },
  {
   "cell_type": "code",
   "execution_count": 1,
   "metadata": {},
   "outputs": [
    {
     "name": "stdout",
     "output_type": "stream",
     "text": [
      "Hieroglyphic writing dates from c. 3000 BC, and is composed of hundreds of symbols. A hieroglyph can represent a word, a sound, or a silent determinative; and the same symbol can serve different purposes in different contexts. Hieroglyphs were a formal script, used on stone monuments and in tombs, that could be as detailed as individual works of art.\n",
      "\n"
     ]
    }
   ],
   "source": [
    "import os\n",
    "\n",
    "# Read in a plain text file\n",
    "with open(os.path.join(\"data\", \"hieroglyph.txt\"), \"r\") as f:\n",
    "    text = f.read()\n",
    "    print(text)"
   ]
  },
  {
   "cell_type": "markdown",
   "metadata": {},
   "source": [
    "### Tabular Data"
   ]
  },
  {
   "cell_type": "code",
   "execution_count": 2,
   "metadata": {
    "scrolled": true
   },
   "outputs": [
    {
     "data": {
      "text/html": [
       "<div>\n",
       "<table border=\"1\" class=\"dataframe\">\n",
       "  <thead>\n",
       "    <tr style=\"text-align: right;\">\n",
       "      <th></th>\n",
       "      <th>publisher</th>\n",
       "      <th>title</th>\n",
       "    </tr>\n",
       "  </thead>\n",
       "  <tbody>\n",
       "    <tr>\n",
       "      <th>0</th>\n",
       "      <td>Livemint</td>\n",
       "      <td>fed's charles plosser sees high bar for change...</td>\n",
       "    </tr>\n",
       "    <tr>\n",
       "      <th>1</th>\n",
       "      <td>IFA Magazine</td>\n",
       "      <td>us open: stocks fall after fed official hints ...</td>\n",
       "    </tr>\n",
       "    <tr>\n",
       "      <th>2</th>\n",
       "      <td>IFA Magazine</td>\n",
       "      <td>fed risks falling 'behind the curve', charles ...</td>\n",
       "    </tr>\n",
       "    <tr>\n",
       "      <th>3</th>\n",
       "      <td>Moneynews</td>\n",
       "      <td>fed's plosser: nasty weather has curbed job gr...</td>\n",
       "    </tr>\n",
       "    <tr>\n",
       "      <th>4</th>\n",
       "      <td>NASDAQ</td>\n",
       "      <td>plosser: fed may have to accelerate tapering pace</td>\n",
       "    </tr>\n",
       "  </tbody>\n",
       "</table>\n",
       "</div>"
      ],
      "text/plain": [
       "      publisher                                              title\n",
       "0      Livemint  fed's charles plosser sees high bar for change...\n",
       "1  IFA Magazine  us open: stocks fall after fed official hints ...\n",
       "2  IFA Magazine  fed risks falling 'behind the curve', charles ...\n",
       "3     Moneynews  fed's plosser: nasty weather has curbed job gr...\n",
       "4        NASDAQ  plosser: fed may have to accelerate tapering pace"
      ]
     },
     "execution_count": 2,
     "metadata": {},
     "output_type": "execute_result"
    }
   ],
   "source": [
    "import pandas as pd\n",
    "\n",
    "# Extract text column from a dataframe\n",
    "df = pd.read_csv(os.path.join(\"data\", \"news.csv\"))\n",
    "df.head()[['publisher', 'title']]\n",
    "\n",
    "# Convert text column to lowercase\n",
    "df['title'] = df['title'].str.lower()\n",
    "df.head()[['publisher', 'title']]"
   ]
  },
  {
   "cell_type": "markdown",
   "metadata": {},
   "source": [
    "### Online Resource"
   ]
  },
  {
   "cell_type": "code",
   "execution_count": 3,
   "metadata": {
    "scrolled": true
   },
   "outputs": [
    {
     "name": "stdout",
     "output_type": "stream",
     "text": [
      "{\n",
      "    \"copyright\": {\n",
      "        \"year\": 2022,\n",
      "        \"url\": \"https://theysaidso.com\"\n",
      "    },\n",
      "    \"baseurl\": \"https://theysaidso.com\",\n",
      "    \"contents\": {\n",
      "        \"quotes\": [\n",
      "            {\n",
      "                \"permalink\": \"https://theysaidso.com/quote/michelle-obama-you-should-never-view-your-challenges-as-a-disadvantage-instead-i\",\n",
      "                \"id\": \"Cui7rno9YsYlmQsPHbg5HgeF\",\n",
      "                \"category\": \"inspire\",\n",
      "                \"tags\": [\n",
      "                    \"challenge\",\n",
      "                    \"inspire\"\n",
      "                ],\n",
      "                \"quote\": \"You should never view your challenges as a disadvantage. Instead, it's important for you to understand that your experience facing and overcoming adversity is actually one of your biggest advantages.\",\n",
      "                \"length\": \"199\",\n",
      "                \"background\": \"https://theysaidso.com/img/qod/qod-inspire.jpg\",\n",
      "                \"language\": \"en\",\n",
      "                \"date\": \"2020-03-17\",\n",
      "                \"title\": \"Inspiring Quote of the day\",\n",
      "                \"author\": \"Michelle Obama\"\n",
      "            }\n",
      "        ]\n",
      "    },\n",
      "    \"success\": {\n",
      "        \"total\": 1\n",
      "    }\n",
      "}\n",
      "You should never view your challenges as a disadvantage. Instead, it's important for you to understand that your experience facing and overcoming adversity is actually one of your biggest advantages. \n",
      "-- Michelle Obama\n"
     ]
    }
   ],
   "source": [
    "import requests\n",
    "import json\n",
    "\n",
    "# Fetch data from a REST API\n",
    "r = requests.get(\n",
    "    \"https://quotes.rest/qod.json\")\n",
    "res = r.json()\n",
    "print(json.dumps(res, indent=4))\n",
    "\n",
    "# Extract relevant object and field\n",
    "q = res[\"contents\"][\"quotes\"][0]\n",
    "print(q[\"quote\"], \"\\n--\", q[\"author\"])"
   ]
  },
  {
   "cell_type": "markdown",
   "metadata": {},
   "source": [
    "## Cleaning"
   ]
  },
  {
   "cell_type": "code",
   "execution_count": 4,
   "metadata": {
    "scrolled": true
   },
   "outputs": [
    {
     "name": "stdout",
     "output_type": "stream",
     "text": [
      "<html op=\"news\"><head><meta name=\"referrer\" content=\"origin\"><meta name=\"viewport\" content=\"width=device-width, initial-scale=1.0\"><link rel=\"stylesheet\" type=\"text/css\" href=\"news.css?YsQPndo3ANpC0QSFFgZB\">\n",
      "        <link rel=\"shortcut icon\" href=\"favicon.ico\">\n",
      "          <link rel=\"alternate\" type=\"application/rss+xml\" title=\"RSS\" href=\"rss\">\n",
      "        <title>Hacker News</title></head><body><center><table id=\"hnmain\" border=\"0\" cellpadding=\"0\" cellspacing=\"0\" width=\"85%\" bgcolor=\"#f6f6ef\">\n",
      "        <tr><td bgcolor=\"#ff6600\"><table border=\"0\" cellpadding=\"0\" cellspacing=\"0\" width=\"100%\" style=\"padding:2px\"><tr><td style=\"width:18px;padding-right:4px\"><a href=\"https://news.ycombinator.com\"><img src=\"y18.gif\" width=\"18\" height=\"18\" style=\"border:1px white solid;\"></a></td>\n",
      "                  <td style=\"line-height:12pt; height:10px;\"><span class=\"pagetop\"><b class=\"hnname\"><a href=\"news\">Hacker News</a></b>\n",
      "              <a href=\"newest\">new</a> | <a href=\"front\">past</a> | <a href=\"newcomments\">comments</a> | <a href=\"ask\">ask</a> | <a href=\"show\">show</a> | <a href=\"jobs\">jobs</a> | <a href=\"submit\">submit</a>            </span></td><td style=\"text-align:right;padding-right:4px;\"><span class=\"pagetop\">\n",
      "                              <a href=\"login?goto=news\">login</a>\n",
      "                          </span></td>\n",
      "              </tr></table></td></tr>\n",
      "<tr id=\"pagespace\" title=\"\" style=\"height:10px\"></tr><tr><td><table border=\"0\" cellpadding=\"0\" cellspacing=\"0\" class=\"itemlist\">\n",
      "              <tr class='athing' id='22602888'>\n",
      "      <td align=\"right\" valign=\"top\" class=\"title\"><span class=\"rank\">1.</span></td>      <td valign=\"top\" class=\"votelinks\"><center><a id='up_22602888' href='vote?id=22602888&amp;how=up&amp;goto=news'><div class='votearrow' title='upvote'></div></a></center></td><td class=\"title\"><a href=\"https://devops.novalagung.com/en/cicd-serverless-ebook-gitbook-github-pages-actions-calibre.html\" class=\"storylink\">Serverless eBook Using Gitbook, GitHub Pages, GitHub Actions, and Calibre</a><span class=\"sitebit comhead\"> (<a href=\"from?site=novalagung.com\"><span class=\"sitestr\">novalagung.com</span></a>)</span></td></tr><tr><td colspan=\"2\"></td><td class=\"subtext\">\n",
      "        <span class=\"score\" id=\"score_22602888\">31 points</span> by <a href=\"user?id=novalagung\" class=\"hnuser\">novalagung</a> <span class=\"age\"><a href=\"item?id=22602888\">1 hour ago</a></span> <span id=\"unv_22602888\"></span> | <a href=\"hide?id=22602888&amp;goto=news\">hide</a> | <a href=\"item?id=22602888\">12&nbsp;comments</a>              </td></tr>\n",
      "      <tr class=\"spacer\" style=\"height:5px\"></tr>\n",
      "                <tr class='athing' id='22602873'>\n",
      "      <td align=\"right\" valign=\"top\" class=\"title\"><span class=\"rank\">2.</span></td>      <td valign=\"top\" class=\"votelinks\"><center><a id='up_22602873' href='vote?id=22602873&amp;how=up&amp;goto=news'><div class='votearrow' title='upvote'></div></a></center></td><td class=\"title\"><a href=\"https://www.bbc.co.uk/news/business-51906530\" class=\"storylink\">Climate change: The rich are to blame</a><span class=\"sitebit comhead\"> (<a href=\"from?site=bbc.co.uk\"><span class=\"sitestr\">bbc.co.uk</span></a>)</span></td></tr><tr><td colspan=\"2\"></td><td class=\"subtext\">\n",
      "        <span class=\"score\" id=\"score_22602873\">53 points</span> by <a href=\"user?id=tonyedgecombe\" class=\"hnuser\">tonyedgecombe</a> <span class=\"age\"><a href=\"item?id=22602873\">1 hour ago</a></span> <span id=\"unv_22602873\"></span> | <a href=\"hide?id=22602873&amp;goto=news\">hide</a> | <a href=\"item?id=22602873\">32&nbsp;comments</a>              </td></tr>\n",
      "      <tr class=\"spacer\" style=\"height:5px\"></tr>\n",
      "                <tr class='athing' id='22601342'>\n",
      "      <td align=\"right\" valign=\"top\" class=\"title\"><span class=\"rank\">3.</span></td>      <td valign=\"top\" class=\"votelinks\"><center><a id='up_22601342' href='vote?id=22601342&amp;how=up&amp;goto=news'><div class='votearrow' title='upvote'></div></a></center></td><td class=\"title\"><a href=\"https://github.com/nscde/nscde\" class=\"storylink\">NsCDE: Not So Common Desktop Environment</a><span class=\"sitebit comhead\"> (<a href=\"from?site=github.com\"><span class=\"sitestr\">github.com</span></a>)</span></td></tr><tr><td colspan=\"2\"></td><td class=\"subtext\">\n",
      "        <span class=\"score\" id=\"score_22601342\">106 points</span> by <a href=\"user?id=bilegeek\" class=\"hnuser\">bilegeek</a> <span class=\"age\"><a href=\"item?id=22601342\">6 hours ago</a></span> <span id=\"unv_22601342\"></span> | <a href=\"hide?id=22601342&amp;goto=news\">hide</a> | <a href=\"item?id=22601342\">28&nbsp;comments</a>              </td></tr>\n",
      "      <tr class=\"spacer\" style=\"height:5px\"></tr>\n",
      "                <tr class='athing' id='22601196'>\n",
      "      <td align=\"right\" valign=\"top\" class=\"title\"><span class=\"rank\">4.</span></td>      <td valign=\"top\" class=\"votelinks\"><center><a id='up_22601196' href='vote?id=22601196&amp;how=up&amp;goto=news'><div class='votearrow' title='upvote'></div></a></center></td><td class=\"title\"><a href=\"https://www.jstage.jst.go.jp/article/bst/advpub/0/advpub_2020.01047/_pdf/-char/en\" class=\"storylink\">Chloroquine has shown apparent efficacy in treatment of Covid-19</a><span class=\"sitebit comhead\"> (<a href=\"from?site=jst.go.jp\"><span class=\"sitestr\">jst.go.jp</span></a>)</span></td></tr><tr><td colspan=\"2\"></td><td class=\"subtext\">\n",
      "        <span class=\"score\" id=\"score_22601196\">303 points</span> by <a href=\"user?id=robomartin\" class=\"hnuser\">robomartin</a> <span class=\"age\"><a href=\"item?id=22601196\">7 hours ago</a></span> <span id=\"unv_22601196\"></span> | <a href=\"hide?id=22601196&amp;goto=news\">hide</a> | <a href=\"item?id=22601196\">167&nbsp;comments</a>              </td></tr>\n",
      "      <tr class=\"spacer\" style=\"height:5px\"></tr>\n",
      "                <tr class='athing' id='22599953'>\n",
      "      <td align=\"right\" valign=\"top\" class=\"title\"><span class=\"rank\">5.</span></td>      <td valign=\"top\" class=\"votelinks\"><center><a id='up_22599953' href='vote?id=22599953&amp;how=up&amp;goto=news'><div class='votearrow' title='upvote'></div></a></center></td><td class=\"title\"><a href=\"http://akkartik.name/akkartik-convivial-20200315.pdf\" class=\"storylink\">Bicycles for the mind have to be see-through [pdf]</a><span class=\"sitebit comhead\"> (<a href=\"from?site=akkartik.name\"><span class=\"sitestr\">akkartik.name</span></a>)</span></td></tr><tr><td colspan=\"2\"></td><td class=\"subtext\">\n",
      "        <span class=\"score\" id=\"score_22599953\">143 points</span> by <a href=\"user?id=mkeeter\" class=\"hnuser\">mkeeter</a> <span class=\"age\"><a href=\"item?id=22599953\">9 hours ago</a></span> <span id=\"unv_22599953\"></span> | <a href=\"hide?id=22599953&amp;goto=news\">hide</a> | <a href=\"item?id=22599953\">25&nbsp;comments</a>              </td></tr>\n",
      "      <tr class=\"spacer\" style=\"height:5px\"></tr>\n",
      "                <tr class='athing' id='22594549'>\n",
      "      <td align=\"right\" valign=\"top\" class=\"title\"><span class=\"rank\">6.</span></td>      <td valign=\"top\" class=\"votelinks\"><center><a id='up_22594549' href='vote?id=22594549&amp;how=up&amp;goto=news'><div class='votearrow' title='upvote'></div></a></center></td><td class=\"title\"><a href=\"https://github.blog/2020-03-16-npm-is-joining-github/\" class=\"storylink\">NPM Is Joining GitHub</a><span class=\"sitebit comhead\"> (<a href=\"from?site=github.blog\"><span class=\"sitestr\">github.blog</span></a>)</span></td></tr><tr><td colspan=\"2\"></td><td class=\"subtext\">\n",
      "        <span class=\"score\" id=\"score_22594549\">1641 points</span> by <a href=\"user?id=mholt\" class=\"hnuser\">mholt</a> <span class=\"age\"><a href=\"item?id=22594549\">17 hours ago</a></span> <span id=\"unv_22594549\"></span> | <a href=\"hide?id=22594549&amp;goto=news\">hide</a> | <a href=\"item?id=22594549\">481&nbsp;comments</a>              </td></tr>\n",
      "      <tr class=\"spacer\" style=\"height:5px\"></tr>\n",
      "                <tr class='athing' id='22590824'>\n",
      "      <td align=\"right\" valign=\"top\" class=\"title\"><span class=\"rank\">7.</span></td>      <td valign=\"top\" class=\"votelinks\"><center><a id='up_22590824' href='vote?id=22590824&amp;how=up&amp;goto=news'><div class='votearrow' title='upvote'></div></a></center></td><td class=\"title\"><a href=\"https://blog.balthazar-rouberol.com/text-processing-in-the-shell\" class=\"storylink\">Text Processing in the Shell</a><span class=\"sitebit comhead\"> (<a href=\"from?site=balthazar-rouberol.com\"><span class=\"sitestr\">balthazar-rouberol.com</span></a>)</span></td></tr><tr><td colspan=\"2\"></td><td class=\"subtext\">\n",
      "        <span class=\"score\" id=\"score_22590824\">132 points</span> by <a href=\"user?id=pcr910303\" class=\"hnuser\">pcr910303</a> <span class=\"age\"><a href=\"item?id=22590824\">8 hours ago</a></span> <span id=\"unv_22590824\"></span> | <a href=\"hide?id=22590824&amp;goto=news\">hide</a> | <a href=\"item?id=22590824\">28&nbsp;comments</a>              </td></tr>\n",
      "      <tr class=\"spacer\" style=\"height:5px\"></tr>\n",
      "                <tr class='athing' id='22597200'>\n",
      "      <td align=\"right\" valign=\"top\" class=\"title\"><span class=\"rank\">8.</span></td>      <td valign=\"top\" class=\"votelinks\"><center><a id='up_22597200' href='vote?id=22597200&amp;how=up&amp;goto=news'><div class='votearrow' title='upvote'></div></a></center></td><td class=\"title\"><a href=\"https://www.wsj.com/articles/amazon-to-hire-100-000-warehouse-and-delivery-workers-amid-coronavirus-shutdowns-11584387833\" class=\"storylink\">Amazon to hire 100k warehouse and delivery workers</a><span class=\"sitebit comhead\"> (<a href=\"from?site=wsj.com\"><span class=\"sitestr\">wsj.com</span></a>)</span></td></tr><tr><td colspan=\"2\"></td><td class=\"subtext\">\n",
      "        <span class=\"score\" id=\"score_22597200\">474 points</span> by <a href=\"user?id=psim1\" class=\"hnuser\">psim1</a> <span class=\"age\"><a href=\"item?id=22597200\">14 hours ago</a></span> <span id=\"unv_22597200\"></span> | <a href=\"hide?id=22597200&amp;goto=news\">hide</a> | <a href=\"item?id=22597200\">282&nbsp;comments</a>              </td></tr>\n",
      "      <tr class=\"spacer\" style=\"height:5px\"></tr>\n",
      "                <tr class='athing' id='22601382'>\n",
      "      <td align=\"right\" valign=\"top\" class=\"title\"><span class=\"rank\">9.</span></td>      <td valign=\"top\" class=\"votelinks\"><center><a id='up_22601382' href='vote?id=22601382&amp;how=up&amp;goto=news'><div class='votearrow' title='upvote'></div></a></center></td><td class=\"title\"><a href=\"https://amigalove.com/viewtopic.php?f=13&amp;t=1387\" class=\"storylink\">The Write Stuff for the Commodore 128</a><span class=\"sitebit comhead\"> (<a href=\"from?site=amigalove.com\"><span class=\"sitestr\">amigalove.com</span></a>)</span></td></tr><tr><td colspan=\"2\"></td><td class=\"subtext\">\n",
      "        <span class=\"score\" id=\"score_22601382\">40 points</span> by <a href=\"user?id=erickhill\" class=\"hnuser\">erickhill</a> <span class=\"age\"><a href=\"item?id=22601382\">6 hours ago</a></span> <span id=\"unv_22601382\"></span> | <a href=\"hide?id=22601382&amp;goto=news\">hide</a> | <a href=\"item?id=22601382\">6&nbsp;comments</a>              </td></tr>\n",
      "      <tr class=\"spacer\" style=\"height:5px\"></tr>\n",
      "                <tr class='athing' id='22597880'>\n",
      "      <td align=\"right\" valign=\"top\" class=\"title\"><span class=\"rank\">10.</span></td>      <td valign=\"top\" class=\"votelinks\"><center><a id='up_22597880' href='vote?id=22597880&amp;how=up&amp;goto=news'><div class='votearrow' title='upvote'></div></a></center></td><td class=\"title\"><a href=\"https://kind.sigs.k8s.io/\" class=\"storylink\">Kind - run local Kubernetes clusters using Docker</a><span class=\"sitebit comhead\"> (<a href=\"from?site=k8s.io\"><span class=\"sitestr\">k8s.io</span></a>)</span></td></tr><tr><td colspan=\"2\"></td><td class=\"subtext\">\n",
      "        <span class=\"score\" id=\"score_22597880\">159 points</span> by <a href=\"user?id=supdatecron\" class=\"hnuser\">supdatecron</a> <span class=\"age\"><a href=\"item?id=22597880\">13 hours ago</a></span> <span id=\"unv_22597880\"></span> | <a href=\"hide?id=22597880&amp;goto=news\">hide</a> | <a href=\"item?id=22597880\">56&nbsp;comments</a>              </td></tr>\n",
      "      <tr class=\"spacer\" style=\"height:5px\"></tr>\n",
      "                <tr class='athing' id='22599224'>\n",
      "      <td align=\"right\" valign=\"top\" class=\"title\"><span class=\"rank\">11.</span></td>      <td valign=\"top\" class=\"votelinks\"><center><a id='up_22599224' href='vote?id=22599224&amp;how=up&amp;goto=news'><div class='votearrow' title='upvote'></div></a></center></td><td class=\"title\"><a href=\"http://www.righto.com/2020/03/looking-inside-vintage-soviet-ttl-logic.html\" class=\"storylink\">Looking inside a vintage Soviet TTL logic integrated circuit</a><span class=\"sitebit comhead\"> (<a href=\"from?site=righto.com\"><span class=\"sitestr\">righto.com</span></a>)</span></td></tr><tr><td colspan=\"2\"></td><td class=\"subtext\">\n",
      "        <span class=\"score\" id=\"score_22599224\">102 points</span> by <a href=\"user?id=sohkamyung\" class=\"hnuser\">sohkamyung</a> <span class=\"age\"><a href=\"item?id=22599224\">11 hours ago</a></span> <span id=\"unv_22599224\"></span> | <a href=\"hide?id=22599224&amp;goto=news\">hide</a> | <a href=\"item?id=22599224\">13&nbsp;comments</a>              </td></tr>\n",
      "      <tr class=\"spacer\" style=\"height:5px\"></tr>\n",
      "                <tr class='athing' id='22591311'>\n",
      "      <td align=\"right\" valign=\"top\" class=\"title\"><span class=\"rank\">12.</span></td>      <td valign=\"top\" class=\"votelinks\"><center><a id='up_22591311' href='vote?id=22591311&amp;how=up&amp;goto=news'><div class='votearrow' title='upvote'></div></a></center></td><td class=\"title\"><a href=\"https://about.i.ntention.app\" class=\"storylink\">Show HN: Intention – DAG Todo App</a><span class=\"sitebit comhead\"> (<a href=\"from?site=ntention.app\"><span class=\"sitestr\">ntention.app</span></a>)</span></td></tr><tr><td colspan=\"2\"></td><td class=\"subtext\">\n",
      "        <span class=\"score\" id=\"score_22591311\">48 points</span> by <a href=\"user?id=DaveWM\" class=\"hnuser\">DaveWM</a> <span class=\"age\"><a href=\"item?id=22591311\">6 hours ago</a></span> <span id=\"unv_22591311\"></span> | <a href=\"hide?id=22591311&amp;goto=news\">hide</a> | <a href=\"item?id=22591311\">47&nbsp;comments</a>              </td></tr>\n",
      "      <tr class=\"spacer\" style=\"height:5px\"></tr>\n",
      "                <tr class='athing' id='22591949'>\n",
      "      <td align=\"right\" valign=\"top\" class=\"title\"><span class=\"rank\">13.</span></td>      <td valign=\"top\" class=\"votelinks\"><center><a id='up_22591949' href='vote?id=22591949&amp;how=up&amp;goto=news'><div class='votearrow' title='upvote'></div></a></center></td><td class=\"title\"><a href=\"https://irmin.org/\" class=\"storylink\">Irmin: A distributed database written in OCaml</a><span class=\"sitebit comhead\"> (<a href=\"from?site=irmin.org\"><span class=\"sitestr\">irmin.org</span></a>)</span></td></tr><tr><td colspan=\"2\"></td><td class=\"subtext\">\n",
      "        <span class=\"score\" id=\"score_22591949\">76 points</span> by <a href=\"user?id=poga\" class=\"hnuser\">poga</a> <span class=\"age\"><a href=\"item?id=22591949\">9 hours ago</a></span> <span id=\"unv_22591949\"></span> | <a href=\"hide?id=22591949&amp;goto=news\">hide</a> | <a href=\"item?id=22591949\">4&nbsp;comments</a>              </td></tr>\n",
      "      <tr class=\"spacer\" style=\"height:5px\"></tr>\n",
      "                <tr class='athing' id='22593737'>\n",
      "      <td align=\"right\" valign=\"top\" class=\"title\"><span class=\"rank\">14.</span></td>      <td valign=\"top\" class=\"votelinks\"><center><a id='up_22593737' href='vote?id=22593737&amp;how=up&amp;goto=news'><div class='votearrow' title='upvote'></div></a></center></td><td class=\"title\"><a href=\"https://github.com/sam46/Paskell\" class=\"storylink\">Show HN: Pascal to LLVM Compiler in Haskell</a><span class=\"sitebit comhead\"> (<a href=\"from?site=github.com\"><span class=\"sitestr\">github.com</span></a>)</span></td></tr><tr><td colspan=\"2\"></td><td class=\"subtext\">\n",
      "        <span class=\"score\" id=\"score_22593737\">23 points</span> by <a href=\"user?id=sam46\" class=\"hnuser\">sam46</a> <span class=\"age\"><a href=\"item?id=22593737\">6 hours ago</a></span> <span id=\"unv_22593737\"></span> | <a href=\"hide?id=22593737&amp;goto=news\">hide</a> | <a href=\"item?id=22593737\">2&nbsp;comments</a>              </td></tr>\n",
      "      <tr class=\"spacer\" style=\"height:5px\"></tr>\n",
      "                <tr class='athing' id='22602787'>\n",
      "      <td align=\"right\" valign=\"top\" class=\"title\"><span class=\"rank\">15.</span></td>      <td valign=\"top\" class=\"votelinks\"><center><a id='up_22602787' href='vote?id=22602787&amp;how=up&amp;goto=news'><div class='votearrow' title='upvote'></div></a></center></td><td class=\"title\"><a href=\"https://techcrunch.com/2020/03/16/facebook-reddit-google-linkedin-microsoft-twitter-and-youtube-issue-joint-statement-on-misinformation/\" class=\"storylink\">Facebook, Reddit, Google, Twitter, YouTube joint statement on misinformation</a><span class=\"sitebit comhead\"> (<a href=\"from?site=techcrunch.com\"><span class=\"sitestr\">techcrunch.com</span></a>)</span></td></tr><tr><td colspan=\"2\"></td><td class=\"subtext\">\n",
      "        <span class=\"score\" id=\"score_22602787\">41 points</span> by <a href=\"user?id=doener\" class=\"hnuser\">doener</a> <span class=\"age\"><a href=\"item?id=22602787\">2 hours ago</a></span> <span id=\"unv_22602787\"></span> | <a href=\"hide?id=22602787&amp;goto=news\">hide</a> | <a href=\"item?id=22602787\">56&nbsp;comments</a>              </td></tr>\n",
      "      <tr class=\"spacer\" style=\"height:5px\"></tr>\n",
      "                <tr class='athing' id='22574012'>\n",
      "      <td align=\"right\" valign=\"top\" class=\"title\"><span class=\"rank\">16.</span></td>      <td valign=\"top\" class=\"votelinks\"><center><a id='up_22574012' href='vote?id=22574012&amp;how=up&amp;goto=news'><div class='votearrow' title='upvote'></div></a></center></td><td class=\"title\"><a href=\"https://github.com/sy2002/ai-playground/tree/master/analog\" class=\"storylink\">Analog-Cartpole: A hybrid analog/digital reinforcement learning experiment</a><span class=\"sitebit comhead\"> (<a href=\"from?site=github.com\"><span class=\"sitestr\">github.com</span></a>)</span></td></tr><tr><td colspan=\"2\"></td><td class=\"subtext\">\n",
      "        <span class=\"score\" id=\"score_22574012\">14 points</span> by <a href=\"user?id=ghosthamlet\" class=\"hnuser\">ghosthamlet</a> <span class=\"age\"><a href=\"item?id=22574012\">6 hours ago</a></span> <span id=\"unv_22574012\"></span> | <a href=\"hide?id=22574012&amp;goto=news\">hide</a> | <a href=\"item?id=22574012\">discuss</a>              </td></tr>\n",
      "      <tr class=\"spacer\" style=\"height:5px\"></tr>\n",
      "                <tr class='athing' id='22597446'>\n",
      "      <td align=\"right\" valign=\"top\" class=\"title\"><span class=\"rank\">17.</span></td>      <td valign=\"top\" class=\"votelinks\"><center><a id='up_22597446' href='vote?id=22597446&amp;how=up&amp;goto=news'><div class='votearrow' title='upvote'></div></a></center></td><td class=\"title\"><a href=\"https://www.worldoil.com/news/2020/3/15/global-oil-use-heads-for-steepest-annual-contraction-in-history\" class=\"storylink\">Global oil use heads for steepest annual contraction</a><span class=\"sitebit comhead\"> (<a href=\"from?site=worldoil.com\"><span class=\"sitestr\">worldoil.com</span></a>)</span></td></tr><tr><td colspan=\"2\"></td><td class=\"subtext\">\n",
      "        <span class=\"score\" id=\"score_22597446\">159 points</span> by <a href=\"user?id=JSeymourATL\" class=\"hnuser\">JSeymourATL</a> <span class=\"age\"><a href=\"item?id=22597446\">13 hours ago</a></span> <span id=\"unv_22597446\"></span> | <a href=\"hide?id=22597446&amp;goto=news\">hide</a> | <a href=\"item?id=22597446\">145&nbsp;comments</a>              </td></tr>\n",
      "      <tr class=\"spacer\" style=\"height:5px\"></tr>\n",
      "                <tr class='athing' id='22591894'>\n",
      "      <td align=\"right\" valign=\"top\" class=\"title\"><span class=\"rank\">18.</span></td>      <td valign=\"top\" class=\"votelinks\"><center><a id='up_22591894' href='vote?id=22591894&amp;how=up&amp;goto=news'><div class='votearrow' title='upvote'></div></a></center></td><td class=\"title\"><a href=\"https://amitness.com/2020/03/illustrated-pirl/\" class=\"storylink\">PIRL: Learn Image Representations Immune to Geometric Transformation</a><span class=\"sitebit comhead\"> (<a href=\"from?site=amitness.com\"><span class=\"sitestr\">amitness.com</span></a>)</span></td></tr><tr><td colspan=\"2\"></td><td class=\"subtext\">\n",
      "        <span class=\"score\" id=\"score_22591894\">21 points</span> by <a href=\"user?id=amitness\" class=\"hnuser\">amitness</a> <span class=\"age\"><a href=\"item?id=22591894\">7 hours ago</a></span> <span id=\"unv_22591894\"></span> | <a href=\"hide?id=22591894&amp;goto=news\">hide</a> | <a href=\"item?id=22591894\">discuss</a>              </td></tr>\n",
      "      <tr class=\"spacer\" style=\"height:5px\"></tr>\n",
      "                <tr class='athing' id='22597278'>\n",
      "      <td align=\"right\" valign=\"top\" class=\"title\"><span class=\"rank\">19.</span></td>      <td valign=\"top\" class=\"votelinks\"><center><a id='up_22597278' href='vote?id=22597278&amp;how=up&amp;goto=news'><div class='votearrow' title='upvote'></div></a></center></td><td class=\"title\"><a href=\"https://lviattack.eu/\" class=\"storylink\" rel=\"nofollow\">LVI – Hijacking Transient Execution with Load Value Injection</a><span class=\"sitebit comhead\"> (<a href=\"from?site=lviattack.eu\"><span class=\"sitestr\">lviattack.eu</span></a>)</span></td></tr><tr><td colspan=\"2\"></td><td class=\"subtext\">\n",
      "        <span class=\"score\" id=\"score_22597278\">3 points</span> by <a href=\"user?id=gpvos\" class=\"hnuser\">gpvos</a> <span class=\"age\"><a href=\"item?id=22597278\">2 hours ago</a></span> <span id=\"unv_22597278\"></span> | <a href=\"hide?id=22597278&amp;goto=news\">hide</a> | <a href=\"item?id=22597278\">discuss</a>              </td></tr>\n",
      "      <tr class=\"spacer\" style=\"height:5px\"></tr>\n",
      "                <tr class='athing' id='22591952'>\n",
      "      <td align=\"right\" valign=\"top\" class=\"title\"><span class=\"rank\">20.</span></td>      <td valign=\"top\" class=\"votelinks\"><center><a id='up_22591952' href='vote?id=22591952&amp;how=up&amp;goto=news'><div class='votearrow' title='upvote'></div></a></center></td><td class=\"title\"><a href=\"https://github.com/hugolgst/digart\" class=\"storylink\" rel=\"nofollow\">Circle visualization of a number's digits, like with π</a><span class=\"sitebit comhead\"> (<a href=\"from?site=github.com\"><span class=\"sitestr\">github.com</span></a>)</span></td></tr><tr><td colspan=\"2\"></td><td class=\"subtext\">\n",
      "        <span class=\"score\" id=\"score_22591952\">11 points</span> by <a href=\"user?id=trypho\" class=\"hnuser\">trypho</a> <span class=\"age\"><a href=\"item?id=22591952\">4 hours ago</a></span> <span id=\"unv_22591952\"></span> | <a href=\"hide?id=22591952&amp;goto=news\">hide</a> | <a href=\"item?id=22591952\">1&nbsp;comment</a>              </td></tr>\n",
      "      <tr class=\"spacer\" style=\"height:5px\"></tr>\n",
      "                <tr class='athing' id='22596158'>\n",
      "      <td align=\"right\" valign=\"top\" class=\"title\"><span class=\"rank\">21.</span></td>      <td valign=\"top\" class=\"votelinks\"><center><a id='up_22596158' href='vote?id=22596158&amp;how=up&amp;goto=news'><div class='votearrow' title='upvote'></div></a></center></td><td class=\"title\"><a href=\"https://meltingasphalt.com/interactive/outbreak/\" class=\"storylink\">Outbreak – playable simulations of a disease outbreak</a><span class=\"sitebit comhead\"> (<a href=\"from?site=meltingasphalt.com\"><span class=\"sitestr\">meltingasphalt.com</span></a>)</span></td></tr><tr><td colspan=\"2\"></td><td class=\"subtext\">\n",
      "        <span class=\"score\" id=\"score_22596158\">271 points</span> by <a href=\"user?id=gringoDan\" class=\"hnuser\">gringoDan</a> <span class=\"age\"><a href=\"item?id=22596158\">15 hours ago</a></span> <span id=\"unv_22596158\"></span> | <a href=\"hide?id=22596158&amp;goto=news\">hide</a> | <a href=\"item?id=22596158\">46&nbsp;comments</a>              </td></tr>\n",
      "      <tr class=\"spacer\" style=\"height:5px\"></tr>\n",
      "                <tr class='athing' id='22599838'>\n",
      "      <td align=\"right\" valign=\"top\" class=\"title\"><span class=\"rank\">22.</span></td>      <td valign=\"top\" class=\"votelinks\"><center><a id='up_22599838' href='vote?id=22599838&amp;how=up&amp;goto=news'><div class='votearrow' title='upvote'></div></a></center></td><td class=\"title\"><a href=\"https://www.theatlantic.com/politics/archive/2020/03/coronavirus-romney-yang-money/608134/\" class=\"storylink\">What If Andrew Yang Was Right?</a><span class=\"sitebit comhead\"> (<a href=\"from?site=theatlantic.com\"><span class=\"sitestr\">theatlantic.com</span></a>)</span></td></tr><tr><td colspan=\"2\"></td><td class=\"subtext\">\n",
      "        <span class=\"score\" id=\"score_22599838\">137 points</span> by <a href=\"user?id=Reedx\" class=\"hnuser\">Reedx</a> <span class=\"age\"><a href=\"item?id=22599838\">10 hours ago</a></span> <span id=\"unv_22599838\"></span> | <a href=\"hide?id=22599838&amp;goto=news\">hide</a> | <a href=\"item?id=22599838\">213&nbsp;comments</a>              </td></tr>\n",
      "      <tr class=\"spacer\" style=\"height:5px\"></tr>\n",
      "                <tr class='athing' id='22591507'>\n",
      "      <td align=\"right\" valign=\"top\" class=\"title\"><span class=\"rank\">23.</span></td>      <td valign=\"top\" class=\"votelinks\"><center><a id='up_22591507' href='vote?id=22591507&amp;how=up&amp;goto=news'><div class='votearrow' title='upvote'></div></a></center></td><td class=\"title\"><a href=\"https://dev.to/deciduously/i-am-mesmerized-by-our-new-robotic-vacuum-10pc\" class=\"storylink\">I am mesmerized by our new robotic vacuum (2019)</a><span class=\"sitebit comhead\"> (<a href=\"from?site=dev.to\"><span class=\"sitestr\">dev.to</span></a>)</span></td></tr><tr><td colspan=\"2\"></td><td class=\"subtext\">\n",
      "        <span class=\"score\" id=\"score_22591507\">249 points</span> by <a href=\"user?id=mzehrer\" class=\"hnuser\">mzehrer</a> <span class=\"age\"><a href=\"item?id=22591507\">23 hours ago</a></span> <span id=\"unv_22591507\"></span> | <a href=\"hide?id=22591507&amp;goto=news\">hide</a> | <a href=\"item?id=22591507\">165&nbsp;comments</a>              </td></tr>\n",
      "      <tr class=\"spacer\" style=\"height:5px\"></tr>\n",
      "                <tr class='athing' id='22592007'>\n",
      "      <td align=\"right\" valign=\"top\" class=\"title\"><span class=\"rank\">24.</span></td>      <td valign=\"top\" class=\"votelinks\"><center><a id='up_22592007' href='vote?id=22592007&amp;how=up&amp;goto=news'><div class='votearrow' title='upvote'></div></a></center></td><td class=\"title\"><a href=\"https://themillions.com/2020/03/on-pandemic-and-literature.html\" class=\"storylink\" rel=\"nofollow\">On Pandemic and Literature</a><span class=\"sitebit comhead\"> (<a href=\"from?site=themillions.com\"><span class=\"sitestr\">themillions.com</span></a>)</span></td></tr><tr><td colspan=\"2\"></td><td class=\"subtext\">\n",
      "        <span class=\"score\" id=\"score_22592007\">9 points</span> by <a href=\"user?id=drjohnson\" class=\"hnuser\">drjohnson</a> <span class=\"age\"><a href=\"item?id=22592007\">4 hours ago</a></span> <span id=\"unv_22592007\"></span> | <a href=\"hide?id=22592007&amp;goto=news\">hide</a> | <a href=\"item?id=22592007\">2&nbsp;comments</a>              </td></tr>\n",
      "      <tr class=\"spacer\" style=\"height:5px\"></tr>\n",
      "                <tr class='athing' id='22599415'>\n",
      "      <td align=\"right\" valign=\"top\" class=\"title\"><span class=\"rank\">25.</span></td>      <td valign=\"top\" class=\"votelinks\"><center><a id='up_22599415' href='vote?id=22599415&amp;how=up&amp;goto=news'><div class='votearrow' title='upvote'></div></a></center></td><td class=\"title\"><a href=\"https://github.com/jcl5m1/ventilator\" class=\"storylink\">Low-Cost Arduino-Based Ventilator</a><span class=\"sitebit comhead\"> (<a href=\"from?site=github.com\"><span class=\"sitestr\">github.com</span></a>)</span></td></tr><tr><td colspan=\"2\"></td><td class=\"subtext\">\n",
      "        <span class=\"score\" id=\"score_22599415\">139 points</span> by <a href=\"user?id=guiambros\" class=\"hnuser\">guiambros</a> <span class=\"age\"><a href=\"item?id=22599415\">10 hours ago</a></span> <span id=\"unv_22599415\"></span> | <a href=\"hide?id=22599415&amp;goto=news\">hide</a> | <a href=\"item?id=22599415\">71&nbsp;comments</a>              </td></tr>\n",
      "      <tr class=\"spacer\" style=\"height:5px\"></tr>\n",
      "                <tr class='athing' id='22599137'>\n",
      "      <td align=\"right\" valign=\"top\" class=\"title\"><span class=\"rank\">26.</span></td>      <td valign=\"top\" class=\"votelinks\"><center><a id='up_22599137' href='vote?id=22599137&amp;how=up&amp;goto=news'><div class='votearrow' title='upvote'></div></a></center></td><td class=\"title\"><a href=\"https://labs.ripe.net/Members/job_snijders/dont-terminate-peoples-internet-connections\" class=\"storylink\">Don't Terminate People's Internet Connections</a><span class=\"sitebit comhead\"> (<a href=\"from?site=ripe.net\"><span class=\"sitestr\">ripe.net</span></a>)</span></td></tr><tr><td colspan=\"2\"></td><td class=\"subtext\">\n",
      "        <span class=\"score\" id=\"score_22599137\">242 points</span> by <a href=\"user?id=venti\" class=\"hnuser\">venti</a> <span class=\"age\"><a href=\"item?id=22599137\">11 hours ago</a></span> <span id=\"unv_22599137\"></span> | <a href=\"hide?id=22599137&amp;goto=news\">hide</a> | <a href=\"item?id=22599137\">85&nbsp;comments</a>              </td></tr>\n",
      "      <tr class=\"spacer\" style=\"height:5px\"></tr>\n",
      "                <tr class='athing' id='22591306'>\n",
      "      <td align=\"right\" valign=\"top\" class=\"title\"><span class=\"rank\">27.</span></td>      <td valign=\"top\" class=\"votelinks\"><center><a id='up_22591306' href='vote?id=22591306&amp;how=up&amp;goto=news'><div class='votearrow' title='upvote'></div></a></center></td><td class=\"title\"><a href=\"https://phyphox.org\" class=\"storylink\">Phyphox: Physical Phone Experiments</a><span class=\"sitebit comhead\"> (<a href=\"from?site=phyphox.org\"><span class=\"sitestr\">phyphox.org</span></a>)</span></td></tr><tr><td colspan=\"2\"></td><td class=\"subtext\">\n",
      "        <span class=\"score\" id=\"score_22591306\">44 points</span> by <a href=\"user?id=xenonite\" class=\"hnuser\">xenonite</a> <span class=\"age\"><a href=\"item?id=22591306\">12 hours ago</a></span> <span id=\"unv_22591306\"></span> | <a href=\"hide?id=22591306&amp;goto=news\">hide</a> | <a href=\"item?id=22591306\">5&nbsp;comments</a>              </td></tr>\n",
      "      <tr class=\"spacer\" style=\"height:5px\"></tr>\n",
      "                <tr class='athing' id='22591454'>\n",
      "      <td align=\"right\" valign=\"top\" class=\"title\"><span class=\"rank\">28.</span></td>      <td valign=\"top\" class=\"votelinks\"><center><a id='up_22591454' href='vote?id=22591454&amp;how=up&amp;goto=news'><div class='votearrow' title='upvote'></div></a></center></td><td class=\"title\"><a href=\"https://blog.ipfire.org/post/why-not-wireguard\" class=\"storylink\">Why Not WireGuard</a><span class=\"sitebit comhead\"> (<a href=\"from?site=ipfire.org\"><span class=\"sitestr\">ipfire.org</span></a>)</span></td></tr><tr><td colspan=\"2\"></td><td class=\"subtext\">\n",
      "        <span class=\"score\" id=\"score_22591454\">123 points</span> by <a href=\"user?id=executesorder66\" class=\"hnuser\">executesorder66</a> <span class=\"age\"><a href=\"item?id=22591454\">11 hours ago</a></span> <span id=\"unv_22591454\"></span> | <a href=\"hide?id=22591454&amp;goto=news\">hide</a> | <a href=\"item?id=22591454\">84&nbsp;comments</a>              </td></tr>\n",
      "      <tr class=\"spacer\" style=\"height:5px\"></tr>\n",
      "                <tr class='athing' id='22600998'>\n",
      "      <td align=\"right\" valign=\"top\" class=\"title\"><span class=\"rank\">29.</span></td>      <td valign=\"top\" class=\"votelinks\"><center><a id='up_22600998' href='vote?id=22600998&amp;how=up&amp;goto=news'><div class='votearrow' title='upvote'></div></a></center></td><td class=\"title\"><a href=\"https://github.com/realrasengan/dnslive-webhost\" class=\"storylink\">Show HN: Free web hosting for handshake TLDs, no account required</a><span class=\"sitebit comhead\"> (<a href=\"from?site=github.com\"><span class=\"sitestr\">github.com</span></a>)</span></td></tr><tr><td colspan=\"2\"></td><td class=\"subtext\">\n",
      "        <span class=\"score\" id=\"score_22600998\">17 points</span> by <a href=\"user?id=rasengan\" class=\"hnuser\">rasengan</a> <span class=\"age\"><a href=\"item?id=22600998\">7 hours ago</a></span> <span id=\"unv_22600998\"></span> | <a href=\"hide?id=22600998&amp;goto=news\">hide</a> | <a href=\"item?id=22600998\">4&nbsp;comments</a>              </td></tr>\n",
      "      <tr class=\"spacer\" style=\"height:5px\"></tr>\n",
      "                <tr class='athing' id='22599793'>\n",
      "      <td align=\"right\" valign=\"top\" class=\"title\"><span class=\"rank\">30.</span></td>      <td valign=\"top\" class=\"votelinks\"><center><a id='up_22599793' href='vote?id=22599793&amp;how=up&amp;goto=news'><div class='votearrow' title='upvote'></div></a></center></td><td class=\"title\"><a href=\"http://www.globenewswire.com/news-release/2020/03/16/2001541/0/en/HashiCorp-Raises-175-Million-in-Series-E-Funding-to-Support-Multi-Cloud-Transformation-for-Global-Enterprises.html\" class=\"storylink\">HashiCorp Raises $175M at $5.1B Valuation</a><span class=\"sitebit comhead\"> (<a href=\"from?site=globenewswire.com\"><span class=\"sitestr\">globenewswire.com</span></a>)</span></td></tr><tr><td colspan=\"2\"></td><td class=\"subtext\">\n",
      "        <span class=\"score\" id=\"score_22599793\">226 points</span> by <a href=\"user?id=WestCoastJustin\" class=\"hnuser\">WestCoastJustin</a> <span class=\"age\"><a href=\"item?id=22599793\">10 hours ago</a></span> <span id=\"unv_22599793\"></span> | <a href=\"hide?id=22599793&amp;goto=news\">hide</a> | <a href=\"item?id=22599793\">64&nbsp;comments</a>              </td></tr>\n",
      "      <tr class=\"spacer\" style=\"height:5px\"></tr>\n",
      "            <tr class=\"morespace\" style=\"height:10px\"></tr><tr><td colspan=\"2\"></td><td class=\"title\"><a href=\"news?p=2\" class=\"morelink\" rel=\"next\">More</a></td></tr>\n",
      "  </table>\n",
      "</td></tr>\n",
      "<tr><td><img src=\"s.gif\" height=\"10\" width=\"0\"><table width=\"100%\" cellspacing=\"0\" cellpadding=\"1\"><tr><td bgcolor=\"#ff6600\"></td></tr></table><br><center><a href=\"https://www.ycombinator.com/apply/\">\n",
      "        Applications are open for YC Summer 2020\n",
      "      </a></center><br><center><span class=\"yclinks\"><a href=\"newsguidelines.html\">Guidelines</a>\n",
      "        | <a href=\"newsfaq.html\">FAQ</a>\n",
      "        | <a href=\"mailto:hn@ycombinator.com\">Support</a>\n",
      "        | <a href=\"https://github.com/HackerNews/API\">API</a>\n",
      "        | <a href=\"security.html\">Security</a>\n",
      "        | <a href=\"lists\">Lists</a>\n",
      "        | <a href=\"bookmarklet.html\" rel=\"nofollow\">Bookmarklet</a>\n",
      "        | <a href=\"http://www.ycombinator.com/legal/\">Legal</a>\n",
      "        | <a href=\"http://www.ycombinator.com/apply/\">Apply to YC</a>\n",
      "        | <a href=\"mailto:hn@ycombinator.com\">Contact</a></span><br><br><form method=\"get\" action=\"//hn.algolia.com/\">Search:\n",
      "          <input type=\"text\" name=\"q\" value=\"\" size=\"17\" autocorrect=\"off\" spellcheck=\"false\" autocapitalize=\"off\" autocomplete=\"false\"></form>\n",
      "            </center></td></tr>\n",
      "      </table></center></body><script type='text/javascript' src='hn.js?YsQPndo3ANpC0QSFFgZB'></script></html>\n",
      "\n"
     ]
    }
   ],
   "source": [
    "import requests\n",
    "\n",
    "# Fetch a web page\n",
    "r = requests.get(\"https://news.ycombinator.com\")\n",
    "print(r.text)"
   ]
  },
  {
   "cell_type": "code",
   "execution_count": 5,
   "metadata": {},
   "outputs": [
    {
     "name": "stdout",
     "output_type": "stream",
     "text": [
      "\n",
      "        \n",
      "          \n",
      "        Hacker News\n",
      "        \n",
      "                  Hacker News\n",
      "              new | past | comments | ask | show | jobs | submit            \n",
      "                              login\n",
      "                          \n",
      "              \n",
      "\n",
      "              \n",
      "      1.      Serverless eBook Using Gitbook, GitHub Pages, GitHub Actions, and Calibre (novalagung.com)\n",
      "        31 points by novalagung 1 hour ago  | hide | 12&nbsp;comments              \n",
      "      \n",
      "                \n",
      "      2.      Climate change: The rich are to blame (bbc.co.uk)\n",
      "        53 points by tonyedgecombe 1 hour ago  | hide | 32&nbsp;comments              \n",
      "      \n",
      "                \n",
      "      3.      NsCDE: Not So Common Desktop Environment (github.com)\n",
      "        106 points by bilegeek 6 hours ago  | hide | 28&nbsp;comments              \n",
      "      \n",
      "                \n",
      "      4.      Chloroquine has shown apparent efficacy in treatment of Covid-19 (jst.go.jp)\n",
      "        303 points by robomartin 7 hours ago  | hide | 167&nbsp;comments              \n",
      "      \n",
      "                \n",
      "      5.      Bicycles for the mind have to be see-through [pdf] (akkartik.name)\n",
      "        143 points by mkeeter 9 hours ago  | hide | 25&nbsp;comments              \n",
      "      \n",
      "                \n",
      "      6.      NPM Is Joining GitHub (github.blog)\n",
      "        1641 points by mholt 17 hours ago  | hide | 481&nbsp;comments              \n",
      "      \n",
      "                \n",
      "      7.      Text Processing in the Shell (balthazar-rouberol.com)\n",
      "        132 points by pcr910303 8 hours ago  | hide | 28&nbsp;comments              \n",
      "      \n",
      "                \n",
      "      8.      Amazon to hire 100k warehouse and delivery workers (wsj.com)\n",
      "        474 points by psim1 14 hours ago  | hide | 282&nbsp;comments              \n",
      "      \n",
      "                \n",
      "      9.      The Write Stuff for the Commodore 128 (amigalove.com)\n",
      "        40 points by erickhill 6 hours ago  | hide | 6&nbsp;comments              \n",
      "      \n",
      "                \n",
      "      10.      Kind - run local Kubernetes clusters using Docker (k8s.io)\n",
      "        159 points by supdatecron 13 hours ago  | hide | 56&nbsp;comments              \n",
      "      \n",
      "                \n",
      "      11.      Looking inside a vintage Soviet TTL logic integrated circuit (righto.com)\n",
      "        102 points by sohkamyung 11 hours ago  | hide | 13&nbsp;comments              \n",
      "      \n",
      "                \n",
      "      12.      Show HN: Intention – DAG Todo App (ntention.app)\n",
      "        48 points by DaveWM 6 hours ago  | hide | 47&nbsp;comments              \n",
      "      \n",
      "                \n",
      "      13.      Irmin: A distributed database written in OCaml (irmin.org)\n",
      "        76 points by poga 9 hours ago  | hide | 4&nbsp;comments              \n",
      "      \n",
      "                \n",
      "      14.      Show HN: Pascal to LLVM Compiler in Haskell (github.com)\n",
      "        23 points by sam46 6 hours ago  | hide | 2&nbsp;comments              \n",
      "      \n",
      "                \n",
      "      15.      Facebook, Reddit, Google, Twitter, YouTube joint statement on misinformation (techcrunch.com)\n",
      "        41 points by doener 2 hours ago  | hide | 56&nbsp;comments              \n",
      "      \n",
      "                \n",
      "      16.      Analog-Cartpole: A hybrid analog/digital reinforcement learning experiment (github.com)\n",
      "        14 points by ghosthamlet 6 hours ago  | hide | discuss              \n",
      "      \n",
      "                \n",
      "      17.      Global oil use heads for steepest annual contraction (worldoil.com)\n",
      "        159 points by JSeymourATL 13 hours ago  | hide | 145&nbsp;comments              \n",
      "      \n",
      "                \n",
      "      18.      PIRL: Learn Image Representations Immune to Geometric Transformation (amitness.com)\n",
      "        21 points by amitness 7 hours ago  | hide | discuss              \n",
      "      \n",
      "                \n",
      "      19.      LVI – Hijacking Transient Execution with Load Value Injection (lviattack.eu)\n",
      "        3 points by gpvos 2 hours ago  | hide | discuss              \n",
      "      \n",
      "                \n",
      "      20.      Circle visualization of a number's digits, like with π (github.com)\n",
      "        11 points by trypho 4 hours ago  | hide | 1&nbsp;comment              \n",
      "      \n",
      "                \n",
      "      21.      Outbreak – playable simulations of a disease outbreak (meltingasphalt.com)\n",
      "        271 points by gringoDan 15 hours ago  | hide | 46&nbsp;comments              \n",
      "      \n",
      "                \n",
      "      22.      What If Andrew Yang Was Right? (theatlantic.com)\n",
      "        137 points by Reedx 10 hours ago  | hide | 213&nbsp;comments              \n",
      "      \n",
      "                \n",
      "      23.      I am mesmerized by our new robotic vacuum (2019) (dev.to)\n",
      "        249 points by mzehrer 23 hours ago  | hide | 165&nbsp;comments              \n",
      "      \n",
      "                \n",
      "      24.      On Pandemic and Literature (themillions.com)\n",
      "        9 points by drjohnson 4 hours ago  | hide | 2&nbsp;comments              \n",
      "      \n",
      "                \n",
      "      25.      Low-Cost Arduino-Based Ventilator (github.com)\n",
      "        139 points by guiambros 10 hours ago  | hide | 71&nbsp;comments              \n",
      "      \n",
      "                \n",
      "      26.      Don't Terminate People's Internet Connections (ripe.net)\n",
      "        242 points by venti 11 hours ago  | hide | 85&nbsp;comments              \n",
      "      \n",
      "                \n",
      "      27.      Phyphox: Physical Phone Experiments (phyphox.org)\n",
      "        44 points by xenonite 12 hours ago  | hide | 5&nbsp;comments              \n",
      "      \n",
      "                \n",
      "      28.      Why Not WireGuard (ipfire.org)\n",
      "        123 points by executesorder66 11 hours ago  | hide | 84&nbsp;comments              \n",
      "      \n",
      "                \n",
      "      29.      Show HN: Free web hosting for handshake TLDs, no account required (github.com)\n",
      "        17 points by rasengan 7 hours ago  | hide | 4&nbsp;comments              \n",
      "      \n",
      "                \n",
      "      30.      HashiCorp Raises $175M at $5.1B Valuation (globenewswire.com)\n",
      "        226 points by WestCoastJustin 10 hours ago  | hide | 64&nbsp;comments              \n",
      "      \n",
      "            More\n",
      "  \n",
      "\n",
      "\n",
      "        Applications are open for YC Summer 2020\n",
      "      Guidelines\n",
      "        | FAQ\n",
      "        | Support\n",
      "        | API\n",
      "        | Security\n",
      "        | Lists\n",
      "        | Bookmarklet\n",
      "        | Legal\n",
      "        | Apply to YC\n",
      "        | ContactSearch:\n",
      "          \n",
      "            \n",
      "      \n",
      "\n"
     ]
    }
   ],
   "source": [
    "import re\n",
    "\n",
    "# Remove HTML tags using RegEx\n",
    "pattern = re.compile(r'<.*?>')  # tags look like <...>\n",
    "print(pattern.sub('', r.text))  # replace them with blank"
   ]
  },
  {
   "cell_type": "code",
   "execution_count": 6,
   "metadata": {},
   "outputs": [
    {
     "name": "stdout",
     "output_type": "stream",
     "text": [
      "Requirement already satisfied: bs4 in /Users/manwaiwong/anaconda3/lib/python3.7/site-packages (0.0.1)\n",
      "Requirement already satisfied: beautifulsoup4 in /Users/manwaiwong/anaconda3/lib/python3.7/site-packages (from bs4) (4.8.2)\n",
      "Requirement already satisfied: soupsieve>=1.2 in /Users/manwaiwong/anaconda3/lib/python3.7/site-packages (from beautifulsoup4->bs4) (1.9.5)\n",
      "Requirement already satisfied: html5lib in /Users/manwaiwong/anaconda3/lib/python3.7/site-packages (1.0.1)\n",
      "Requirement already satisfied: webencodings in /Users/manwaiwong/anaconda3/lib/python3.7/site-packages (from html5lib) (0.5.1)\n",
      "Requirement already satisfied: six>=1.9 in /Users/manwaiwong/anaconda3/lib/python3.7/site-packages (from html5lib) (1.14.0)\n",
      "Requirement already satisfied: lxml in /Users/manwaiwong/anaconda3/lib/python3.7/site-packages (4.5.0)\n"
     ]
    }
   ],
   "source": [
    "!pip install bs4\n",
    "!pip install html5lib\n",
    "!pip install lxml"
   ]
  },
  {
   "cell_type": "code",
   "execution_count": 7,
   "metadata": {},
   "outputs": [
    {
     "name": "stdout",
     "output_type": "stream",
     "text": [
      "\n",
      "\n",
      "\n",
      "Hacker News\n",
      "\n",
      "Hacker News\n",
      "new | past | comments | ask | show | jobs | submit \n",
      "login\n",
      "\n",
      "\n",
      "\n",
      "\n",
      "1. Serverless eBook Using Gitbook, GitHub Pages, GitHub Actions, and Calibre (novalagung.com)\n",
      "31 points by novalagung 1 hour ago  | hide | 12 comments \n",
      "\n",
      "\n",
      "2. Climate change: The rich are to blame (bbc.co.uk)\n",
      "53 points by tonyedgecombe 1 hour ago  | hide | 32 comments \n",
      "\n",
      "\n",
      "3. NsCDE: Not So Common Desktop Environment (github.com)\n",
      "106 points by bilegeek 6 hours ago  | hide | 28 comments \n",
      "\n",
      "\n",
      "4. Chloroquine has shown apparent efficacy in treatment of Covid-19 (jst.go.jp)\n",
      "303 points by robomartin 7 hours ago  | hide | 167 comments \n",
      "\n",
      "\n",
      "5. Bicycles for the mind have to be see-through [pdf] (akkartik.name)\n",
      "143 points by mkeeter 9 hours ago  | hide | 25 comments \n",
      "\n",
      "\n",
      "6. NPM Is Joining GitHub (github.blog)\n",
      "1641 points by mholt 17 hours ago  | hide | 481 comments \n",
      "\n",
      "\n",
      "7. Text Processing in the Shell (balthazar-rouberol.com)\n",
      "132 points by pcr910303 8 hours ago  | hide | 28 comments \n",
      "\n",
      "\n",
      "8. Amazon to hire 100k warehouse and delivery workers (wsj.com)\n",
      "474 points by psim1 14 hours ago  | hide | 282 comments \n",
      "\n",
      "\n",
      "9. The Write Stuff for the Commodore 128 (amigalove.com)\n",
      "40 points by erickhill 6 hours ago  | hide | 6 comments \n",
      "\n",
      "\n",
      "10. Kind - run local Kubernetes clusters using Docker (k8s.io)\n",
      "159 points by supdatecron 13 hours ago  | hide | 56 comments \n",
      "\n",
      "\n",
      "11. Looking inside a vintage Soviet TTL logic integrated circuit (righto.com)\n",
      "102 points by sohkamyung 11 hours ago  | hide | 13 comments \n",
      "\n",
      "\n",
      "12. Show HN: Intention – DAG Todo App (ntention.app)\n",
      "48 points by DaveWM 6 hours ago  | hide | 47 comments \n",
      "\n",
      "\n",
      "13. Irmin: A distributed database written in OCaml (irmin.org)\n",
      "76 points by poga 9 hours ago  | hide | 4 comments \n",
      "\n",
      "\n",
      "14. Show HN: Pascal to LLVM Compiler in Haskell (github.com)\n",
      "23 points by sam46 6 hours ago  | hide | 2 comments \n",
      "\n",
      "\n",
      "15. Facebook, Reddit, Google, Twitter, YouTube joint statement on misinformation (techcrunch.com)\n",
      "41 points by doener 2 hours ago  | hide | 56 comments \n",
      "\n",
      "\n",
      "16. Analog-Cartpole: A hybrid analog/digital reinforcement learning experiment (github.com)\n",
      "14 points by ghosthamlet 6 hours ago  | hide | discuss \n",
      "\n",
      "\n",
      "17. Global oil use heads for steepest annual contraction (worldoil.com)\n",
      "159 points by JSeymourATL 13 hours ago  | hide | 145 comments \n",
      "\n",
      "\n",
      "18. PIRL: Learn Image Representations Immune to Geometric Transformation (amitness.com)\n",
      "21 points by amitness 7 hours ago  | hide | discuss \n",
      "\n",
      "\n",
      "19. LVI – Hijacking Transient Execution with Load Value Injection (lviattack.eu)\n",
      "3 points by gpvos 2 hours ago  | hide | discuss \n",
      "\n",
      "\n",
      "20. Circle visualization of a number's digits, like with π (github.com)\n",
      "11 points by trypho 4 hours ago  | hide | 1 comment \n",
      "\n",
      "\n",
      "21. Outbreak – playable simulations of a disease outbreak (meltingasphalt.com)\n",
      "271 points by gringoDan 15 hours ago  | hide | 46 comments \n",
      "\n",
      "\n",
      "22. What If Andrew Yang Was Right? (theatlantic.com)\n",
      "137 points by Reedx 10 hours ago  | hide | 213 comments \n",
      "\n",
      "\n",
      "23. I am mesmerized by our new robotic vacuum (2019) (dev.to)\n",
      "249 points by mzehrer 23 hours ago  | hide | 165 comments \n",
      "\n",
      "\n",
      "24. On Pandemic and Literature (themillions.com)\n",
      "9 points by drjohnson 4 hours ago  | hide | 2 comments \n",
      "\n",
      "\n",
      "25. Low-Cost Arduino-Based Ventilator (github.com)\n",
      "139 points by guiambros 10 hours ago  | hide | 71 comments \n",
      "\n",
      "\n",
      "26. Don't Terminate People's Internet Connections (ripe.net)\n",
      "242 points by venti 11 hours ago  | hide | 85 comments \n",
      "\n",
      "\n",
      "27. Phyphox: Physical Phone Experiments (phyphox.org)\n",
      "44 points by xenonite 12 hours ago  | hide | 5 comments \n",
      "\n",
      "\n",
      "28. Why Not WireGuard (ipfire.org)\n",
      "123 points by executesorder66 11 hours ago  | hide | 84 comments \n",
      "\n",
      "\n",
      "29. Show HN: Free web hosting for handshake TLDs, no account required (github.com)\n",
      "17 points by rasengan 7 hours ago  | hide | 4 comments \n",
      "\n",
      "\n",
      "30. HashiCorp Raises $175M at $5.1B Valuation (globenewswire.com)\n",
      "226 points by WestCoastJustin 10 hours ago  | hide | 64 comments \n",
      "\n",
      "More\n",
      "\n",
      "\n",
      "\n",
      "        Applications are open for YC Summer 2020\n",
      "      Guidelines\n",
      "        | FAQ\n",
      "        | Support\n",
      "        | API\n",
      "        | Security\n",
      "        | Lists\n",
      "        | Bookmarklet\n",
      "        | Legal\n",
      "        | Apply to YC\n",
      "        | ContactSearch:\n",
      "          \n",
      "\n",
      "\n",
      "\n"
     ]
    }
   ],
   "source": [
    "from bs4 import BeautifulSoup\n",
    "#https://stackoverflow.com/questions/48107191/bs4-featurenotfound-couldnt-find-a-tree-builder-with-the-features-you-requeste\n",
    "# Remove HTML tags using Beautiful Soup library\n",
    "soup = BeautifulSoup(r.text, \"html.parser\")\n",
    "print(soup.get_text())"
   ]
  },
  {
   "cell_type": "code",
   "execution_count": 8,
   "metadata": {
    "scrolled": true
   },
   "outputs": [
    {
     "data": {
      "text/plain": [
       "<tr class=\"athing\" id=\"22602888\">\n",
       "<td align=\"right\" class=\"title\" valign=\"top\"><span class=\"rank\">1.</span></td> <td class=\"votelinks\" valign=\"top\"><center><a href=\"vote?id=22602888&amp;how=up&amp;goto=news\" id=\"up_22602888\"><div class=\"votearrow\" title=\"upvote\"></div></a></center></td><td class=\"title\"><a class=\"storylink\" href=\"https://devops.novalagung.com/en/cicd-serverless-ebook-gitbook-github-pages-actions-calibre.html\">Serverless eBook Using Gitbook, GitHub Pages, GitHub Actions, and Calibre</a><span class=\"sitebit comhead\"> (<a href=\"from?site=novalagung.com\"><span class=\"sitestr\">novalagung.com</span></a>)</span></td></tr>"
      ]
     },
     "execution_count": 8,
     "metadata": {},
     "output_type": "execute_result"
    }
   ],
   "source": [
    "# Find all articles\n",
    "summaries = soup.find_all(\"tr\", class_=\"athing\")\n",
    "summaries[0]"
   ]
  },
  {
   "cell_type": "code",
   "execution_count": 9,
   "metadata": {},
   "outputs": [
    {
     "data": {
      "text/plain": [
       "'Serverless eBook Using Gitbook, GitHub Pages, GitHub Actions, and Calibre'"
      ]
     },
     "execution_count": 9,
     "metadata": {},
     "output_type": "execute_result"
    }
   ],
   "source": [
    "# Extract title\n",
    "summaries[0].find(\"a\", class_=\"storylink\").get_text().strip()"
   ]
  },
  {
   "cell_type": "code",
   "execution_count": 10,
   "metadata": {},
   "outputs": [
    {
     "name": "stdout",
     "output_type": "stream",
     "text": [
      "30 Article summaries found. Sample:\n",
      "Serverless eBook Using Gitbook, GitHub Pages, GitHub Actions, and Calibre\n"
     ]
    }
   ],
   "source": [
    "# Find all articles, extract titles\n",
    "articles = []\n",
    "summaries = soup.find_all(\"tr\", class_=\"athing\")\n",
    "for summary in summaries:\n",
    "    title = summary.find(\"a\", class_=\"storylink\").get_text().strip()\n",
    "    articles.append((title))\n",
    "\n",
    "print(len(articles), \"Article summaries found. Sample:\")\n",
    "print(articles[0])"
   ]
  },
  {
   "cell_type": "markdown",
   "metadata": {
    "collapsed": true
   },
   "source": [
    "## Normalization"
   ]
  },
  {
   "cell_type": "markdown",
   "metadata": {},
   "source": [
    "### Case Normalization"
   ]
  },
  {
   "cell_type": "code",
   "execution_count": 11,
   "metadata": {},
   "outputs": [
    {
     "name": "stdout",
     "output_type": "stream",
     "text": [
      "The first time you see The Second Renaissance it may look boring. Look at it at least twice and definitely watch part 2. It will change your view of the matrix. Are the human people the ones who started the war ? Is AI a bad thing ?\n"
     ]
    }
   ],
   "source": [
    "# Sample text\n",
    "text = \"The first time you see The Second Renaissance it may look boring. Look at it at least twice and definitely watch part 2. It will change your view of the matrix. Are the human people the ones who started the war ? Is AI a bad thing ?\"\n",
    "print(text)"
   ]
  },
  {
   "cell_type": "code",
   "execution_count": 12,
   "metadata": {},
   "outputs": [
    {
     "name": "stdout",
     "output_type": "stream",
     "text": [
      "the first time you see the second renaissance it may look boring. look at it at least twice and definitely watch part 2. it will change your view of the matrix. are the human people the ones who started the war ? is ai a bad thing ?\n"
     ]
    }
   ],
   "source": [
    "# Convert to lowercase\n",
    "text = text.lower() \n",
    "print(text)"
   ]
  },
  {
   "cell_type": "markdown",
   "metadata": {},
   "source": [
    "### Punctuation Removal"
   ]
  },
  {
   "cell_type": "code",
   "execution_count": 13,
   "metadata": {},
   "outputs": [
    {
     "name": "stdout",
     "output_type": "stream",
     "text": [
      "the first time you see the second renaissance it may look boring  look at it at least twice and definitely watch part 2  it will change your view of the matrix  are the human people the ones who started the war   is ai a bad thing  \n"
     ]
    }
   ],
   "source": [
    "import re\n",
    "\n",
    "# Remove punctuation characters\n",
    "text = re.sub(r\"[^a-zA-Z0-9]\", \" \", text) \n",
    "print(text)"
   ]
  },
  {
   "cell_type": "markdown",
   "metadata": {},
   "source": [
    "## Tokenization"
   ]
  },
  {
   "cell_type": "code",
   "execution_count": 14,
   "metadata": {},
   "outputs": [
    {
     "name": "stdout",
     "output_type": "stream",
     "text": [
      "['the', 'first', 'time', 'you', 'see', 'the', 'second', 'renaissance', 'it', 'may', 'look', 'boring', 'look', 'at', 'it', 'at', 'least', 'twice', 'and', 'definitely', 'watch', 'part', '2', 'it', 'will', 'change', 'your', 'view', 'of', 'the', 'matrix', 'are', 'the', 'human', 'people', 'the', 'ones', 'who', 'started', 'the', 'war', 'is', 'ai', 'a', 'bad', 'thing']\n"
     ]
    }
   ],
   "source": [
    "# Split text into tokens (words)\n",
    "words = text.split()\n",
    "print(words)"
   ]
  },
  {
   "cell_type": "markdown",
   "metadata": {},
   "source": [
    "### NLTK: Natural Language ToolKit"
   ]
  },
  {
   "cell_type": "code",
   "execution_count": 16,
   "metadata": {},
   "outputs": [],
   "source": [
    "import os\n",
    "import nltk\n",
    "nltk.data.path.append(os.path.join(os.getcwd(), \"nltk_data\"))"
   ]
  },
  {
   "cell_type": "code",
   "execution_count": 17,
   "metadata": {},
   "outputs": [
    {
     "name": "stdout",
     "output_type": "stream",
     "text": [
      "Dr. Smith graduated from the University of Washington. He later started an analytics firm called Lux, which catered to enterprise customers.\n"
     ]
    }
   ],
   "source": [
    "# Another sample text\n",
    "text = \"Dr. Smith graduated from the University of Washington. He later started an analytics firm called Lux, which catered to enterprise customers.\"\n",
    "print(text)"
   ]
  },
  {
   "cell_type": "code",
   "execution_count": 18,
   "metadata": {},
   "outputs": [
    {
     "ename": "LookupError",
     "evalue": "\n**********************************************************************\n  Resource \u001b[93mpunkt\u001b[0m not found.\n  Please use the NLTK Downloader to obtain the resource:\n\n  \u001b[31m>>> import nltk\n  >>> nltk.download('punkt')\n  \u001b[0m\n  Searched in:\n    - '/Users/manwaiwong/nltk_data'\n    - '/usr/share/nltk_data'\n    - '/usr/local/share/nltk_data'\n    - '/usr/lib/nltk_data'\n    - '/usr/local/lib/nltk_data'\n    - '/Users/manwaiwong/anaconda3/envs/ai_trade/nltk_data'\n    - '/Users/manwaiwong/anaconda3/envs/ai_trade/share/nltk_data'\n    - '/Users/manwaiwong/anaconda3/envs/ai_trade/lib/nltk_data'\n    - '/Volumes/TWD_00001/ssd_workspace/nd880_AI_for_trading/lessons/term2/lesson3_text_processing/nltk_data'\n    - ''\n**********************************************************************\n",
     "output_type": "error",
     "traceback": [
      "\u001b[0;31m---------------------------------------------------------------------------\u001b[0m",
      "\u001b[0;31mLookupError\u001b[0m                               Traceback (most recent call last)",
      "\u001b[0;32m<ipython-input-18-a9df6c33027b>\u001b[0m in \u001b[0;36m<module>\u001b[0;34m()\u001b[0m\n\u001b[1;32m      2\u001b[0m \u001b[0;34m\u001b[0m\u001b[0m\n\u001b[1;32m      3\u001b[0m \u001b[0;31m# Split text into words using NLTK\u001b[0m\u001b[0;34m\u001b[0m\u001b[0;34m\u001b[0m\u001b[0m\n\u001b[0;32m----> 4\u001b[0;31m \u001b[0mwords\u001b[0m \u001b[0;34m=\u001b[0m \u001b[0mword_tokenize\u001b[0m\u001b[0;34m(\u001b[0m\u001b[0mtext\u001b[0m\u001b[0;34m)\u001b[0m\u001b[0;34m\u001b[0m\u001b[0m\n\u001b[0m\u001b[1;32m      5\u001b[0m \u001b[0mprint\u001b[0m\u001b[0;34m(\u001b[0m\u001b[0mwords\u001b[0m\u001b[0;34m)\u001b[0m\u001b[0;34m\u001b[0m\u001b[0m\n",
      "\u001b[0;32m/Users/manwaiwong/anaconda3/envs/ai_trade/lib/python3.5/site-packages/nltk/tokenize/__init__.py\u001b[0m in \u001b[0;36mword_tokenize\u001b[0;34m(text, language, preserve_line)\u001b[0m\n\u001b[1;32m    126\u001b[0m     \u001b[0;34m:\u001b[0m\u001b[0mtype\u001b[0m \u001b[0mpreserver_line\u001b[0m\u001b[0;34m:\u001b[0m \u001b[0mbool\u001b[0m\u001b[0;34m\u001b[0m\u001b[0m\n\u001b[1;32m    127\u001b[0m     \"\"\"\n\u001b[0;32m--> 128\u001b[0;31m     \u001b[0msentences\u001b[0m \u001b[0;34m=\u001b[0m \u001b[0;34m[\u001b[0m\u001b[0mtext\u001b[0m\u001b[0;34m]\u001b[0m \u001b[0;32mif\u001b[0m \u001b[0mpreserve_line\u001b[0m \u001b[0;32melse\u001b[0m \u001b[0msent_tokenize\u001b[0m\u001b[0;34m(\u001b[0m\u001b[0mtext\u001b[0m\u001b[0;34m,\u001b[0m \u001b[0mlanguage\u001b[0m\u001b[0;34m)\u001b[0m\u001b[0;34m\u001b[0m\u001b[0m\n\u001b[0m\u001b[1;32m    129\u001b[0m     return [token for sent in sentences\n\u001b[1;32m    130\u001b[0m             for token in _treebank_word_tokenizer.tokenize(sent)]\n",
      "\u001b[0;32m/Users/manwaiwong/anaconda3/envs/ai_trade/lib/python3.5/site-packages/nltk/tokenize/__init__.py\u001b[0m in \u001b[0;36msent_tokenize\u001b[0;34m(text, language)\u001b[0m\n\u001b[1;32m     92\u001b[0m     \u001b[0;34m:\u001b[0m\u001b[0mparam\u001b[0m \u001b[0mlanguage\u001b[0m\u001b[0;34m:\u001b[0m \u001b[0mthe\u001b[0m \u001b[0mmodel\u001b[0m \u001b[0mname\u001b[0m \u001b[0;32min\u001b[0m \u001b[0mthe\u001b[0m \u001b[0mPunkt\u001b[0m \u001b[0mcorpus\u001b[0m\u001b[0;34m\u001b[0m\u001b[0m\n\u001b[1;32m     93\u001b[0m     \"\"\"\n\u001b[0;32m---> 94\u001b[0;31m     \u001b[0mtokenizer\u001b[0m \u001b[0;34m=\u001b[0m \u001b[0mload\u001b[0m\u001b[0;34m(\u001b[0m\u001b[0;34m'tokenizers/punkt/{0}.pickle'\u001b[0m\u001b[0;34m.\u001b[0m\u001b[0mformat\u001b[0m\u001b[0;34m(\u001b[0m\u001b[0mlanguage\u001b[0m\u001b[0;34m)\u001b[0m\u001b[0;34m)\u001b[0m\u001b[0;34m\u001b[0m\u001b[0m\n\u001b[0m\u001b[1;32m     95\u001b[0m     \u001b[0;32mreturn\u001b[0m \u001b[0mtokenizer\u001b[0m\u001b[0;34m.\u001b[0m\u001b[0mtokenize\u001b[0m\u001b[0;34m(\u001b[0m\u001b[0mtext\u001b[0m\u001b[0;34m)\u001b[0m\u001b[0;34m\u001b[0m\u001b[0m\n\u001b[1;32m     96\u001b[0m \u001b[0;34m\u001b[0m\u001b[0m\n",
      "\u001b[0;32m/Users/manwaiwong/anaconda3/envs/ai_trade/lib/python3.5/site-packages/nltk/data.py\u001b[0m in \u001b[0;36mload\u001b[0;34m(resource_url, format, cache, verbose, logic_parser, fstruct_reader, encoding)\u001b[0m\n\u001b[1;32m    834\u001b[0m \u001b[0;34m\u001b[0m\u001b[0m\n\u001b[1;32m    835\u001b[0m     \u001b[0;31m# Load the resource.\u001b[0m\u001b[0;34m\u001b[0m\u001b[0;34m\u001b[0m\u001b[0m\n\u001b[0;32m--> 836\u001b[0;31m     \u001b[0mopened_resource\u001b[0m \u001b[0;34m=\u001b[0m \u001b[0m_open\u001b[0m\u001b[0;34m(\u001b[0m\u001b[0mresource_url\u001b[0m\u001b[0;34m)\u001b[0m\u001b[0;34m\u001b[0m\u001b[0m\n\u001b[0m\u001b[1;32m    837\u001b[0m \u001b[0;34m\u001b[0m\u001b[0m\n\u001b[1;32m    838\u001b[0m     \u001b[0;32mif\u001b[0m \u001b[0mformat\u001b[0m \u001b[0;34m==\u001b[0m \u001b[0;34m'raw'\u001b[0m\u001b[0;34m:\u001b[0m\u001b[0;34m\u001b[0m\u001b[0m\n",
      "\u001b[0;32m/Users/manwaiwong/anaconda3/envs/ai_trade/lib/python3.5/site-packages/nltk/data.py\u001b[0m in \u001b[0;36m_open\u001b[0;34m(resource_url)\u001b[0m\n\u001b[1;32m    952\u001b[0m \u001b[0;34m\u001b[0m\u001b[0m\n\u001b[1;32m    953\u001b[0m     \u001b[0;32mif\u001b[0m \u001b[0mprotocol\u001b[0m \u001b[0;32mis\u001b[0m \u001b[0;32mNone\u001b[0m \u001b[0;32mor\u001b[0m \u001b[0mprotocol\u001b[0m\u001b[0;34m.\u001b[0m\u001b[0mlower\u001b[0m\u001b[0;34m(\u001b[0m\u001b[0;34m)\u001b[0m \u001b[0;34m==\u001b[0m \u001b[0;34m'nltk'\u001b[0m\u001b[0;34m:\u001b[0m\u001b[0;34m\u001b[0m\u001b[0m\n\u001b[0;32m--> 954\u001b[0;31m         \u001b[0;32mreturn\u001b[0m \u001b[0mfind\u001b[0m\u001b[0;34m(\u001b[0m\u001b[0mpath_\u001b[0m\u001b[0;34m,\u001b[0m \u001b[0mpath\u001b[0m \u001b[0;34m+\u001b[0m \u001b[0;34m[\u001b[0m\u001b[0;34m''\u001b[0m\u001b[0;34m]\u001b[0m\u001b[0;34m)\u001b[0m\u001b[0;34m.\u001b[0m\u001b[0mopen\u001b[0m\u001b[0;34m(\u001b[0m\u001b[0;34m)\u001b[0m\u001b[0;34m\u001b[0m\u001b[0m\n\u001b[0m\u001b[1;32m    955\u001b[0m     \u001b[0;32melif\u001b[0m \u001b[0mprotocol\u001b[0m\u001b[0;34m.\u001b[0m\u001b[0mlower\u001b[0m\u001b[0;34m(\u001b[0m\u001b[0;34m)\u001b[0m \u001b[0;34m==\u001b[0m \u001b[0;34m'file'\u001b[0m\u001b[0;34m:\u001b[0m\u001b[0;34m\u001b[0m\u001b[0m\n\u001b[1;32m    956\u001b[0m         \u001b[0;31m# urllib might not use mode='rb', so handle this one ourselves:\u001b[0m\u001b[0;34m\u001b[0m\u001b[0;34m\u001b[0m\u001b[0m\n",
      "\u001b[0;32m/Users/manwaiwong/anaconda3/envs/ai_trade/lib/python3.5/site-packages/nltk/data.py\u001b[0m in \u001b[0;36mfind\u001b[0;34m(resource_name, paths)\u001b[0m\n\u001b[1;32m    673\u001b[0m     \u001b[0msep\u001b[0m \u001b[0;34m=\u001b[0m \u001b[0;34m'*'\u001b[0m \u001b[0;34m*\u001b[0m \u001b[0;36m70\u001b[0m\u001b[0;34m\u001b[0m\u001b[0m\n\u001b[1;32m    674\u001b[0m     \u001b[0mresource_not_found\u001b[0m \u001b[0;34m=\u001b[0m \u001b[0;34m'\\n%s\\n%s\\n%s\\n'\u001b[0m \u001b[0;34m%\u001b[0m \u001b[0;34m(\u001b[0m\u001b[0msep\u001b[0m\u001b[0;34m,\u001b[0m \u001b[0mmsg\u001b[0m\u001b[0;34m,\u001b[0m \u001b[0msep\u001b[0m\u001b[0;34m)\u001b[0m\u001b[0;34m\u001b[0m\u001b[0m\n\u001b[0;32m--> 675\u001b[0;31m     \u001b[0;32mraise\u001b[0m \u001b[0mLookupError\u001b[0m\u001b[0;34m(\u001b[0m\u001b[0mresource_not_found\u001b[0m\u001b[0;34m)\u001b[0m\u001b[0;34m\u001b[0m\u001b[0m\n\u001b[0m\u001b[1;32m    676\u001b[0m \u001b[0;34m\u001b[0m\u001b[0m\n\u001b[1;32m    677\u001b[0m \u001b[0;34m\u001b[0m\u001b[0m\n",
      "\u001b[0;31mLookupError\u001b[0m: \n**********************************************************************\n  Resource \u001b[93mpunkt\u001b[0m not found.\n  Please use the NLTK Downloader to obtain the resource:\n\n  \u001b[31m>>> import nltk\n  >>> nltk.download('punkt')\n  \u001b[0m\n  Searched in:\n    - '/Users/manwaiwong/nltk_data'\n    - '/usr/share/nltk_data'\n    - '/usr/local/share/nltk_data'\n    - '/usr/lib/nltk_data'\n    - '/usr/local/lib/nltk_data'\n    - '/Users/manwaiwong/anaconda3/envs/ai_trade/nltk_data'\n    - '/Users/manwaiwong/anaconda3/envs/ai_trade/share/nltk_data'\n    - '/Users/manwaiwong/anaconda3/envs/ai_trade/lib/nltk_data'\n    - '/Volumes/TWD_00001/ssd_workspace/nd880_AI_for_trading/lessons/term2/lesson3_text_processing/nltk_data'\n    - ''\n**********************************************************************\n"
     ]
    }
   ],
   "source": [
    "from nltk.tokenize import word_tokenize\n",
    "\n",
    "# Split text into words using NLTK\n",
    "words = word_tokenize(text)\n",
    "print(words)"
   ]
  },
  {
   "cell_type": "code",
   "execution_count": null,
   "metadata": {},
   "outputs": [],
   "source": [
    "from nltk.tokenize import sent_tokenize\n",
    "\n",
    "# Split text into sentences\n",
    "sentences = sent_tokenize(text)\n",
    "print(sentences)"
   ]
  },
  {
   "cell_type": "code",
   "execution_count": null,
   "metadata": {},
   "outputs": [],
   "source": [
    "# List stop words\n",
    "from nltk.corpus import stopwords\n",
    "print(stopwords.words(\"english\"))"
   ]
  },
  {
   "cell_type": "code",
   "execution_count": null,
   "metadata": {},
   "outputs": [],
   "source": [
    "# Reset text\n",
    "text = \"The first time you see The Second Renaissance it may look boring. Look at it at least twice and definitely watch part 2. It will change your view of the matrix. Are the human people the ones who started the war ? Is AI a bad thing ?\"\n",
    "\n",
    "# Normalize it\n",
    "text = re.sub(r\"[^a-zA-Z0-9]\", \" \", text.lower())\n",
    "\n",
    "# Tokenize it\n",
    "words = text.split()\n",
    "print(words)"
   ]
  },
  {
   "cell_type": "code",
   "execution_count": null,
   "metadata": {},
   "outputs": [],
   "source": [
    "# Remove stop words\n",
    "words = [w for w in words if w not in stopwords.words(\"english\")]\n",
    "print(words)"
   ]
  },
  {
   "cell_type": "markdown",
   "metadata": {},
   "source": [
    "### Sentence Parsing"
   ]
  },
  {
   "cell_type": "code",
   "execution_count": null,
   "metadata": {},
   "outputs": [],
   "source": [
    "import nltk\n",
    "\n",
    "# Define a custom grammar\n",
    "my_grammar = nltk.CFG.fromstring(\"\"\"\n",
    "S -> NP VP\n",
    "PP -> P NP\n",
    "NP -> Det N | Det N PP | 'I'\n",
    "VP -> V NP | VP PP\n",
    "Det -> 'an' | 'my'\n",
    "N -> 'elephant' | 'pajamas'\n",
    "V -> 'shot'\n",
    "P -> 'in'\n",
    "\"\"\")\n",
    "parser = nltk.ChartParser(my_grammar)\n",
    "\n",
    "# Parse a sentence\n",
    "sentence = word_tokenize(\"I shot an elephant in my pajamas\")\n",
    "for tree in parser.parse(sentence):\n",
    "    print(tree)"
   ]
  },
  {
   "cell_type": "markdown",
   "metadata": {},
   "source": [
    "## Stemming & Lemmatization\n",
    "\n",
    "### Stemming"
   ]
  },
  {
   "cell_type": "code",
   "execution_count": null,
   "metadata": {},
   "outputs": [],
   "source": [
    "from nltk.stem.porter import PorterStemmer\n",
    "\n",
    "# Reduce words to their stems\n",
    "stemmed = [PorterStemmer().stem(w) for w in words]\n",
    "print(stemmed)"
   ]
  },
  {
   "cell_type": "markdown",
   "metadata": {},
   "source": [
    "### Lemmatization"
   ]
  },
  {
   "cell_type": "code",
   "execution_count": 19,
   "metadata": {},
   "outputs": [
    {
     "ename": "LookupError",
     "evalue": "\n**********************************************************************\n  Resource \u001b[93mwordnet\u001b[0m not found.\n  Please use the NLTK Downloader to obtain the resource:\n\n  \u001b[31m>>> import nltk\n  >>> nltk.download('wordnet')\n  \u001b[0m\n  Searched in:\n    - '/Users/manwaiwong/nltk_data'\n    - '/usr/share/nltk_data'\n    - '/usr/local/share/nltk_data'\n    - '/usr/lib/nltk_data'\n    - '/usr/local/lib/nltk_data'\n    - '/Users/manwaiwong/anaconda3/envs/ai_trade/nltk_data'\n    - '/Users/manwaiwong/anaconda3/envs/ai_trade/share/nltk_data'\n    - '/Users/manwaiwong/anaconda3/envs/ai_trade/lib/nltk_data'\n    - '/Volumes/TWD_00001/ssd_workspace/nd880_AI_for_trading/lessons/term2/lesson3_text_processing/nltk_data'\n**********************************************************************\n",
     "output_type": "error",
     "traceback": [
      "\u001b[0;31m---------------------------------------------------------------------------\u001b[0m",
      "\u001b[0;31mLookupError\u001b[0m                               Traceback (most recent call last)",
      "\u001b[0;32m/Users/manwaiwong/anaconda3/envs/ai_trade/lib/python3.5/site-packages/nltk/corpus/util.py\u001b[0m in \u001b[0;36m__load\u001b[0;34m(self)\u001b[0m\n\u001b[1;32m     79\u001b[0m             \u001b[0;32mexcept\u001b[0m \u001b[0mLookupError\u001b[0m \u001b[0;32mas\u001b[0m \u001b[0me\u001b[0m\u001b[0;34m:\u001b[0m\u001b[0;34m\u001b[0m\u001b[0m\n\u001b[0;32m---> 80\u001b[0;31m                 \u001b[0;32mtry\u001b[0m\u001b[0;34m:\u001b[0m \u001b[0mroot\u001b[0m \u001b[0;34m=\u001b[0m \u001b[0mnltk\u001b[0m\u001b[0;34m.\u001b[0m\u001b[0mdata\u001b[0m\u001b[0;34m.\u001b[0m\u001b[0mfind\u001b[0m\u001b[0;34m(\u001b[0m\u001b[0;34m'{}/{}'\u001b[0m\u001b[0;34m.\u001b[0m\u001b[0mformat\u001b[0m\u001b[0;34m(\u001b[0m\u001b[0mself\u001b[0m\u001b[0;34m.\u001b[0m\u001b[0msubdir\u001b[0m\u001b[0;34m,\u001b[0m \u001b[0mzip_name\u001b[0m\u001b[0;34m)\u001b[0m\u001b[0;34m)\u001b[0m\u001b[0;34m\u001b[0m\u001b[0m\n\u001b[0m\u001b[1;32m     81\u001b[0m                 \u001b[0;32mexcept\u001b[0m \u001b[0mLookupError\u001b[0m\u001b[0;34m:\u001b[0m \u001b[0;32mraise\u001b[0m \u001b[0me\u001b[0m\u001b[0;34m\u001b[0m\u001b[0m\n",
      "\u001b[0;32m/Users/manwaiwong/anaconda3/envs/ai_trade/lib/python3.5/site-packages/nltk/data.py\u001b[0m in \u001b[0;36mfind\u001b[0;34m(resource_name, paths)\u001b[0m\n\u001b[1;32m    674\u001b[0m     \u001b[0mresource_not_found\u001b[0m \u001b[0;34m=\u001b[0m \u001b[0;34m'\\n%s\\n%s\\n%s\\n'\u001b[0m \u001b[0;34m%\u001b[0m \u001b[0;34m(\u001b[0m\u001b[0msep\u001b[0m\u001b[0;34m,\u001b[0m \u001b[0mmsg\u001b[0m\u001b[0;34m,\u001b[0m \u001b[0msep\u001b[0m\u001b[0;34m)\u001b[0m\u001b[0;34m\u001b[0m\u001b[0m\n\u001b[0;32m--> 675\u001b[0;31m     \u001b[0;32mraise\u001b[0m \u001b[0mLookupError\u001b[0m\u001b[0;34m(\u001b[0m\u001b[0mresource_not_found\u001b[0m\u001b[0;34m)\u001b[0m\u001b[0;34m\u001b[0m\u001b[0m\n\u001b[0m\u001b[1;32m    676\u001b[0m \u001b[0;34m\u001b[0m\u001b[0m\n",
      "\u001b[0;31mLookupError\u001b[0m: \n**********************************************************************\n  Resource \u001b[93mwordnet\u001b[0m not found.\n  Please use the NLTK Downloader to obtain the resource:\n\n  \u001b[31m>>> import nltk\n  >>> nltk.download('wordnet')\n  \u001b[0m\n  Searched in:\n    - '/Users/manwaiwong/nltk_data'\n    - '/usr/share/nltk_data'\n    - '/usr/local/share/nltk_data'\n    - '/usr/lib/nltk_data'\n    - '/usr/local/lib/nltk_data'\n    - '/Users/manwaiwong/anaconda3/envs/ai_trade/nltk_data'\n    - '/Users/manwaiwong/anaconda3/envs/ai_trade/share/nltk_data'\n    - '/Users/manwaiwong/anaconda3/envs/ai_trade/lib/nltk_data'\n    - '/Volumes/TWD_00001/ssd_workspace/nd880_AI_for_trading/lessons/term2/lesson3_text_processing/nltk_data'\n**********************************************************************\n",
      "\nDuring handling of the above exception, another exception occurred:\n",
      "\u001b[0;31mLookupError\u001b[0m                               Traceback (most recent call last)",
      "\u001b[0;32m<ipython-input-19-973660e6e5fa>\u001b[0m in \u001b[0;36m<module>\u001b[0;34m()\u001b[0m\n\u001b[1;32m      2\u001b[0m \u001b[0;34m\u001b[0m\u001b[0m\n\u001b[1;32m      3\u001b[0m \u001b[0;31m# Reduce words to their root form\u001b[0m\u001b[0;34m\u001b[0m\u001b[0;34m\u001b[0m\u001b[0m\n\u001b[0;32m----> 4\u001b[0;31m \u001b[0mlemmed\u001b[0m \u001b[0;34m=\u001b[0m \u001b[0;34m[\u001b[0m\u001b[0mWordNetLemmatizer\u001b[0m\u001b[0;34m(\u001b[0m\u001b[0;34m)\u001b[0m\u001b[0;34m.\u001b[0m\u001b[0mlemmatize\u001b[0m\u001b[0;34m(\u001b[0m\u001b[0mw\u001b[0m\u001b[0;34m)\u001b[0m \u001b[0;32mfor\u001b[0m \u001b[0mw\u001b[0m \u001b[0;32min\u001b[0m \u001b[0mwords\u001b[0m\u001b[0;34m]\u001b[0m\u001b[0;34m\u001b[0m\u001b[0m\n\u001b[0m\u001b[1;32m      5\u001b[0m \u001b[0mprint\u001b[0m\u001b[0;34m(\u001b[0m\u001b[0mlemmed\u001b[0m\u001b[0;34m)\u001b[0m\u001b[0;34m\u001b[0m\u001b[0m\n",
      "\u001b[0;32m<ipython-input-19-973660e6e5fa>\u001b[0m in \u001b[0;36m<listcomp>\u001b[0;34m(.0)\u001b[0m\n\u001b[1;32m      2\u001b[0m \u001b[0;34m\u001b[0m\u001b[0m\n\u001b[1;32m      3\u001b[0m \u001b[0;31m# Reduce words to their root form\u001b[0m\u001b[0;34m\u001b[0m\u001b[0;34m\u001b[0m\u001b[0m\n\u001b[0;32m----> 4\u001b[0;31m \u001b[0mlemmed\u001b[0m \u001b[0;34m=\u001b[0m \u001b[0;34m[\u001b[0m\u001b[0mWordNetLemmatizer\u001b[0m\u001b[0;34m(\u001b[0m\u001b[0;34m)\u001b[0m\u001b[0;34m.\u001b[0m\u001b[0mlemmatize\u001b[0m\u001b[0;34m(\u001b[0m\u001b[0mw\u001b[0m\u001b[0;34m)\u001b[0m \u001b[0;32mfor\u001b[0m \u001b[0mw\u001b[0m \u001b[0;32min\u001b[0m \u001b[0mwords\u001b[0m\u001b[0;34m]\u001b[0m\u001b[0;34m\u001b[0m\u001b[0m\n\u001b[0m\u001b[1;32m      5\u001b[0m \u001b[0mprint\u001b[0m\u001b[0;34m(\u001b[0m\u001b[0mlemmed\u001b[0m\u001b[0;34m)\u001b[0m\u001b[0;34m\u001b[0m\u001b[0m\n",
      "\u001b[0;32m/Users/manwaiwong/anaconda3/envs/ai_trade/lib/python3.5/site-packages/nltk/stem/wordnet.py\u001b[0m in \u001b[0;36mlemmatize\u001b[0;34m(self, word, pos)\u001b[0m\n\u001b[1;32m     38\u001b[0m \u001b[0;34m\u001b[0m\u001b[0m\n\u001b[1;32m     39\u001b[0m     \u001b[0;32mdef\u001b[0m \u001b[0mlemmatize\u001b[0m\u001b[0;34m(\u001b[0m\u001b[0mself\u001b[0m\u001b[0;34m,\u001b[0m \u001b[0mword\u001b[0m\u001b[0;34m,\u001b[0m \u001b[0mpos\u001b[0m\u001b[0;34m=\u001b[0m\u001b[0mNOUN\u001b[0m\u001b[0;34m)\u001b[0m\u001b[0;34m:\u001b[0m\u001b[0;34m\u001b[0m\u001b[0m\n\u001b[0;32m---> 40\u001b[0;31m         \u001b[0mlemmas\u001b[0m \u001b[0;34m=\u001b[0m \u001b[0mwordnet\u001b[0m\u001b[0;34m.\u001b[0m\u001b[0m_morphy\u001b[0m\u001b[0;34m(\u001b[0m\u001b[0mword\u001b[0m\u001b[0;34m,\u001b[0m \u001b[0mpos\u001b[0m\u001b[0;34m)\u001b[0m\u001b[0;34m\u001b[0m\u001b[0m\n\u001b[0m\u001b[1;32m     41\u001b[0m         \u001b[0;32mreturn\u001b[0m \u001b[0mmin\u001b[0m\u001b[0;34m(\u001b[0m\u001b[0mlemmas\u001b[0m\u001b[0;34m,\u001b[0m \u001b[0mkey\u001b[0m\u001b[0;34m=\u001b[0m\u001b[0mlen\u001b[0m\u001b[0;34m)\u001b[0m \u001b[0;32mif\u001b[0m \u001b[0mlemmas\u001b[0m \u001b[0;32melse\u001b[0m \u001b[0mword\u001b[0m\u001b[0;34m\u001b[0m\u001b[0m\n\u001b[1;32m     42\u001b[0m \u001b[0;34m\u001b[0m\u001b[0m\n",
      "\u001b[0;32m/Users/manwaiwong/anaconda3/envs/ai_trade/lib/python3.5/site-packages/nltk/corpus/util.py\u001b[0m in \u001b[0;36m__getattr__\u001b[0;34m(self, attr)\u001b[0m\n\u001b[1;32m    114\u001b[0m             \u001b[0;32mraise\u001b[0m \u001b[0mAttributeError\u001b[0m\u001b[0;34m(\u001b[0m\u001b[0;34m\"LazyCorpusLoader object has no attribute '__bases__'\"\u001b[0m\u001b[0;34m)\u001b[0m\u001b[0;34m\u001b[0m\u001b[0m\n\u001b[1;32m    115\u001b[0m \u001b[0;34m\u001b[0m\u001b[0m\n\u001b[0;32m--> 116\u001b[0;31m         \u001b[0mself\u001b[0m\u001b[0;34m.\u001b[0m\u001b[0m__load\u001b[0m\u001b[0;34m(\u001b[0m\u001b[0;34m)\u001b[0m\u001b[0;34m\u001b[0m\u001b[0m\n\u001b[0m\u001b[1;32m    117\u001b[0m         \u001b[0;31m# This looks circular, but its not, since __load() changes our\u001b[0m\u001b[0;34m\u001b[0m\u001b[0;34m\u001b[0m\u001b[0m\n\u001b[1;32m    118\u001b[0m         \u001b[0;31m# __class__ to something new:\u001b[0m\u001b[0;34m\u001b[0m\u001b[0;34m\u001b[0m\u001b[0m\n",
      "\u001b[0;32m/Users/manwaiwong/anaconda3/envs/ai_trade/lib/python3.5/site-packages/nltk/corpus/util.py\u001b[0m in \u001b[0;36m__load\u001b[0;34m(self)\u001b[0m\n\u001b[1;32m     79\u001b[0m             \u001b[0;32mexcept\u001b[0m \u001b[0mLookupError\u001b[0m \u001b[0;32mas\u001b[0m \u001b[0me\u001b[0m\u001b[0;34m:\u001b[0m\u001b[0;34m\u001b[0m\u001b[0m\n\u001b[1;32m     80\u001b[0m                 \u001b[0;32mtry\u001b[0m\u001b[0;34m:\u001b[0m \u001b[0mroot\u001b[0m \u001b[0;34m=\u001b[0m \u001b[0mnltk\u001b[0m\u001b[0;34m.\u001b[0m\u001b[0mdata\u001b[0m\u001b[0;34m.\u001b[0m\u001b[0mfind\u001b[0m\u001b[0;34m(\u001b[0m\u001b[0;34m'{}/{}'\u001b[0m\u001b[0;34m.\u001b[0m\u001b[0mformat\u001b[0m\u001b[0;34m(\u001b[0m\u001b[0mself\u001b[0m\u001b[0;34m.\u001b[0m\u001b[0msubdir\u001b[0m\u001b[0;34m,\u001b[0m \u001b[0mzip_name\u001b[0m\u001b[0;34m)\u001b[0m\u001b[0;34m)\u001b[0m\u001b[0;34m\u001b[0m\u001b[0m\n\u001b[0;32m---> 81\u001b[0;31m                 \u001b[0;32mexcept\u001b[0m \u001b[0mLookupError\u001b[0m\u001b[0;34m:\u001b[0m \u001b[0;32mraise\u001b[0m \u001b[0me\u001b[0m\u001b[0;34m\u001b[0m\u001b[0m\n\u001b[0m\u001b[1;32m     82\u001b[0m \u001b[0;34m\u001b[0m\u001b[0m\n\u001b[1;32m     83\u001b[0m         \u001b[0;31m# Load the corpus.\u001b[0m\u001b[0;34m\u001b[0m\u001b[0;34m\u001b[0m\u001b[0m\n",
      "\u001b[0;32m/Users/manwaiwong/anaconda3/envs/ai_trade/lib/python3.5/site-packages/nltk/corpus/util.py\u001b[0m in \u001b[0;36m__load\u001b[0;34m(self)\u001b[0m\n\u001b[1;32m     76\u001b[0m         \u001b[0;32melse\u001b[0m\u001b[0;34m:\u001b[0m\u001b[0;34m\u001b[0m\u001b[0m\n\u001b[1;32m     77\u001b[0m             \u001b[0;32mtry\u001b[0m\u001b[0;34m:\u001b[0m\u001b[0;34m\u001b[0m\u001b[0m\n\u001b[0;32m---> 78\u001b[0;31m                 \u001b[0mroot\u001b[0m \u001b[0;34m=\u001b[0m \u001b[0mnltk\u001b[0m\u001b[0;34m.\u001b[0m\u001b[0mdata\u001b[0m\u001b[0;34m.\u001b[0m\u001b[0mfind\u001b[0m\u001b[0;34m(\u001b[0m\u001b[0;34m'{}/{}'\u001b[0m\u001b[0;34m.\u001b[0m\u001b[0mformat\u001b[0m\u001b[0;34m(\u001b[0m\u001b[0mself\u001b[0m\u001b[0;34m.\u001b[0m\u001b[0msubdir\u001b[0m\u001b[0;34m,\u001b[0m \u001b[0mself\u001b[0m\u001b[0;34m.\u001b[0m\u001b[0m__name\u001b[0m\u001b[0;34m)\u001b[0m\u001b[0;34m)\u001b[0m\u001b[0;34m\u001b[0m\u001b[0m\n\u001b[0m\u001b[1;32m     79\u001b[0m             \u001b[0;32mexcept\u001b[0m \u001b[0mLookupError\u001b[0m \u001b[0;32mas\u001b[0m \u001b[0me\u001b[0m\u001b[0;34m:\u001b[0m\u001b[0;34m\u001b[0m\u001b[0m\n\u001b[1;32m     80\u001b[0m                 \u001b[0;32mtry\u001b[0m\u001b[0;34m:\u001b[0m \u001b[0mroot\u001b[0m \u001b[0;34m=\u001b[0m \u001b[0mnltk\u001b[0m\u001b[0;34m.\u001b[0m\u001b[0mdata\u001b[0m\u001b[0;34m.\u001b[0m\u001b[0mfind\u001b[0m\u001b[0;34m(\u001b[0m\u001b[0;34m'{}/{}'\u001b[0m\u001b[0;34m.\u001b[0m\u001b[0mformat\u001b[0m\u001b[0;34m(\u001b[0m\u001b[0mself\u001b[0m\u001b[0;34m.\u001b[0m\u001b[0msubdir\u001b[0m\u001b[0;34m,\u001b[0m \u001b[0mzip_name\u001b[0m\u001b[0;34m)\u001b[0m\u001b[0;34m)\u001b[0m\u001b[0;34m\u001b[0m\u001b[0m\n",
      "\u001b[0;32m/Users/manwaiwong/anaconda3/envs/ai_trade/lib/python3.5/site-packages/nltk/data.py\u001b[0m in \u001b[0;36mfind\u001b[0;34m(resource_name, paths)\u001b[0m\n\u001b[1;32m    673\u001b[0m     \u001b[0msep\u001b[0m \u001b[0;34m=\u001b[0m \u001b[0;34m'*'\u001b[0m \u001b[0;34m*\u001b[0m \u001b[0;36m70\u001b[0m\u001b[0;34m\u001b[0m\u001b[0m\n\u001b[1;32m    674\u001b[0m     \u001b[0mresource_not_found\u001b[0m \u001b[0;34m=\u001b[0m \u001b[0;34m'\\n%s\\n%s\\n%s\\n'\u001b[0m \u001b[0;34m%\u001b[0m \u001b[0;34m(\u001b[0m\u001b[0msep\u001b[0m\u001b[0;34m,\u001b[0m \u001b[0mmsg\u001b[0m\u001b[0;34m,\u001b[0m \u001b[0msep\u001b[0m\u001b[0;34m)\u001b[0m\u001b[0;34m\u001b[0m\u001b[0m\n\u001b[0;32m--> 675\u001b[0;31m     \u001b[0;32mraise\u001b[0m \u001b[0mLookupError\u001b[0m\u001b[0;34m(\u001b[0m\u001b[0mresource_not_found\u001b[0m\u001b[0;34m)\u001b[0m\u001b[0;34m\u001b[0m\u001b[0m\n\u001b[0m\u001b[1;32m    676\u001b[0m \u001b[0;34m\u001b[0m\u001b[0m\n\u001b[1;32m    677\u001b[0m \u001b[0;34m\u001b[0m\u001b[0m\n",
      "\u001b[0;31mLookupError\u001b[0m: \n**********************************************************************\n  Resource \u001b[93mwordnet\u001b[0m not found.\n  Please use the NLTK Downloader to obtain the resource:\n\n  \u001b[31m>>> import nltk\n  >>> nltk.download('wordnet')\n  \u001b[0m\n  Searched in:\n    - '/Users/manwaiwong/nltk_data'\n    - '/usr/share/nltk_data'\n    - '/usr/local/share/nltk_data'\n    - '/usr/lib/nltk_data'\n    - '/usr/local/lib/nltk_data'\n    - '/Users/manwaiwong/anaconda3/envs/ai_trade/nltk_data'\n    - '/Users/manwaiwong/anaconda3/envs/ai_trade/share/nltk_data'\n    - '/Users/manwaiwong/anaconda3/envs/ai_trade/lib/nltk_data'\n    - '/Volumes/TWD_00001/ssd_workspace/nd880_AI_for_trading/lessons/term2/lesson3_text_processing/nltk_data'\n**********************************************************************\n"
     ]
    }
   ],
   "source": [
    "from nltk.stem.wordnet import WordNetLemmatizer\n",
    "\n",
    "# Reduce words to their root form\n",
    "lemmed = [WordNetLemmatizer().lemmatize(w) for w in words]\n",
    "print(lemmed)"
   ]
  },
  {
   "cell_type": "code",
   "execution_count": 20,
   "metadata": {},
   "outputs": [
    {
     "ename": "NameError",
     "evalue": "name 'lemmed' is not defined",
     "output_type": "error",
     "traceback": [
      "\u001b[0;31m---------------------------------------------------------------------------\u001b[0m",
      "\u001b[0;31mNameError\u001b[0m                                 Traceback (most recent call last)",
      "\u001b[0;32m<ipython-input-20-45867f90b742>\u001b[0m in \u001b[0;36m<module>\u001b[0;34m()\u001b[0m\n\u001b[1;32m      1\u001b[0m \u001b[0;31m# Lemmatize verbs by specifying pos\u001b[0m\u001b[0;34m\u001b[0m\u001b[0;34m\u001b[0m\u001b[0m\n\u001b[0;32m----> 2\u001b[0;31m \u001b[0mlemmed\u001b[0m \u001b[0;34m=\u001b[0m \u001b[0;34m[\u001b[0m\u001b[0mWordNetLemmatizer\u001b[0m\u001b[0;34m(\u001b[0m\u001b[0;34m)\u001b[0m\u001b[0;34m.\u001b[0m\u001b[0mlemmatize\u001b[0m\u001b[0;34m(\u001b[0m\u001b[0mw\u001b[0m\u001b[0;34m,\u001b[0m \u001b[0mpos\u001b[0m\u001b[0;34m=\u001b[0m\u001b[0;34m'v'\u001b[0m\u001b[0;34m)\u001b[0m \u001b[0;32mfor\u001b[0m \u001b[0mw\u001b[0m \u001b[0;32min\u001b[0m \u001b[0mlemmed\u001b[0m\u001b[0;34m]\u001b[0m\u001b[0;34m\u001b[0m\u001b[0m\n\u001b[0m\u001b[1;32m      3\u001b[0m \u001b[0mprint\u001b[0m\u001b[0;34m(\u001b[0m\u001b[0mlemmed\u001b[0m\u001b[0;34m)\u001b[0m\u001b[0;34m\u001b[0m\u001b[0m\n",
      "\u001b[0;31mNameError\u001b[0m: name 'lemmed' is not defined"
     ]
    }
   ],
   "source": [
    "# Lemmatize verbs by specifying pos\n",
    "lemmed = [WordNetLemmatizer().lemmatize(w, pos='v') for w in lemmed]\n",
    "print(lemmed)"
   ]
  },
  {
   "cell_type": "code",
   "execution_count": null,
   "metadata": {},
   "outputs": [],
   "source": []
  },
  {
   "cell_type": "code",
   "execution_count": null,
   "metadata": {},
   "outputs": [],
   "source": []
  },
  {
   "cell_type": "code",
   "execution_count": null,
   "metadata": {},
   "outputs": [],
   "source": []
  },
  {
   "cell_type": "code",
   "execution_count": null,
   "metadata": {},
   "outputs": [],
   "source": []
  }
 ],
 "metadata": {
  "kernelspec": {
   "display_name": "Python 3",
   "language": "python",
   "name": "python3"
  },
  "language_info": {
   "codemirror_mode": {
    "name": "ipython",
    "version": 3
   },
   "file_extension": ".py",
   "mimetype": "text/x-python",
   "name": "python",
   "nbconvert_exporter": "python",
   "pygments_lexer": "ipython3",
   "version": "3.5.6"
  }
 },
 "nbformat": 4,
 "nbformat_minor": 2
}
