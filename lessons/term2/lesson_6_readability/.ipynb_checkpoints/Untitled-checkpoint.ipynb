{
 "cells": [
  {
   "cell_type": "code",
   "execution_count": 14,
   "metadata": {},
   "outputs": [],
   "source": [
    "import PyPDF2\n",
    "mypdf = open('./ltn20190408425.pdf', mode='rb')"
   ]
  },
  {
   "cell_type": "code",
   "execution_count": 15,
   "metadata": {},
   "outputs": [
    {
     "data": {
      "text/plain": [
       "319"
      ]
     },
     "execution_count": 15,
     "metadata": {},
     "output_type": "execute_result"
    }
   ],
   "source": [
    "pdf_document = PyPDF2.PdfFileReader(mypdf)\n",
    "pdf_document.numPages"
   ]
  },
  {
   "cell_type": "code",
   "execution_count": 28,
   "metadata": {},
   "outputs": [
    {
     "name": "stdout",
     "output_type": "stream",
     "text": [
      "2203 Financial risk management (continued)3.3 Fair value estimation (continued)(c) Financial instruments in level 3 (continued)The following table presents the changes in level 3 instruments of short-term investments \n",
      "\n",
      "measured at fair value through profit or loss for the years ended December 31, 2018 and 2017:Year ended December 31,20182017RMB™000RMB™000At the beginning of the year4,488,0763,437,537Addition140,955,400104,284,000Disposal(139,154,171)(103,417,239)Changes in fair value359,221183,778 At the end of the year6,648,5264,488,076 Net unrealized gains for the year23,52621,076The Group has a team that manages the valuation of level 3 instruments for financial reporting \n",
      "purposes. The team manages the valuation exercise of the investments on a case by case basis. At \n",
      "least once every year, the team would use valuation techniques to determine the fair value of the \n",
      "Group™s level 3 instruments. External valuation experts will be involved when necessary. \n",
      "The valuation of the level 3 instruments mainly included Preferred Shares (Note 35), long-term \n",
      "investments measured at fair value through profit or loss in unlisted companies (Note 19) and short-term investments measured at fair value through profit or loss (Note 19). As these instruments are \n",
      "\n",
      "not traded in an active market, their fair values have been determined by using various applicable \n",
      "\n",
      "valuation techniques, including discounted cash flows and market approach etc. Major assumptions \n",
      "used in the valuation for Preferred Shares are presented in Note 35. \n",
      "\n"
     ]
    }
   ],
   "source": [
    "# +1\n",
    "print(pdf_document.getPage(221).extractText())"
   ]
  },
  {
   "cell_type": "code",
   "execution_count": 6,
   "metadata": {},
   "outputs": [
    {
     "name": "stdout",
     "output_type": "stream",
     "text": [
      "java version \"1.8.0_144\"\r\n",
      "Java(TM) SE Runtime Environment (build 1.8.0_144-b01)\r\n",
      "Java HotSpot(TM) 64-Bit Server VM (build 25.144-b01, mixed mode)\r\n"
     ]
    }
   ],
   "source": [
    "!java -version"
   ]
  },
  {
   "cell_type": "code",
   "execution_count": null,
   "metadata": {},
   "outputs": [],
   "source": [
    "!pip install -q tabula-py"
   ]
  },
  {
   "cell_type": "code",
   "execution_count": 7,
   "metadata": {},
   "outputs": [],
   "source": [
    "import tabula"
   ]
  },
  {
   "cell_type": "code",
   "execution_count": 44,
   "metadata": {},
   "outputs": [],
   "source": [
    "# +2 for the page you want to view\n",
    "# Read pdf into list of DataFrame\n",
    "#df = tabula.read_pdf(\"./ltn20190408425.pdf\", pages=27)\n",
    "pdf_path = './ltn20190408425.pdf'\n",
    "#df = tabula.read_pdf(pdf_path, pages=\"221\", stream=True)\n",
    "df = tabula.read_pdf(pdf_path, pages=\"221\", stream=False, multiple_tables=True)"
   ]
  },
  {
   "cell_type": "code",
   "execution_count": 50,
   "metadata": {},
   "outputs": [
    {
     "data": {
      "text/plain": [
       "[                              0           1          2\n",
       " 0                           NaN        2018       2017\n",
       " 1                           NaN     RMB’000    RMB’000\n",
       " 2  At the beginning of the year  13,092,429  9,046,509\n",
       " 3                      Addition   1,727,614    858,150]"
      ]
     },
     "execution_count": 50,
     "metadata": {},
     "output_type": "execute_result"
    }
   ],
   "source": [
    "df"
   ]
  },
  {
   "cell_type": "code",
   "execution_count": null,
   "metadata": {},
   "outputs": [],
   "source": []
  }
 ],
 "metadata": {
  "kernelspec": {
   "display_name": "Python 3",
   "language": "python",
   "name": "python3"
  },
  "language_info": {
   "codemirror_mode": {
    "name": "ipython",
    "version": 3
   },
   "file_extension": ".py",
   "mimetype": "text/x-python",
   "name": "python",
   "nbconvert_exporter": "python",
   "pygments_lexer": "ipython3",
   "version": "3.5.6"
  }
 },
 "nbformat": 4,
 "nbformat_minor": 4
}
