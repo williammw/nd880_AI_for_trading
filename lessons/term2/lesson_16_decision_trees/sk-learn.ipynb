{
 "cells": [
  {
   "cell_type": "markdown",
   "metadata": {},
   "source": [
    "# Decision Trees in sklearn\n",
    "In this section, you'll use decision trees to fit a given sample dataset.\n",
    "\n",
    "Before you do that, let's go over the tools required to build this model.\n",
    "\n",
    "For your decision tree model, you'll be using scikit-learn's Decision Tree Classifier class. This class provides the functions to define and fit the model to your data.\n",
    "\n",
    "https://scikit-learn.org/stable/modules/generated/sklearn.tree.DecisionTreeClassifier.html\n",
    "\n"
   ]
  },
  {
   "cell_type": "code",
   "execution_count": 2,
   "metadata": {},
   "outputs": [
    {
     "ename": "NameError",
     "evalue": "name 'x_values' is not defined",
     "output_type": "error",
     "traceback": [
      "\u001b[0;31m---------------------------------------------------------------------------\u001b[0m",
      "\u001b[0;31mNameError\u001b[0m                                 Traceback (most recent call last)",
      "\u001b[0;32m<ipython-input-2-d73f14fc4590>\u001b[0m in \u001b[0;36m<module>\u001b[0;34m()\u001b[0m\n\u001b[1;32m      1\u001b[0m \u001b[0;32mfrom\u001b[0m \u001b[0msklearn\u001b[0m\u001b[0;34m.\u001b[0m\u001b[0mtree\u001b[0m \u001b[0;32mimport\u001b[0m \u001b[0mDecisionTreeClassifier\u001b[0m\u001b[0;34m\u001b[0m\u001b[0m\n\u001b[1;32m      2\u001b[0m \u001b[0mmodel\u001b[0m \u001b[0;34m=\u001b[0m \u001b[0mDecisionTreeClassifier\u001b[0m\u001b[0;34m(\u001b[0m\u001b[0;34m)\u001b[0m\u001b[0;34m\u001b[0m\u001b[0m\n\u001b[0;32m----> 3\u001b[0;31m \u001b[0mmodel\u001b[0m\u001b[0;34m.\u001b[0m\u001b[0mfit\u001b[0m\u001b[0;34m(\u001b[0m\u001b[0mx_values\u001b[0m\u001b[0;34m,\u001b[0m \u001b[0my_values\u001b[0m\u001b[0;34m)\u001b[0m\u001b[0;34m\u001b[0m\u001b[0m\n\u001b[0m",
      "\u001b[0;31mNameError\u001b[0m: name 'x_values' is not defined"
     ]
    }
   ],
   "source": [
    "from sklearn.tree import DecisionTreeClassifier\n",
    "model = DecisionTreeClassifier()\n",
    "model.fit(x_values, y_values)"
   ]
  },
  {
   "cell_type": "markdown",
   "metadata": {},
   "source": [
    "In the example above, the ```model``` variable is a decision tree model that has been fitted to the data ```x_values``` and ```y_values```. Fitting the model means finding the best tree that fits the training data. Let's make two predictions using the model's ```predict()``` function."
   ]
  },
  {
   "cell_type": "code",
   "execution_count": null,
   "metadata": {},
   "outputs": [],
   "source": [
    "print(model.predict([ [0.2, 0.8], [0.5, 0.4] ]))\n",
    "[[ 0., 1.]]"
   ]
  },
  {
   "cell_type": "markdown",
   "metadata": {},
   "source": [
    "The model returned an array of predictions, one prediction for each input array. The first input, ```[0.2, 0.8]```, got a prediction of ```0.```. The second input, ```[0.5, 0.4]```, got a prediction of ```1.```.\n",
    "\n",
    "## Hyperparameters\n",
    "When we define the model, we can specify the hyperparameters. In practice, the most common ones are\n",
    "\n",
    "```max_depth```: The maximum number of levels in the tree.\n",
    "```min_samples_leaf```: The minimum number of samples allowed in a leaf.\n",
    "```min_samples_split```: The minimum number of samples required to split an internal node.\n",
    "For example, here we define a model where the maximum depth of the trees ```max_depth``` is 7, and the minimum number of elements in each leaf ```min_samples_leaf``` is 10."
   ]
  },
  {
   "cell_type": "code",
   "execution_count": null,
   "metadata": {},
   "outputs": [],
   "source": [
    "model = DecisionTreeClassifier(max_depth = 7, min_samples_leaf = 10)"
   ]
  },
  {
   "cell_type": "markdown",
   "metadata": {},
   "source": [
    "## Decision Tree Quiz\n",
    "In this quiz, you'll be given the following sample dataset, and your goal is to define a model that gives 100% accuracy on it.\n",
    "\n",
    "![imag](screen-shot-2018-01-06-at-8.13.20-pm.png)\n",
    "\n",
    "The data file can be found under the \"data.csv\" tab in the quiz below. It includes three columns, the first 2 comprising of the coordinates of the points, and the third one of the label.\n",
    "\n",
    "The data will be loaded for you, and split into features ```X``` and labels ```y```."
   ]
  },
  {
   "cell_type": "markdown",
   "metadata": {},
   "source": [
    "### You'll need to complete each of the following steps:\n",
    "### 1. Build a decision tree model\n",
    "\n",
    "Create a decision tree classification model using scikit-learn's DecisionTreeClassifier and assign it to the variablemodel.\n",
    "### 2. Fit the model to the data\n",
    "\n",
    "You won't need to specify any of the hyperparameters, since the default ones will yield a model that perfectly classifies the training data. However, we encourage you to play with hyperparameters such as max_depth and min_samples_leaf to try to find the simplest possible model.\n",
    "### 3. Predict using the model\n",
    "\n",
    "Predict the labels for the training set, and assign this list to the variable y_pred.\n",
    "### 4. Calculate the accuracy of the model\n",
    "\n",
    "For this, use the function sklearn function accuracy_score. A model's accuracy is the fraction of all data points that it correctly classified.\n",
    "When you hit Test Run, you'll be able to see the boundary region of your model, which will help you tune the correct parameters, in case you need them.\n",
    "\n",
    "Note: This quiz requires you to find an accuracy of 100% on the training set. This is like memorizing the training data! A model designed to have 100% accuracy on training data is unlikely to generalize well to new data. If you pick very large values for your parameters, the model will fit the training set very well, but may not generalize well. Try to find the smallest possible parameters that do the job—then the model will be more likely to generalize well. (This aspect of the exercise won't be graded.)"
   ]
  },
  {
   "cell_type": "markdown",
   "metadata": {},
   "source": [
    "quiz.py"
   ]
  },
  {
   "cell_type": "code",
   "execution_count": null,
   "metadata": {},
   "outputs": [],
   "source": [
    "# Import statements \n",
    "from sklearn.tree import DecisionTreeClassifier\n",
    "from sklearn.metrics import accuracy_score\n",
    "import pandas as pd\n",
    "import numpy as np\n",
    "\n",
    "# Read the data.\n",
    "data = np.asarray(pd.read_csv('data.csv', header=None))\n",
    "# Assign the features to the variable X, and the labels to the variable y. \n",
    "X = data[:,0:2]\n",
    "y = data[:,2]\n",
    "\n",
    "# TODO: Create the decision tree model and assign it to the variable model.\n",
    "# You won't need to, but if you'd like, play with hyperparameters such\n",
    "# as max_depth and min_samples_leaf and see what they do to the decision\n",
    "# boundary.\n",
    "model = None\n",
    "\n",
    "# TODO: Fit the model.\n",
    "\n",
    "# TODO: Make predictions. Store them in the variable y_pred.\n",
    "y_pred = None\n",
    "\n",
    "# TODO: Calculate the accuracy and assign it to the variable acc.\n",
    "acc = None"
   ]
  },
  {
   "cell_type": "markdown",
   "metadata": {},
   "source": [
    "data.csv"
   ]
  },
  {
   "cell_type": "markdown",
   "metadata": {},
   "source": [
    "solution.py"
   ]
  },
  {
   "cell_type": "code",
   "execution_count": 4,
   "metadata": {},
   "outputs": [],
   "source": [
    "# Import statements \n",
    "from sklearn.tree import DecisionTreeClassifier\n",
    "from sklearn.metrics import accuracy_score\n",
    "import pandas as pd\n",
    "import numpy as np\n",
    "\n",
    "# Read the data.\n",
    "data = np.asarray(pd.read_csv('data.csv', header=None))\n",
    "# Assign the features to the variable X, and the labels to the variable y. \n",
    "X = data[:,0:2]\n",
    "y = data[:,2]\n",
    "\n",
    "# TODO: Create the decision tree model and assign it to the variable model.\n",
    "model = DecisionTreeClassifier()\n",
    "\n",
    "# TODO: Fit the model.\n",
    "model.fit(X,y)\n",
    "\n",
    "# TODO: Make predictions. Store them in the variable y_pred.\n",
    "y_pred = model.predict(X)\n",
    "\n",
    "# TODO: Calculate the accuracy and assign it to the variable acc.\n",
    "acc = accuracy_score(y, y_pred)"
   ]
  },
  {
   "cell_type": "code",
   "execution_count": 15,
   "metadata": {},
   "outputs": [
    {
     "data": {
      "text/plain": [
       "array([[0.24539 , 0.81725 ],\n",
       "       [0.21774 , 0.76462 ],\n",
       "       [0.20161 , 0.69737 ],\n",
       "       [0.20161 , 0.58041 ],\n",
       "       [0.2477  , 0.49561 ],\n",
       "       [0.32834 , 0.44883 ],\n",
       "       [0.39516 , 0.48099 ],\n",
       "       [0.39286 , 0.57164 ],\n",
       "       [0.33525 , 0.62135 ],\n",
       "       [0.33986 , 0.71199 ],\n",
       "       [0.34447 , 0.81433 ],\n",
       "       [0.28226 , 0.82602 ],\n",
       "       [0.26613 , 0.75    ],\n",
       "       [0.26613 , 0.63596 ],\n",
       "       [0.32604 , 0.54825 ],\n",
       "       [0.28917 , 0.65643 ],\n",
       "       [0.80069 , 0.71491 ],\n",
       "       [0.80069 , 0.64181 ],\n",
       "       [0.80069 , 0.50146 ],\n",
       "       [0.79839 , 0.36988 ],\n",
       "       [0.73157 , 0.25    ],\n",
       "       [0.63249 , 0.18275 ],\n",
       "       [0.60023 , 0.27047 ],\n",
       "       [0.66014 , 0.34649 ],\n",
       "       [0.70161 , 0.42251 ],\n",
       "       [0.70853 , 0.53947 ],\n",
       "       [0.71544 , 0.63304 ],\n",
       "       [0.74309 , 0.72076 ],\n",
       "       [0.75    , 0.63596 ],\n",
       "       [0.75    , 0.46345 ],\n",
       "       [0.72235 , 0.35526 ],\n",
       "       [0.66935 , 0.28509 ],\n",
       "       [0.20622 , 0.94298 ],\n",
       "       [0.26613 , 0.8962  ],\n",
       "       [0.38134 , 0.8962  ],\n",
       "       [0.42051 , 0.94591 ],\n",
       "       [0.49885 , 0.86404 ],\n",
       "       [0.31452 , 0.93421 ],\n",
       "       [0.53111 , 0.72076 ],\n",
       "       [0.45276 , 0.74415 ],\n",
       "       [0.53571 , 0.6038  ],\n",
       "       [0.60484 , 0.71491 ],\n",
       "       [0.60945 , 0.58333 ],\n",
       "       [0.51267 , 0.47807 ],\n",
       "       [0.50806 , 0.59211 ],\n",
       "       [0.46198 , 0.30556 ],\n",
       "       [0.5288  , 0.41082 ],\n",
       "       [0.38594 , 0.35819 ],\n",
       "       [0.31682 , 0.31433 ],\n",
       "       [0.29608 , 0.20906 ],\n",
       "       [0.36982 , 0.27632 ],\n",
       "       [0.42972 , 0.18275 ],\n",
       "       [0.51498 , 0.10965 ],\n",
       "       [0.53111 , 0.20906 ],\n",
       "       [0.59793 , 0.095029],\n",
       "       [0.73848 , 0.086257],\n",
       "       [0.83065 , 0.18275 ],\n",
       "       [0.8629  , 0.10965 ],\n",
       "       [0.88364 , 0.27924 ],\n",
       "       [0.93433 , 0.30848 ],\n",
       "       [0.93433 , 0.19444 ],\n",
       "       [0.92512 , 0.43421 ],\n",
       "       [0.87903 , 0.43421 ],\n",
       "       [0.87903 , 0.58626 ],\n",
       "       [0.9182  , 0.71491 ],\n",
       "       [0.85138 , 0.8348  ],\n",
       "       [0.85599 , 0.94006 ],\n",
       "       [0.70853 , 0.94298 ],\n",
       "       [0.70853 , 0.87281 ],\n",
       "       [0.59793 , 0.93129 ],\n",
       "       [0.61175 , 0.83187 ],\n",
       "       [0.78226 , 0.82895 ],\n",
       "       [0.78917 , 0.8962  ],\n",
       "       [0.90668 , 0.89912 ],\n",
       "       [0.14862 , 0.92251 ],\n",
       "       [0.15092 , 0.85819 ],\n",
       "       [0.097926, 0.85819 ],\n",
       "       [0.079493, 0.91374 ],\n",
       "       [0.079493, 0.77632 ],\n",
       "       [0.10945 , 0.79678 ],\n",
       "       [0.12327 , 0.67982 ],\n",
       "       [0.077189, 0.6886  ],\n",
       "       [0.081797, 0.58626 ],\n",
       "       [0.14862 , 0.58041 ],\n",
       "       [0.14862 , 0.5307  ],\n",
       "       [0.14171 , 0.41959 ],\n",
       "       [0.08871 , 0.49269 ],\n",
       "       [0.095622, 0.36696 ],\n",
       "       [0.24539 , 0.3962  ],\n",
       "       [0.1947  , 0.29678 ],\n",
       "       [0.16935 , 0.22368 ],\n",
       "       [0.15553 , 0.13596 ],\n",
       "       [0.23848 , 0.12427 ],\n",
       "       [0.33065 , 0.12427 ],\n",
       "       [0.095622, 0.2617  ],\n",
       "       [0.091014, 0.20322 ]])"
      ]
     },
     "execution_count": 15,
     "metadata": {},
     "output_type": "execute_result"
    }
   ],
   "source": [
    "q = data[:,0:2]\n",
    "q"
   ]
  },
  {
   "cell_type": "code",
   "execution_count": null,
   "metadata": {},
   "outputs": [],
   "source": []
  },
  {
   "cell_type": "code",
   "execution_count": null,
   "metadata": {},
   "outputs": [],
   "source": []
  }
 ],
 "metadata": {
  "kernelspec": {
   "display_name": "Python 3",
   "language": "python",
   "name": "python3"
  },
  "language_info": {
   "codemirror_mode": {
    "name": "ipython",
    "version": 3
   },
   "file_extension": ".py",
   "mimetype": "text/x-python",
   "name": "python",
   "nbconvert_exporter": "python",
   "pygments_lexer": "ipython3",
   "version": "3.5.6"
  }
 },
 "nbformat": 4,
 "nbformat_minor": 4
}
