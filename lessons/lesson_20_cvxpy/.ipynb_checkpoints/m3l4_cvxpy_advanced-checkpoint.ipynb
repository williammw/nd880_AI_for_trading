{
 "cells": [
  {
   "cell_type": "markdown",
   "metadata": {},
   "source": [
    "# Advanced Portfolio Optimization using cvxpy"
   ]
  },
  {
   "cell_type": "markdown",
   "metadata": {},
   "source": [
    "## Install cvxpy and other libraries"
   ]
  },
  {
   "cell_type": "code",
   "execution_count": 3,
   "metadata": {},
   "outputs": [
    {
     "name": "stdout",
     "output_type": "stream",
     "text": [
      "Requirement already satisfied: colour==0.1.5 in /opt/conda/lib/python3.6/site-packages (from -r requirements.txt (line 1)) (0.1.5)\n",
      "Collecting cvxpy==1.0.3 (from -r requirements.txt (line 2))\n",
      "\u001b[?25l  Downloading https://files.pythonhosted.org/packages/a1/59/2613468ffbbe3a818934d06b81b9f4877fe054afbf4f99d2f43f398a0b34/cvxpy-1.0.3.tar.gz (880kB)\n",
      "\u001b[K    100% |████████████████████████████████| 880kB 6.8MB/s ta 0:00:01\n",
      "\u001b[?25hRequirement already satisfied: cycler==0.10.0 in /opt/conda/lib/python3.6/site-packages/cycler-0.10.0-py3.6.egg (from -r requirements.txt (line 3)) (0.10.0)\n",
      "Collecting numpy==1.14.5 (from -r requirements.txt (line 4))\n",
      "\u001b[?25l  Downloading https://files.pythonhosted.org/packages/68/1e/116ad560de97694e2d0c1843a7a0075cc9f49e922454d32f49a80eb6f1f2/numpy-1.14.5-cp36-cp36m-manylinux1_x86_64.whl (12.2MB)\n",
      "\u001b[K    100% |████████████████████████████████| 12.2MB 1.2MB/s eta 0:00:01   12% |████                            | 1.5MB 28.5MB/s eta 0:00:01    17% |█████▌                          | 2.1MB 9.1MB/s eta 0:00:02    21% |███████                         | 2.7MB 24.8MB/s eta 0:00:01    26% |████████▍                       | 3.2MB 7.1MB/s eta 0:00:02    31% |██████████                      | 3.8MB 12.7MB/s eta 0:00:01    36% |███████████▋                    | 4.4MB 11.6MB/s eta 0:00:01    42% |█████████████▌                  | 5.1MB 13.3MB/s eta 0:00:01    47% |███████████████                 | 5.7MB 28.2MB/s eta 0:00:01    56% |██████████████████▏             | 6.9MB 10.1MB/s eta 0:00:01    67% |█████████████████████▌          | 8.2MB 12.8MB/s eta 0:00:01    91% |█████████████████████████████▍  | 11.2MB 24.6MB/s eta 0:00:01\n",
      "\u001b[?25hCollecting pandas==0.21.1 (from -r requirements.txt (line 5))\n",
      "\u001b[?25l  Downloading https://files.pythonhosted.org/packages/3a/e1/6c514df670b887c77838ab856f57783c07e8760f2e3d5939203a39735e0e/pandas-0.21.1-cp36-cp36m-manylinux1_x86_64.whl (26.2MB)\n",
      "\u001b[K    100% |████████████████████████████████| 26.2MB 626kB/s eta 0:00:01  1% |▋                               | 460kB 12.7MB/s eta 0:00:03    9% |███                             | 2.4MB 11.9MB/s eta 0:00:02    11% |███▋                            | 3.0MB 10.5MB/s eta 0:00:03    13% |████▍                           | 3.6MB 12.9MB/s eta 0:00:02    16% |█████▎                          | 4.3MB 13.1MB/s eta 0:00:02    25% |████████▏                       | 6.7MB 26.6MB/s eta 0:00:01    27% |████████▉                       | 7.3MB 11.5MB/s eta 0:00:02    29% |█████████▌                      | 7.8MB 11.3MB/s eta 0:00:02    32% |██████████▎                     | 8.4MB 25.0MB/s eta 0:00:01    34% |███████████                     | 9.0MB 10.2MB/s eta 0:00:02    36% |███████████▊                    | 9.6MB 24.8MB/s eta 0:00:01    38% |████████████▍                   | 10.1MB 12.6MB/s eta 0:00:02    40% |█████████████▏                  | 10.8MB 29.4MB/s eta 0:00:01    53% |█████████████████▏              | 14.1MB 21.1MB/s eta 0:00:01    58% |██████████████████▊             | 15.4MB 26.9MB/s eta 0:00:01    60% |███████████████████▎            | 15.8MB 8.4MB/s eta 0:00:02    62% |████████████████████            | 16.4MB 26.9MB/s eta 0:00:01    64% |████████████████████▋           | 16.9MB 19.5MB/s eta 0:00:01    66% |█████████████████████▎          | 17.4MB 9.0MB/s eta 0:00:01    70% |██████████████████████▌         | 18.4MB 9.9MB/s eta 0:00:01    72% |███████████████████████▏        | 19.0MB 26.8MB/s eta 0:00:01    76% |████████████████████████▋       | 20.1MB 10.8MB/s eta 0:00:01    86% |███████████████████████████▋    | 22.6MB 17.8MB/s eta 0:00:01    92% |█████████████████████████████▌  | 24.2MB 15.7MB/s eta 0:00:01\n",
      "\u001b[?25hCollecting plotly==2.2.3 (from -r requirements.txt (line 6))\n",
      "\u001b[?25l  Downloading https://files.pythonhosted.org/packages/99/a6/8214b6564bf4ace9bec8a26e7f89832792be582c042c47c912d3201328a0/plotly-2.2.3.tar.gz (1.1MB)\n",
      "\u001b[K    100% |████████████████████████████████| 1.1MB 5.4MB/s ta 0:00:011    41% |█████████████▎                  | 450kB 14.0MB/s eta 0:00:01\n",
      "\u001b[?25hRequirement already satisfied: pyparsing==2.2.0 in /opt/conda/lib/python3.6/site-packages (from -r requirements.txt (line 7)) (2.2.0)\n",
      "Requirement already satisfied: python-dateutil==2.6.1 in /opt/conda/lib/python3.6/site-packages (from -r requirements.txt (line 8)) (2.6.1)\n",
      "Requirement already satisfied: pytz==2017.3 in /opt/conda/lib/python3.6/site-packages (from -r requirements.txt (line 9)) (2017.3)\n",
      "Requirement already satisfied: requests==2.18.4 in /opt/conda/lib/python3.6/site-packages (from -r requirements.txt (line 10)) (2.18.4)\n",
      "Collecting scipy==1.0.0 (from -r requirements.txt (line 11))\n",
      "\u001b[?25l  Downloading https://files.pythonhosted.org/packages/d8/5e/caa01ba7be11600b6a9d39265440d7b3be3d69206da887c42bef049521f2/scipy-1.0.0-cp36-cp36m-manylinux1_x86_64.whl (50.0MB)\n",
      "\u001b[K    100% |████████████████████████████████| 50.0MB 231kB/s ta 0:00:011  0% |▎                               | 358kB 8.1MB/s eta 0:00:07    2% |▊                               | 1.2MB 13.6MB/s eta 0:00:04    9% |███                             | 4.6MB 12.3MB/s eta 0:00:04    10% |███▍                            | 5.4MB 18.5MB/s eta 0:00:03    14% |████▋                           | 7.2MB 6.3MB/s eta 0:00:07    15% |█████                           | 7.7MB 7.9MB/s eta 0:00:06    16% |█████▏                          | 8.2MB 9.3MB/s eta 0:00:05    17% |█████▌                          | 8.6MB 11.2MB/s eta 0:00:04    17% |█████▊                          | 8.9MB 5.7MB/s eta 0:00:08    18% |██████                          | 9.3MB 5.4MB/s eta 0:00:08    19% |██████▎                         | 9.8MB 5.0MB/s eta 0:00:09    22% |███████                         | 11.0MB 11.6MB/s eta 0:00:04    24% |███████▊                        | 12.1MB 11.8MB/s eta 0:00:04    24% |████████                        | 12.5MB 5.6MB/s eta 0:00:07    26% |████████▍                       | 13.1MB 6.7MB/s eta 0:00:06    27% |████████▉                       | 13.9MB 8.2MB/s eta 0:00:05    29% |█████████▍                      | 14.6MB 9.0MB/s eta 0:00:04    29% |█████████▌                      | 14.9MB 7.3MB/s eta 0:00:05    30% |█████████▉                      | 15.3MB 9.1MB/s eta 0:00:04    31% |██████████                      | 15.7MB 8.5MB/s eta 0:00:05    37% |████████████                    | 18.7MB 3.9MB/s eta 0:00:09    39% |████████████▌                   | 19.6MB 4.7MB/s eta 0:00:07    40% |████████████▉                   | 20.0MB 8.1MB/s eta 0:00:04    41% |█████████████▏                  | 20.6MB 9.6MB/s eta 0:00:04    42% |█████████████▋                  | 21.3MB 4.9MB/s eta 0:00:06    43% |█████████████▉                  | 21.5MB 6.3MB/s eta 0:00:05    43% |██████████████                  | 21.8MB 3.0MB/s eta 0:00:10    43% |██████████████                  | 22.0MB 3.1MB/s eta 0:00:10    44% |██████████████▎                 | 22.3MB 2.2MB/s eta 0:00:13    45% |██████████████▍                 | 22.6MB 3.6MB/s eta 0:00:08    45% |██████████████▌                 | 22.7MB 2.8MB/s eta 0:00:10    45% |██████████████▋                 | 22.9MB 5.6MB/s eta 0:00:05    46% |██████████████▉                 | 23.1MB 4.4MB/s eta 0:00:07    47% |███████████████▏                | 23.7MB 2.8MB/s eta 0:00:10    48% |███████████████▌                | 24.2MB 6.4MB/s eta 0:00:05    50% |████████████████                | 25.0MB 6.6MB/s eta 0:00:04    50% |████████████████▏               | 25.3MB 6.4MB/s eta 0:00:04    51% |████████████████▍               | 25.6MB 5.7MB/s eta 0:00:05    51% |████████████████▌               | 25.8MB 5.6MB/s eta 0:00:05    52% |████████████████▉               | 26.3MB 4.6MB/s eta 0:00:06    53% |█████████████████               | 26.6MB 6.6MB/s eta 0:00:04    53% |█████████████████▏              | 26.9MB 5.2MB/s eta 0:00:05    54% |█████████████████▍              | 27.1MB 4.9MB/s eta 0:00:05    54% |█████████████████▌              | 27.4MB 4.9MB/s eta 0:00:05    55% |█████████████████▊              | 27.6MB 6.2MB/s eta 0:00:04    56% |██████████████████              | 28.2MB 5.2MB/s eta 0:00:05    57% |██████████████████▍             | 28.7MB 5.4MB/s eta 0:00:04    57% |██████████████████▌             | 28.9MB 4.6MB/s eta 0:00:05    58% |██████████████████▉             | 29.4MB 5.9MB/s eta 0:00:04    60% |███████████████████▍            | 30.2MB 4.7MB/s eta 0:00:05    60% |███████████████████▌            | 30.5MB 5.6MB/s eta 0:00:04    61% |███████████████████▊            | 30.9MB 8.4MB/s eta 0:00:03    62% |████████████████████            | 31.1MB 6.5MB/s eta 0:00:03    63% |████████████████████▎           | 31.7MB 4.3MB/s eta 0:00:05    64% |████████████████████▌           | 32.0MB 6.7MB/s eta 0:00:03    64% |████████████████████▊           | 32.3MB 5.5MB/s eta 0:00:04    65% |████████████████████▉           | 32.6MB 5.6MB/s eta 0:00:04    65% |█████████████████████           | 32.9MB 5.2MB/s eta 0:00:04    66% |█████████████████████▎          | 33.2MB 6.3MB/s eta 0:00:03    66% |█████████████████████▍          | 33.4MB 2.9MB/s eta 0:00:06    67% |█████████████████████▌          | 33.6MB 5.1MB/s eta 0:00:04    67% |█████████████████████▋          | 33.9MB 7.4MB/s eta 0:00:03    68% |██████████████████████          | 34.5MB 4.5MB/s eta 0:00:04    69% |██████████████████████▏         | 34.7MB 6.4MB/s eta 0:00:03    70% |██████████████████████▋         | 35.3MB 8.4MB/s eta 0:00:02    71% |██████████████████████▊         | 35.6MB 8.8MB/s eta 0:00:02    72% |███████████████████████         | 36.1MB 11.4MB/s eta 0:00:02    73% |███████████████████████▍        | 36.6MB 9.0MB/s eta 0:00:02    73% |███████████████████████▋        | 37.0MB 6.8MB/s eta 0:00:02    74% |███████████████████████▉        | 37.3MB 6.4MB/s eta 0:00:02    75% |████████████████████████        | 37.6MB 10.3MB/s eta 0:00:02    75% |████████████████████████▏       | 37.8MB 5.1MB/s eta 0:00:03    76% |████████████████████████▌       | 38.4MB 8.7MB/s eta 0:00:02    77% |████████████████████████▊       | 38.7MB 4.6MB/s eta 0:00:03    78% |█████████████████████████       | 39.2MB 5.5MB/s eta 0:00:02    79% |█████████████████████████▎      | 39.6MB 6.5MB/s eta 0:00:02    79% |█████████████████████████▌      | 39.9MB 4.6MB/s eta 0:00:03    80% |█████████████████████████▊      | 40.2MB 5.6MB/s eta 0:00:02    81% |██████████████████████████      | 40.8MB 6.3MB/s eta 0:00:02    82% |██████████████████████████▎     | 41.1MB 5.8MB/s eta 0:00:02    83% |██████████████████████████▊     | 41.8MB 10.1MB/s eta 0:00:01    84% |███████████████████████████     | 42.1MB 6.7MB/s eta 0:00:02    85% |███████████████████████████▎    | 42.7MB 4.7MB/s eta 0:00:02    86% |███████████████████████████▌    | 43.0MB 11.4MB/s eta 0:00:01    86% |███████████████████████████▊    | 43.3MB 6.4MB/s eta 0:00:02    87% |████████████████████████████    | 43.6MB 10.2MB/s eta 0:00:01    87% |████████████████████████████    | 43.9MB 4.9MB/s eta 0:00:02    88% |████████████████████████████▍   | 44.5MB 5.1MB/s eta 0:00:02    89% |████████████████████████████▉   | 45.0MB 5.7MB/s eta 0:00:01    90% |█████████████████████████████   | 45.3MB 4.6MB/s eta 0:00:02    91% |█████████████████████████████▏  | 45.6MB 6.0MB/s eta 0:00:01    91% |█████████████████████████████▍  | 45.9MB 8.6MB/s eta 0:00:01    92% |█████████████████████████████▌  | 46.1MB 4.3MB/s eta 0:00:01    92% |█████████████████████████████▋  | 46.4MB 6.0MB/s eta 0:00:01    93% |█████████████████████████████▉  | 46.6MB 4.8MB/s eta 0:00:01    93% |██████████████████████████████  | 46.9MB 3.6MB/s eta 0:00:01    94% |██████████████████████████████▏ | 47.2MB 4.9MB/s eta 0:00:01    94% |██████████████████████████████▍ | 47.4MB 7.0MB/s eta 0:00:01    95% |██████████████████████████████▌ | 47.7MB 6.0MB/s eta 0:00:01    95% |██████████████████████████████▊ | 48.0MB 5.9MB/s eta 0:00:01    96% |███████████████████████████████ | 48.3MB 5.9MB/s eta 0:00:01    97% |███████████████████████████████ | 48.6MB 3.9MB/s eta 0:00:01    97% |███████████████████████████████▎| 48.9MB 5.1MB/s eta 0:00:01    98% |███████████████████████████████▋| 49.4MB 4.5MB/s eta 0:00:01    99% |███████████████████████████████▉| 49.7MB 7.5MB/s eta 0:00:01\n",
      "\u001b[?25hRequirement already satisfied: scikit-learn==0.19.1 in /opt/conda/lib/python3.6/site-packages (from -r requirements.txt (line 12)) (0.19.1)\n",
      "Requirement already satisfied: six==1.11.0 in /opt/conda/lib/python3.6/site-packages (from -r requirements.txt (line 13)) (1.11.0)\n",
      "Collecting tqdm==4.19.5 (from -r requirements.txt (line 14))\n",
      "\u001b[?25l  Downloading https://files.pythonhosted.org/packages/71/3c/341b4fa23cb3abc335207dba057c790f3bb329f6757e1fcd5d347bcf8308/tqdm-4.19.5-py2.py3-none-any.whl (51kB)\n",
      "\u001b[K    100% |████████████████████████████████| 61kB 4.1MB/s ta 0:00:011\n",
      "\u001b[?25hCollecting osqp (from cvxpy==1.0.3->-r requirements.txt (line 2))\n",
      "\u001b[?25l  Downloading https://files.pythonhosted.org/packages/6c/59/2b80e881be227eecef3f2b257339d182167b55d22a1315ff4303ddcfd42f/osqp-0.6.1-cp36-cp36m-manylinux1_x86_64.whl (208kB)\n"
     ]
    },
    {
     "name": "stdout",
     "output_type": "stream",
     "text": [
      "\u001b[K    100% |████████████████████████████████| 215kB 11.4MB/s ta 0:00:01\n",
      "\u001b[?25hCollecting ecos>=2 (from cvxpy==1.0.3->-r requirements.txt (line 2))\n",
      "\u001b[?25l  Downloading https://files.pythonhosted.org/packages/55/ed/d131ff51f3a8f73420eb1191345eb49f269f23cadef515172e356018cde3/ecos-2.0.7.post1-cp36-cp36m-manylinux1_x86_64.whl (147kB)\n",
      "\u001b[K    100% |████████████████████████████████| 153kB 7.0MB/s ta 0:00:01\n",
      "\u001b[?25hCollecting scs>=1.1.3 (from cvxpy==1.0.3->-r requirements.txt (line 2))\n",
      "\u001b[?25l  Downloading https://files.pythonhosted.org/packages/f2/6e/dbdd778c64c1920ae357a2013ea655d65a1f8b60f397d6e5549e4aafe8ec/scs-2.1.1-2.tar.gz (157kB)\n",
      "\u001b[K    100% |████████████████████████████████| 163kB 8.9MB/s ta 0:00:01\n",
      "\u001b[?25hCollecting multiprocess (from cvxpy==1.0.3->-r requirements.txt (line 2))\n",
      "\u001b[?25l  Downloading https://files.pythonhosted.org/packages/58/17/5151b6ac2ac9b6276d46c33369ff814b0901872b2a0871771252f02e9192/multiprocess-0.70.9.tar.gz (1.6MB)\n",
      "\u001b[K    100% |████████████████████████████████| 1.6MB 4.9MB/s eta 0:00:01    52% |████████████████▋               | 819kB 11.5MB/s eta 0:00:01\n",
      "\u001b[?25hRequirement already satisfied: fastcache in /opt/conda/lib/python3.6/site-packages (from cvxpy==1.0.3->-r requirements.txt (line 2)) (1.0.2)\n",
      "Requirement already satisfied: toolz in /opt/conda/lib/python3.6/site-packages (from cvxpy==1.0.3->-r requirements.txt (line 2)) (0.8.2)\n",
      "Requirement already satisfied: decorator>=4.0.6 in /opt/conda/lib/python3.6/site-packages (from plotly==2.2.3->-r requirements.txt (line 6)) (4.0.11)\n",
      "Requirement already satisfied: nbformat>=4.2 in /opt/conda/lib/python3.6/site-packages (from plotly==2.2.3->-r requirements.txt (line 6)) (4.4.0)\n",
      "Requirement already satisfied: chardet<3.1.0,>=3.0.2 in /opt/conda/lib/python3.6/site-packages (from requests==2.18.4->-r requirements.txt (line 10)) (3.0.4)\n",
      "Requirement already satisfied: idna<2.7,>=2.5 in /opt/conda/lib/python3.6/site-packages (from requests==2.18.4->-r requirements.txt (line 10)) (2.6)\n",
      "Requirement already satisfied: urllib3<1.23,>=1.21.1 in /opt/conda/lib/python3.6/site-packages (from requests==2.18.4->-r requirements.txt (line 10)) (1.22)\n",
      "Requirement already satisfied: certifi>=2017.4.17 in /opt/conda/lib/python3.6/site-packages (from requests==2.18.4->-r requirements.txt (line 10)) (2019.6.16)\n",
      "Requirement already satisfied: future in /opt/conda/lib/python3.6/site-packages (from osqp->cvxpy==1.0.3->-r requirements.txt (line 2)) (0.16.0)\n",
      "Collecting dill>=0.3.1 (from multiprocess->cvxpy==1.0.3->-r requirements.txt (line 2))\n",
      "\u001b[?25l  Downloading https://files.pythonhosted.org/packages/c7/11/345f3173809cea7f1a193bfbf02403fff250a3360e0e118a1630985e547d/dill-0.3.1.1.tar.gz (151kB)\n",
      "\u001b[K    100% |████████████████████████████████| 153kB 8.7MB/s ta 0:00:011\n",
      "\u001b[?25hRequirement already satisfied: traitlets>=4.1 in /opt/conda/lib/python3.6/site-packages (from nbformat>=4.2->plotly==2.2.3->-r requirements.txt (line 6)) (4.3.2)\n",
      "Requirement already satisfied: ipython-genutils in /opt/conda/lib/python3.6/site-packages (from nbformat>=4.2->plotly==2.2.3->-r requirements.txt (line 6)) (0.2.0)\n",
      "Requirement already satisfied: jsonschema!=2.5.0,>=2.4 in /opt/conda/lib/python3.6/site-packages (from nbformat>=4.2->plotly==2.2.3->-r requirements.txt (line 6)) (2.6.0)\n",
      "Requirement already satisfied: jupyter-core in /opt/conda/lib/python3.6/site-packages (from nbformat>=4.2->plotly==2.2.3->-r requirements.txt (line 6)) (4.4.0)\n",
      "Building wheels for collected packages: cvxpy, plotly, scs, multiprocess, dill\n",
      "  Running setup.py bdist_wheel for cvxpy ... \u001b[?25ldone\n",
      "\u001b[?25h  Stored in directory: /root/.cache/pip/wheels/2b/60/0b/0c2596528665e21d698d6f84a3406c52044c7b4ca6ac737cf3\n",
      "  Running setup.py bdist_wheel for plotly ... \u001b[?25ldone\n",
      "\u001b[?25h  Stored in directory: /root/.cache/pip/wheels/98/54/81/dd92d5b0858fac680cd7bdb8800eb26c001dd9f5dc8b1bc0ba\n",
      "  Running setup.py bdist_wheel for scs ... \u001b[?25ldone\n",
      "\u001b[?25h  Stored in directory: /root/.cache/pip/wheels/68/3f/24/e9c75d426f600634cdac68321184ba06fdc4ab2d189b5c4541\n",
      "  Running setup.py bdist_wheel for multiprocess ... \u001b[?25ldone\n",
      "\u001b[?25h  Stored in directory: /root/.cache/pip/wheels/96/20/ac/9f1d164f7d81787cd6f4401b1d05212807d021fbbbcc301b82\n",
      "  Running setup.py bdist_wheel for dill ... \u001b[?25ldone\n",
      "\u001b[?25h  Stored in directory: /root/.cache/pip/wheels/59/b1/91/f02e76c732915c4015ab4010f3015469866c1eb9b14058d8e7\n",
      "Successfully built cvxpy plotly scs multiprocess dill\n",
      "\u001b[31mtensorflow 1.3.0 requires tensorflow-tensorboard<0.2.0,>=0.1.0, which is not installed.\u001b[0m\n",
      "\u001b[31mmoviepy 0.2.3.2 has requirement tqdm==4.11.2, but you'll have tqdm 4.19.5 which is incompatible.\u001b[0m\n",
      "Installing collected packages: numpy, scipy, osqp, ecos, scs, dill, multiprocess, cvxpy, pandas, plotly, tqdm\n",
      "  Found existing installation: numpy 1.12.1\n",
      "    Uninstalling numpy-1.12.1:\n",
      "      Successfully uninstalled numpy-1.12.1\n",
      "  Found existing installation: scipy 0.19.1\n",
      "    Uninstalling scipy-0.19.1:\n",
      "      Successfully uninstalled scipy-0.19.1\n",
      "  Found existing installation: dill 0.2.7.1\n",
      "    Uninstalling dill-0.2.7.1:\n",
      "      Successfully uninstalled dill-0.2.7.1\n",
      "  Found existing installation: pandas 0.23.3\n",
      "    Uninstalling pandas-0.23.3:\n",
      "      Successfully uninstalled pandas-0.23.3\n",
      "  Found existing installation: plotly 2.0.15\n",
      "    Uninstalling plotly-2.0.15:\n",
      "      Successfully uninstalled plotly-2.0.15\n",
      "  Found existing installation: tqdm 4.11.2\n",
      "    Uninstalling tqdm-4.11.2:\n",
      "      Successfully uninstalled tqdm-4.11.2\n",
      "Successfully installed cvxpy-1.0.3 dill-0.3.1.1 ecos-2.0.7.post1 multiprocess-0.70.9 numpy-1.14.5 osqp-0.6.1 pandas-0.21.1 plotly-2.2.3 scipy-1.0.0 scs-2.1.1.post2 tqdm-4.19.5\n"
     ]
    }
   ],
   "source": [
    "import sys\n",
    "!{sys.executable} -m pip install -r requirements.txt"
   ]
  },
  {
   "cell_type": "markdown",
   "metadata": {},
   "source": [
    "## Imports"
   ]
  },
  {
   "cell_type": "code",
   "execution_count": 4,
   "metadata": {},
   "outputs": [
    {
     "ename": "ModuleNotFoundError",
     "evalue": "No module named 'numpy.core._multiarray_umath'",
     "output_type": "error",
     "traceback": [
      "\u001b[0;31m---------------------------------------------------------------------------\u001b[0m",
      "\u001b[0;31mModuleNotFoundError\u001b[0m                       Traceback (most recent call last)",
      "\u001b[0;31mModuleNotFoundError\u001b[0m: No module named 'numpy.core._multiarray_umath'"
     ]
    }
   ],
   "source": [
    "import cvxpy as cvx\n",
    "import numpy as np\n",
    "import quiz_tests_advanced"
   ]
  },
  {
   "cell_type": "markdown",
   "metadata": {},
   "source": [
    "## What's our objective?\n",
    "http://www.cvxpy.org/\n",
    "\n",
    "Let's see how we can use optimization to meet a more advanced objective.  We want to both minimize the portfolio variance and also want to closely track a market cap weighted index.  In other words, we're trying to minimize the distance between the weights of our portfolio and the weights of the index.\n",
    "\n",
    "$Minimize \\left [ \\sigma^2_p + \\lambda \\sqrt{\\sum_{1}^{m}(weight_i - indexWeight_i)^2} \\right  ]$ where $m$ is the number of stocks in the portfolio, and $\\lambda$ is a scaling factor that you can choose.\n"
   ]
  },
  {
   "cell_type": "markdown",
   "metadata": {},
   "source": [
    "## Hints\n",
    "\n",
    "### x vector\n",
    "To create a vector of M variables $\\mathbf{x} = \\begin{bmatrix}\n",
    "x_1 &...& x_M\n",
    "\\end{bmatrix}\n",
    "$\n",
    "we can use `cvx.Variable(m)`\n",
    "\n",
    "### covariance matrix\n",
    "If we have $m$ stock series, the covariance matrix is an $m \\times m$ matrix containing the covariance between each pair of stocks.  We can use [numpy.cov](https://docs.scipy.org/doc/numpy/reference/generated/numpy.cov.html) to get the covariance.  We give it a 2D array in which each row is a stock series, and each column is an observation at the same period of time.\n",
    "\n",
    "The covariance matrix $\\mathbf{P} = \n",
    "\\begin{bmatrix}\n",
    "\\sigma^2_{1,1} & ... & \\sigma^2_{1,m} \\\\ \n",
    "... & ... & ...\\\\\n",
    "\\sigma_{m,1} & ... & \\sigma^2_{m,m}  \\\\\n",
    "\\end{bmatrix}$"
   ]
  },
  {
   "cell_type": "markdown",
   "metadata": {},
   "source": [
    "### portfolio variance\n",
    "We can write the portfolio variance $\\sigma^2_p = \\mathbf{x^T} \\mathbf{P} \\mathbf{x}$\n",
    "\n",
    "Recall that the $\\mathbf{x^T} \\mathbf{P} \\mathbf{x}$ is called the quadratic form.\n",
    "We can use the cvxpy function `quad_form(x,P)` to get the quadratic form.\n",
    "\n",
    "### Distance from index weights\n",
    "We want portfolio weights that track the index closely.  So we want to minimize the distance between them.\n",
    "Recall from the Pythagorean theorem that you can get the distance between two points in an x,y plane by adding the square of the x and y distances and taking the square root.  Extending this to any number of dimensions is called the L2 norm.  So: $\\sqrt{\\sum_{1}^{n}(weight_i - indexWeight_i)^2}$  Can also be written as $\\left \\| \\mathbf{x} - \\mathbf{index} \\right \\|_2$.  There's a cvxpy function called [norm()](https://www.cvxpy.org/api_reference/cvxpy.atoms.other_atoms.html#norm)\n",
    "`norm(x, p=2, axis=None)`.  The default is already set to find an L2 norm, so you would pass in one argument, which is the difference between your portfolio weights and the index weights.\n",
    "\n",
    "### objective function\n",
    "We want to minimize both the portfolio variance and the distance of the portfolio weights from the index weights.\n",
    "We also want to choose a `scale` constant, which is $\\lambda$ in the expression. This lets us choose how much priority we give to minimizing the difference from the index, relative to minimizing the variance of the portfolio.  If you choose a higher value for `scale` ($\\lambda$), do you think this gives more priority to minimizing the difference, or minimizing the variance?\n",
    "\n",
    "We can find the objective function using cvxpy `objective = cvx.Minimize()`.  Can you guess what to pass into this function?\n",
    "\n",
    "### constraints\n",
    "We can also define our constraints in a list.  For example, you'd want the weights to sum to one. So $\\sum_{1}^{n}x = 1$.  You may also need to go long only, which means no shorting, so no negative weights.  So $x_i >0 $ for all $i$. you could save a variable as `[x >= 0, sum(x) == 1]`, where x was created using `cvx.Variable()`."
   ]
  },
  {
   "cell_type": "markdown",
   "metadata": {},
   "source": [
    "### optimization\n",
    "So now that we have our objective function and constraints, we can solve for the values of $\\mathbf{x}$.\n",
    "cvxpy has the constructor `Problem(objective, constraints)`, which returns a `Problem` object.\n",
    "\n",
    "The `Problem` object has a function solve(), which returns the minimum of the solution.  In this case, this is the minimum variance of the portfolio.\n",
    "\n",
    "It also updates the vector $\\mathbf{x}$.\n",
    "\n",
    "We can check out the values of $x_A$ and $x_B$ that gave the minimum portfolio variance by using `x.value`"
   ]
  },
  {
   "cell_type": "markdown",
   "metadata": {},
   "source": [
    "## Quiz"
   ]
  },
  {
   "cell_type": "code",
   "execution_count": 22,
   "metadata": {},
   "outputs": [
    {
     "name": "stdout",
     "output_type": "stream",
     "text": [
      "[-1.41986908e-01  3.01689017e-01 -4.04484653e-02  4.11261645e-01\n",
      "  1.66626384e-01  2.63306021e-01  5.65235578e-01  1.27336628e-01\n",
      " -4.42705797e-02  5.29291380e-02  2.70761068e-01 -1.73682697e-02\n",
      "  7.77900176e-02  7.95155776e-01  2.88838043e-02  5.52067438e-01\n",
      "  4.25234911e-01  1.60697360e-01  3.65579649e-01  2.87787042e-01\n",
      "  5.55745906e-02  5.44359039e-01  7.74064330e-02 -1.31001289e-01\n",
      " -3.59312534e-01 -8.47165613e-02 -4.41207504e-01 -3.24307930e-02\n",
      "  1.98215808e-01  3.76652095e-02  3.35499801e-01 -3.27369486e-02\n",
      "  1.44319060e-01  1.46292950e-01 -1.70504508e-01 -7.15816909e-01\n",
      " -1.31710329e-01  1.72329239e-01  3.26725937e-01  2.60535213e-01\n",
      "  1.35367637e-01  1.37356602e-01 -1.17494201e-01 -6.82014948e-03\n",
      "  6.61392916e-01 -1.47686315e-03  4.89253666e-02  2.95423816e-01\n",
      " -1.48975771e-01  8.41106581e-02  6.42381304e-01  1.08572693e-01\n",
      " -2.47171193e-01  6.50328844e-01 -9.29963660e-02 -9.50077871e-02\n",
      "  4.18321000e-01 -5.14746294e-02  4.56069648e-01  1.20289161e-03\n",
      " -4.39286991e-01 -1.16254597e-01 -5.59661480e-01  4.03185749e-01\n",
      " -3.35674145e-01  1.39185373e-01  1.93506181e-01  3.45378798e-01\n",
      " -3.95911925e-01  5.58480365e-03  2.94462085e-01  8.44001190e-01\n",
      "  4.08752269e-01  3.97133164e-01  2.17961419e-01  7.38567572e-01\n",
      " -2.73119212e-02  2.68179644e-01 -3.01931664e-02  2.12992417e-01\n",
      " -2.10568164e-01  5.36494592e-01  1.08795293e-01 -1.82333254e-01\n",
      " -9.36847227e-02 -6.54044325e-01 -1.88216774e-01 -7.20029120e-02\n",
      " -2.40904077e-01  4.61010670e-01 -3.09603195e-01  9.69130100e-03\n",
      " -8.02745273e-02 -2.64332636e-01  2.15128204e-01  3.76743206e-01\n",
      "  4.28750194e-01  3.60107515e-01 -2.97557043e-01  1.85823923e-01\n",
      "  2.22107414e-01  2.52249092e-01 -7.04322742e-02  1.13403233e-01\n",
      "  1.11126745e-01  3.54303416e-01 -1.30177814e-01 -8.94535551e-03\n",
      " -6.06248467e-02 -3.40476010e-01  5.82970184e-01  7.78381377e-01\n",
      " -3.53244619e-02  3.51322292e-01  1.93415322e-01  3.23922898e-01\n",
      " -8.71347211e-02  9.27921121e-02  6.01182370e-01  1.62726545e-01\n",
      " -7.87776985e-02  3.21155095e-01 -3.32528969e-01 -2.70572182e-01\n",
      "  1.38439732e-01  8.39875461e-02  4.97629327e-01 -7.09718652e-01\n",
      "  3.28096722e-02  3.85567862e-01  2.97459377e-01  8.85384606e-02\n",
      "  3.22958533e-02 -2.72426561e-01 -1.42278493e-01  6.30752888e-01\n",
      "  6.95459171e-01  2.91442850e-01 -5.24510047e-01  2.20839710e-01\n",
      "  2.30978979e-01 -4.05428882e-01  4.89377412e-02 -8.47222814e-02\n",
      "  1.09517635e-01 -1.05471615e-01  3.76634120e-01 -4.51512240e-01\n",
      " -5.55472908e-02 -2.86505334e-01  5.39551283e-01  3.71074309e-02\n",
      " -2.33505664e-01  4.37085165e-01 -1.29375881e-01 -1.89238364e-01\n",
      " -1.02033795e-01 -1.13553195e-01 -3.72597993e-01 -5.01689278e-02\n",
      " -1.84371263e-01  1.05883995e-01 -7.41307918e-02  6.92167067e-02\n",
      " -4.82011705e-01 -1.34922479e-01 -2.12785262e-01  1.23852766e-01\n",
      " -2.20241444e-01 -2.81785705e-01  5.93624993e-02  2.52900962e-01\n",
      " -1.21036692e-01  2.74483093e-02  5.60601577e-02  3.29758236e-01\n",
      "  6.23459959e-01  1.58101297e-01  8.67299669e-02  2.17860166e-01\n",
      " -4.15323211e-01 -7.16150327e-01  1.18948890e-01  4.86865217e-01\n",
      "  1.10313478e-01  5.31667226e-02 -1.25296496e-01  4.28447809e-04\n",
      " -4.07785557e-01  5.13702322e-01  1.23615768e-02  1.11149557e-01\n",
      "  3.39398816e-02  4.06336854e-01  3.83266390e-01 -1.47344365e-02\n",
      "  7.88181075e-01 -8.36712132e-02  1.58192988e-01  1.46533677e-01\n",
      " -4.76311917e-01 -1.60794123e-01 -3.12513321e-01  9.88240083e-02\n",
      " -2.12376020e-01 -5.04060371e-01 -4.98803885e-01  3.77162838e-02\n",
      " -1.96786034e-01 -3.30852552e-02 -2.43840378e-01 -2.43685744e-01\n",
      "  1.08189867e-01  1.38513553e-01 -2.48890944e-02 -1.29697187e-01\n",
      "  2.81971803e-01 -2.88662125e-01  4.73471914e-01 -4.59596298e-01\n",
      "  6.20994234e-02 -4.30309412e-01 -3.41983697e-01  3.57403598e-01\n",
      "  4.31334671e-02  1.08487911e-01  2.05927953e-01 -7.55793731e-01\n",
      " -2.89283396e-01 -1.72395906e-01 -6.59570007e-02  1.70785682e-01\n",
      "  2.29269390e-01  3.07789251e-01 -4.73443837e-01 -1.81019239e-01\n",
      "  1.46178392e-01 -3.78772740e-01  4.24168362e-01  2.56330824e-01\n",
      " -2.62969409e-01  2.03564401e-01  1.75016343e-01  1.28019667e-01\n",
      " -3.03082177e-01 -1.64868819e-01 -5.95827109e-01  1.22689568e-01\n",
      " -2.20680898e-02 -1.63389184e-01 -1.07945337e-01  1.04868769e-01]\n",
      "Tests Passed\n"
     ]
    }
   ],
   "source": [
    "import cvxpy as cvx\n",
    "import numpy as np\n",
    "\n",
    "def optimize_portfolio(returns, index_weights, scale=.00001):\n",
    "    \"\"\"\n",
    "    Create a function that takes the return series of a set of stocks, the index weights,\n",
    "    and scaling factor. The function will minimize a combination of the portfolio variance\n",
    "    and the distance of its weights from the index weights.  \n",
    "    The optimization will be constrained to be long only, and the weights should sum to one.\n",
    "    \n",
    "    Parameters\n",
    "    ----------\n",
    "    returns : numpy.ndarray\n",
    "        2D array containing stock return series in each row.\n",
    "        \n",
    "    index_weights : numpy.ndarray\n",
    "        1D numpy array containing weights of the index.\n",
    "        \n",
    "    scale : float\n",
    "        The scaling factor applied to the distance between portfolio and index weights\n",
    "        \n",
    "    Returns\n",
    "    -------\n",
    "    x : np.ndarray\n",
    "        A numpy ndarray containing the weights of the stocks in the optimized portfolio\n",
    "    \"\"\"\n",
    "    #print(returns)\n",
    "    # TODO: Use cvxpy to determine the weights on the assets\n",
    "    # that minimizes the combination of portfolio variance and distance from index weights\n",
    "    # print(returns[1])\n",
    "    # number of stocks m is number of rows of returns, and also number of index weights\n",
    "    \n",
    "    m = returns.shape[0]\n",
    "        \n",
    "    #covariance matrix of returns\n",
    "    cov = np.cov(returns)\n",
    "    \n",
    "    # x variables (to be found with optimization)\n",
    "    x = cvx.Variable(m)\n",
    "    \n",
    "    #portfolio variance, in quadratic form\n",
    "    portfolio_variance = cvx.quad_form(x,cov)\n",
    "    \n",
    "    # euclidean distance (L2 norm) between portfolio and index weights\n",
    "    distance_to_index = cvx.norm(x - index_weights)\n",
    "    \n",
    "    #objective function\n",
    "    objective = cvx.Minimize(portfolio_variance + scale * distance_to_index)\n",
    "    \n",
    "    #constraints\n",
    "    constraints = [x >= 0 , sum(x) ==1 ]\n",
    "\n",
    "    #use cvxpy to solve the objective\n",
    "    cvx.Problem(objective, constraints).solve()\n",
    "    #retrieve the weights of the optimized portfolio\n",
    "    #x_values\n",
    "    x_values = x.value\n",
    "    \n",
    "    return x_values\n",
    "\n",
    "quiz_tests_advanced.test_optimize_portfolio(optimize_portfolio)"
   ]
  },
  {
   "cell_type": "code",
   "execution_count": 10,
   "metadata": {},
   "outputs": [
    {
     "name": "stdout",
     "output_type": "stream",
     "text": [
      "The optimized weights are [0.86744383 0.11653754 0.01601863], which sum to 1.00\n"
     ]
    }
   ],
   "source": [
    "\"\"\"Test with a 3 simulated stock return series\"\"\"\n",
    "days_per_year = 252\n",
    "years = 3\n",
    "total_days = days_per_year * years\n",
    "\n",
    "return_market = np.random.normal(loc=0.05, scale=0.3, size=days_per_year)\n",
    "return_1 = np.random.uniform(low=-0.000001, high=.000001, size=days_per_year) + return_market\n",
    "return_2 = np.random.uniform(low=-0.000001, high=.000001, size=days_per_year) + return_market\n",
    "return_3 = np.random.uniform(low=-0.000001, high=.000001, size=days_per_year) + return_market\n",
    "returns = np.array([return_1, return_2, return_3])\n",
    "\n",
    "\"\"\"simulate index weights\"\"\"\n",
    "index_weights = np.array([0.9,0.15,0.05])\n",
    "\n",
    "\"\"\"try out your optimization function\"\"\"\n",
    "x_values = optimize_portfolio(returns, index_weights, scale=.00001)\n",
    "\n",
    "print(f\"The optimized weights are {x_values}, which sum to {sum(x_values):.2f}\")"
   ]
  },
  {
   "cell_type": "markdown",
   "metadata": {},
   "source": [
    "If you're feeling stuck, you can check out the solution [here](m3l4_cvxpy_advanced_solution.ipynb)"
   ]
  },
  {
   "cell_type": "code",
   "execution_count": null,
   "metadata": {},
   "outputs": [],
   "source": []
  }
 ],
 "metadata": {
  "kernelspec": {
   "display_name": "Python 3",
   "language": "python",
   "name": "python3"
  },
  "language_info": {
   "codemirror_mode": {
    "name": "ipython",
    "version": 3
   },
   "file_extension": ".py",
   "mimetype": "text/x-python",
   "name": "python",
   "nbconvert_exporter": "python",
   "pygments_lexer": "ipython3",
   "version": "3.7.4"
  }
 },
 "nbformat": 4,
 "nbformat_minor": 2
}
