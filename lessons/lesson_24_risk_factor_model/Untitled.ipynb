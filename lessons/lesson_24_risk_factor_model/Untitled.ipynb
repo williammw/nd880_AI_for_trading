{
 "cells": [
  {
   "cell_type": "code",
   "execution_count": 1,
   "metadata": {},
   "outputs": [
    {
     "name": "stdout",
     "output_type": "stream",
     "text": [
      "Collecting numpy==1.14.5\n",
      "  Downloading numpy-1.14.5-cp35-cp35m-macosx_10_6_intel.macosx_10_9_intel.macosx_10_9_x86_64.macosx_10_10_intel.macosx_10_10_x86_64.whl (4.7 MB)\n",
      "\u001b[K     |████████████████████████████████| 4.7 MB 3.5 MB/s eta 0:00:01\n",
      "\u001b[?25hCollecting pandas==0.18.1\n",
      "  Downloading pandas-0.18.1-cp35-cp35m-macosx_10_6_intel.macosx_10_9_intel.macosx_10_9_x86_64.macosx_10_10_intel.macosx_10_10_x86_64.whl (9.9 MB)\n",
      "\u001b[K     |████████████████████████████████| 9.9 MB 19.6 MB/s eta 0:00:01     |████████████████▏               | 5.0 MB 19.6 MB/s eta 0:00:01\n",
      "\u001b[?25hCollecting plotly==2.2.3\n",
      "  Using cached plotly-2.2.3.tar.gz (1.1 MB)\n",
      "Collecting scikit-learn==0.19.1\n",
      "  Downloading scikit_learn-0.19.1-cp35-cp35m-macosx_10_6_intel.macosx_10_9_intel.macosx_10_9_x86_64.macosx_10_10_intel.macosx_10_10_x86_64.whl (7.5 MB)\n",
      "\u001b[K     |████████████████████████████████| 7.5 MB 16.6 MB/s eta 0:00:01\n",
      "\u001b[?25hCollecting six==1.11.0\n",
      "  Using cached six-1.11.0-py2.py3-none-any.whl (10 kB)\n",
      "Collecting zipline===1.2.0\n",
      "  Using cached zipline-1.2.0.tar.gz (659 kB)\n",
      "Requirement already satisfied: python-dateutil>=2 in /Users/manwaiwong/anaconda3/envs/ai_trade/lib/python3.5/site-packages (from pandas==0.18.1->-r requirements.txt (line 2)) (2.8.1)\n",
      "Requirement already satisfied: pytz>=2011k in /Users/manwaiwong/anaconda3/envs/ai_trade/lib/python3.5/site-packages (from pandas==0.18.1->-r requirements.txt (line 2)) (2019.3)\n",
      "Requirement already satisfied: decorator>=4.0.6 in /Users/manwaiwong/anaconda3/envs/ai_trade/lib/python3.5/site-packages (from plotly==2.2.3->-r requirements.txt (line 3)) (4.4.1)\n",
      "Requirement already satisfied: nbformat>=4.2 in /Users/manwaiwong/anaconda3/envs/ai_trade/lib/python3.5/site-packages (from plotly==2.2.3->-r requirements.txt (line 3)) (5.0.4)\n",
      "Requirement already satisfied: requests in /Users/manwaiwong/anaconda3/envs/ai_trade/lib/python3.5/site-packages (from plotly==2.2.3->-r requirements.txt (line 3)) (2.22.0)\n",
      "Requirement already satisfied: pip>=7.1.0 in /Users/manwaiwong/anaconda3/envs/ai_trade/lib/python3.5/site-packages (from zipline===1.2.0->-r requirements.txt (line 6)) (20.0.2)\n",
      "Requirement already satisfied: setuptools>18.0 in /Users/manwaiwong/anaconda3/envs/ai_trade/lib/python3.5/site-packages (from zipline===1.2.0->-r requirements.txt (line 6)) (45.2.0)\n",
      "Requirement already satisfied: Logbook>=0.12.5 in /Users/manwaiwong/anaconda3/envs/ai_trade/lib/python3.5/site-packages (from zipline===1.2.0->-r requirements.txt (line 6)) (0.12.5)\n",
      "Requirement already satisfied: requests-file>=1.4.1 in /Users/manwaiwong/anaconda3/envs/ai_trade/lib/python3.5/site-packages (from zipline===1.2.0->-r requirements.txt (line 6)) (1.4.3)\n",
      "Requirement already satisfied: scipy>=0.17.1 in /Users/manwaiwong/anaconda3/envs/ai_trade/lib/python3.5/site-packages (from zipline===1.2.0->-r requirements.txt (line 6)) (1.4.1)\n",
      "Collecting pandas-datareader<0.6,>=0.2.1\n",
      "  Using cached pandas_datareader-0.5.0-py2.py3-none-any.whl (74 kB)\n",
      "Requirement already satisfied: patsy>=0.4.0 in /Users/manwaiwong/anaconda3/envs/ai_trade/lib/python3.5/site-packages (from zipline===1.2.0->-r requirements.txt (line 6)) (0.5.0)\n",
      "Requirement already satisfied: statsmodels>=0.6.1 in /Users/manwaiwong/anaconda3/envs/ai_trade/lib/python3.5/site-packages (from zipline===1.2.0->-r requirements.txt (line 6)) (0.9.0)\n",
      "Requirement already satisfied: Cython>=0.25.2 in /Users/manwaiwong/anaconda3/envs/ai_trade/lib/python3.5/site-packages (from zipline===1.2.0->-r requirements.txt (line 6)) (0.28.5)\n",
      "Requirement already satisfied: cyordereddict>=0.2.2 in /Users/manwaiwong/anaconda3/envs/ai_trade/lib/python3.5/site-packages (from zipline===1.2.0->-r requirements.txt (line 6)) (0.2.2)\n",
      "Requirement already satisfied: bottleneck>=1.0.0 in /Users/manwaiwong/anaconda3/envs/ai_trade/lib/python3.5/site-packages (from zipline===1.2.0->-r requirements.txt (line 6)) (1.2.1)\n",
      "Requirement already satisfied: contextlib2>=0.4.0 in /Users/manwaiwong/anaconda3/envs/ai_trade/lib/python3.5/site-packages (from zipline===1.2.0->-r requirements.txt (line 6)) (0.6.0.post1)\n",
      "Requirement already satisfied: networkx<2.0,>=1.9.1 in /Users/manwaiwong/anaconda3/envs/ai_trade/lib/python3.5/site-packages (from zipline===1.2.0->-r requirements.txt (line 6)) (1.11)\n",
      "Requirement already satisfied: numexpr>=2.6.1 in /Users/manwaiwong/anaconda3/envs/ai_trade/lib/python3.5/site-packages (from zipline===1.2.0->-r requirements.txt (line 6)) (2.6.1)\n",
      "Requirement already satisfied: bcolz<1,>=0.12.1 in /Users/manwaiwong/anaconda3/envs/ai_trade/lib/python3.5/site-packages (from zipline===1.2.0->-r requirements.txt (line 6)) (0.12.1)\n",
      "Requirement already satisfied: click>=4.0.0 in /Users/manwaiwong/anaconda3/envs/ai_trade/lib/python3.5/site-packages (from zipline===1.2.0->-r requirements.txt (line 6)) (7.0)\n",
      "Requirement already satisfied: toolz>=0.8.2 in /Users/manwaiwong/anaconda3/envs/ai_trade/lib/python3.5/site-packages (from zipline===1.2.0->-r requirements.txt (line 6)) (0.10.0)\n",
      "Requirement already satisfied: multipledispatch>=0.4.8 in /Users/manwaiwong/anaconda3/envs/ai_trade/lib/python3.5/site-packages (from zipline===1.2.0->-r requirements.txt (line 6)) (0.6.0)\n",
      "Requirement already satisfied: MarkupSafe>=0.23 in /Users/manwaiwong/anaconda3/envs/ai_trade/lib/python3.5/site-packages (from zipline===1.2.0->-r requirements.txt (line 6)) (1.0)\n",
      "Requirement already satisfied: Mako>=1.0.1 in /Users/manwaiwong/anaconda3/envs/ai_trade/lib/python3.5/site-packages (from zipline===1.2.0->-r requirements.txt (line 6)) (1.1.1)\n",
      "Requirement already satisfied: sqlalchemy>=1.0.8 in /Users/manwaiwong/anaconda3/envs/ai_trade/lib/python3.5/site-packages (from zipline===1.2.0->-r requirements.txt (line 6)) (1.2.11)\n",
      "Requirement already satisfied: alembic>=0.7.7 in /Users/manwaiwong/anaconda3/envs/ai_trade/lib/python3.5/site-packages (from zipline===1.2.0->-r requirements.txt (line 6)) (0.7.7)\n",
      "Requirement already satisfied: sortedcontainers>=1.4.4 in /Users/manwaiwong/anaconda3/envs/ai_trade/lib/python3.5/site-packages (from zipline===1.2.0->-r requirements.txt (line 6)) (2.0.5)\n",
      "Requirement already satisfied: intervaltree>=2.1.0 in /Users/manwaiwong/anaconda3/envs/ai_trade/lib/python3.5/site-packages/intervaltree-2.1.0-py3.5.egg (from zipline===1.2.0->-r requirements.txt (line 6)) (2.1.0)\n",
      "Requirement already satisfied: lru-dict>=1.1.4 in /Users/manwaiwong/anaconda3/envs/ai_trade/lib/python3.5/site-packages (from zipline===1.2.0->-r requirements.txt (line 6)) (1.1.4)\n",
      "Requirement already satisfied: empyrical>=0.4.2 in /Users/manwaiwong/anaconda3/envs/ai_trade/lib/python3.5/site-packages (from zipline===1.2.0->-r requirements.txt (line 6)) (0.5.0)\n",
      "Requirement already satisfied: tables>=3.3.0 in /Users/manwaiwong/anaconda3/envs/ai_trade/lib/python3.5/site-packages (from zipline===1.2.0->-r requirements.txt (line 6)) (3.4.4)\n",
      "Requirement already satisfied: ipython-genutils in /Users/manwaiwong/anaconda3/envs/ai_trade/lib/python3.5/site-packages (from nbformat>=4.2->plotly==2.2.3->-r requirements.txt (line 3)) (0.2.0)\n",
      "Requirement already satisfied: jupyter-core in /Users/manwaiwong/anaconda3/envs/ai_trade/lib/python3.5/site-packages (from nbformat>=4.2->plotly==2.2.3->-r requirements.txt (line 3)) (4.5.0)\n",
      "Requirement already satisfied: jsonschema!=2.5.0,>=2.4 in /Users/manwaiwong/anaconda3/envs/ai_trade/lib/python3.5/site-packages (from nbformat>=4.2->plotly==2.2.3->-r requirements.txt (line 3)) (2.6.0)\n",
      "Requirement already satisfied: traitlets>=4.1 in /Users/manwaiwong/anaconda3/envs/ai_trade/lib/python3.5/site-packages (from nbformat>=4.2->plotly==2.2.3->-r requirements.txt (line 3)) (4.3.2)\n",
      "Requirement already satisfied: urllib3!=1.25.0,!=1.25.1,<1.26,>=1.21.1 in /Users/manwaiwong/anaconda3/envs/ai_trade/lib/python3.5/site-packages (from requests->plotly==2.2.3->-r requirements.txt (line 3)) (1.23)\n",
      "Requirement already satisfied: idna<2.9,>=2.5 in /Users/manwaiwong/anaconda3/envs/ai_trade/lib/python3.5/site-packages (from requests->plotly==2.2.3->-r requirements.txt (line 3)) (2.7)\n",
      "Requirement already satisfied: certifi>=2017.4.17 in /Users/manwaiwong/anaconda3/envs/ai_trade/lib/python3.5/site-packages (from requests->plotly==2.2.3->-r requirements.txt (line 3)) (2018.8.24)\n",
      "Requirement already satisfied: chardet<3.1.0,>=3.0.2 in /Users/manwaiwong/anaconda3/envs/ai_trade/lib/python3.5/site-packages (from requests->plotly==2.2.3->-r requirements.txt (line 3)) (3.0.4)\n"
     ]
    },
    {
     "name": "stdout",
     "output_type": "stream",
     "text": [
      "Collecting requests-ftp\n",
      "  Using cached requests-ftp-0.3.1.tar.gz (7.8 kB)\n",
      "Building wheels for collected packages: plotly, zipline, requests-ftp\n",
      "  Building wheel for plotly (setup.py) ... \u001b[?25ldone\n",
      "\u001b[?25h  Created wheel for plotly: filename=plotly-2.2.3-py3-none-any.whl size=1122407 sha256=4b2aa75a3085904d6a471f0f99417704bf2706862ea08a1c49c550dac76cc623\n",
      "  Stored in directory: /Users/manwaiwong/Library/Caches/pip/wheels/0e/99/ee/304e436209e19f9812c286a723ef582a40d765eb1fab038b86\n",
      "  Building wheel for zipline (setup.py) ... \u001b[?25ldone\n",
      "\u001b[?25h  Created wheel for zipline: filename=zipline-1.2.0-cp35-cp35m-macosx_10_6_x86_64.whl size=1911763 sha256=cb313e24db521b1f08cd2a23a0a9695f0f055c549c19b7fe320b143a83157ad7\n",
      "  Stored in directory: /Users/manwaiwong/Library/Caches/pip/wheels/c5/e5/04/869e3b7c46e7fb666cdf21298886e91e8659db018e73208239\n",
      "  Building wheel for requests-ftp (setup.py) ... \u001b[?25ldone\n",
      "\u001b[?25h  Created wheel for requests-ftp: filename=requests_ftp-0.3.1-py3-none-any.whl size=7624 sha256=4c928e5da5f80f2c9244427ae865626b1c140d5e67d3ea1681a9450b36c9ce26\n",
      "  Stored in directory: /Users/manwaiwong/Library/Caches/pip/wheels/8c/4b/2f/3730dee02a6b3ea2cf49868cfa9c581f4c2e8524c6d0f39211\n",
      "Successfully built plotly zipline requests-ftp\n",
      "\u001b[31mERROR: cvxpy 1.0.25 has requirement numpy>=1.15, but you'll have numpy 1.14.5 which is incompatible.\u001b[0m\n",
      "\u001b[31mERROR: tensorflow 2.1.0 has requirement numpy<2.0,>=1.16.0, but you'll have numpy 1.14.5 which is incompatible.\u001b[0m\n",
      "\u001b[31mERROR: tensorflow 2.1.0 has requirement six>=1.12.0, but you'll have six 1.11.0 which is incompatible.\u001b[0m\n",
      "Installing collected packages: numpy, pandas, six, plotly, scikit-learn, requests-ftp, pandas-datareader, zipline\n",
      "  Attempting uninstall: numpy\n",
      "    Found existing installation: numpy 1.18.1\n",
      "    Uninstalling numpy-1.18.1:\n",
      "      Successfully uninstalled numpy-1.18.1\n",
      "  Attempting uninstall: pandas\n",
      "    Found existing installation: pandas 0.22.0\n",
      "    Uninstalling pandas-0.22.0:\n",
      "      Successfully uninstalled pandas-0.22.0\n",
      "  Attempting uninstall: six\n",
      "    Found existing installation: six 1.14.0\n",
      "    Uninstalling six-1.14.0:\n",
      "      Successfully uninstalled six-1.14.0\n",
      "  Attempting uninstall: pandas-datareader\n",
      "    Found existing installation: pandas-datareader 0.8.1\n",
      "    Uninstalling pandas-datareader-0.8.1:\n",
      "      Successfully uninstalled pandas-datareader-0.8.1\n",
      "  Attempting uninstall: zipline\n",
      "    Found existing installation: zipline 1.3.0\n",
      "    Uninstalling zipline-1.3.0:\n",
      "      Successfully uninstalled zipline-1.3.0\n",
      "Successfully installed numpy-1.14.6 pandas-0.18.1 pandas-datareader-0.5.0 plotly-2.2.3 requests-ftp-0.3.1 scikit-learn-0.19.1 six-1.11.0 zipline-1.2.0\n"
     ]
    }
   ],
   "source": [
    "import sys\n",
    "!{sys.executable} -m pip install -r requirements.txt"
   ]
  },
  {
   "cell_type": "markdown",
   "metadata": {},
   "source": [
    "### Motivation for Risk Factor Models"
   ]
  },
  {
   "cell_type": "code",
   "execution_count": 26,
   "metadata": {},
   "outputs": [],
   "source": [
    "import numpy as np\n",
    "import pandas as pd\n",
    "import time\n",
    "import os\n",
    "import quiz_helper\n",
    "import matplotlib.pyplot as plt"
   ]
  },
  {
   "cell_type": "code",
   "execution_count": 27,
   "metadata": {},
   "outputs": [],
   "source": [
    "%matplotlib inline\n",
    "plt.style.use('ggplot')\n",
    "plt.rcParams['figure.figsize'] = (14, 8)"
   ]
  },
  {
   "cell_type": "code",
   "execution_count": 28,
   "metadata": {},
   "outputs": [],
   "source": [
    "import os\n",
    "import quiz_helper\n",
    "from zipline.data import bundles"
   ]
  },
  {
   "cell_type": "code",
   "execution_count": 29,
   "metadata": {},
   "outputs": [
    {
     "name": "stdout",
     "output_type": "stream",
     "text": [
      "Data Registered\n"
     ]
    },
    {
     "name": "stderr",
     "output_type": "stream",
     "text": [
      "/Users/manwaiwong/anaconda3/envs/ai_trade/lib/python3.5/site-packages/ipykernel_launcher.py:5: UserWarning: Overwriting bundle with name 'm4-quiz-eod-quotemedia'\n",
      "  \"\"\"\n"
     ]
    },
    {
     "data": {
      "text/plain": [
       "'/Volumes/TWD_00001/ssd_workspace/nd880_AI_for_trading/lessons/lesson_24_risk_factor_model/data/module_4_quizzes_eod'"
      ]
     },
     "execution_count": 29,
     "metadata": {},
     "output_type": "execute_result"
    }
   ],
   "source": [
    "#%zipline ingest -b m4-quiz-eod-quotemedia\n",
    "#os.environ['ZIPLINE_ROOT'] = os.path.join(os.getcwd(), '..', '..','data','module_4_quizzes_eod')\n",
    "os.environ['ZIPLINE_ROOT'] = os.path.join(os.getcwd(),'data','module_4_quizzes_eod')\n",
    "ingest_func = bundles.csvdir.csvdir_equities(['daily'], quiz_helper.EOD_BUNDLE_NAME)\n",
    "bundles.register(quiz_helper.EOD_BUNDLE_NAME, ingest_func)\n",
    "print('Data Registered')\n",
    "os.environ['ZIPLINE_ROOT']"
   ]
  },
  {
   "cell_type": "code",
   "execution_count": 30,
   "metadata": {},
   "outputs": [
    {
     "ename": "ValueError",
     "evalue": "no data for bundle 'm4-quiz-eod-quotemedia' on or before 2020-02-24 00:19:02.932128+00:00\nmaybe you need to run: $ zipline ingest -b m4-quiz-eod-quotemedia",
     "output_type": "error",
     "traceback": [
      "\u001b[0;31m---------------------------------------------------------------------------\u001b[0m",
      "\u001b[0;31mFileNotFoundError\u001b[0m                         Traceback (most recent call last)",
      "\u001b[0;32m/Users/manwaiwong/anaconda3/envs/ai_trade/lib/python3.5/site-packages/zipline/data/bundles/core.py\u001b[0m in \u001b[0;36mmost_recent_data\u001b[0;34m(bundle_name, timestamp, environ)\u001b[0m\n\u001b[1;32m    479\u001b[0m             candidates = os.listdir(\n\u001b[0;32m--> 480\u001b[0;31m                 \u001b[0mpth\u001b[0m\u001b[0;34m.\u001b[0m\u001b[0mdata_path\u001b[0m\u001b[0;34m(\u001b[0m\u001b[0;34m[\u001b[0m\u001b[0mbundle_name\u001b[0m\u001b[0;34m]\u001b[0m\u001b[0;34m,\u001b[0m \u001b[0menviron\u001b[0m\u001b[0;34m=\u001b[0m\u001b[0menviron\u001b[0m\u001b[0;34m)\u001b[0m\u001b[0;34m,\u001b[0m\u001b[0;34m\u001b[0m\u001b[0m\n\u001b[0m\u001b[1;32m    481\u001b[0m             )\n",
      "\u001b[0;31mFileNotFoundError\u001b[0m: [Errno 2] No such file or directory: '/Volumes/TWD_00001/ssd_workspace/nd880_AI_for_trading/lessons/lesson_24_risk_factor_model/data/module_4_quizzes_eod/data/m4-quiz-eod-quotemedia'",
      "\nDuring handling of the above exception, another exception occurred:\n",
      "\u001b[0;31mValueError\u001b[0m                                Traceback (most recent call last)",
      "\u001b[0;32m<ipython-input-30-5e2d7c96a570>\u001b[0m in \u001b[0;36m<module>\u001b[0;34m()\u001b[0m\n\u001b[1;32m      5\u001b[0m \u001b[0muniverse\u001b[0m \u001b[0;34m=\u001b[0m \u001b[0mAverageDollarVolume\u001b[0m\u001b[0;34m(\u001b[0m\u001b[0mwindow_length\u001b[0m\u001b[0;34m=\u001b[0m\u001b[0;36m120\u001b[0m\u001b[0;34m)\u001b[0m\u001b[0;34m.\u001b[0m\u001b[0mtop\u001b[0m\u001b[0;34m(\u001b[0m\u001b[0;36m500\u001b[0m\u001b[0;34m)\u001b[0m\u001b[0;34m\u001b[0m\u001b[0m\n\u001b[1;32m      6\u001b[0m \u001b[0mtrading_calendar\u001b[0m \u001b[0;34m=\u001b[0m \u001b[0mget_calendar\u001b[0m\u001b[0;34m(\u001b[0m\u001b[0;34m'NYSE'\u001b[0m\u001b[0;34m)\u001b[0m\u001b[0;34m\u001b[0m\u001b[0m\n\u001b[0;32m----> 7\u001b[0;31m \u001b[0mbundle_data\u001b[0m \u001b[0;34m=\u001b[0m \u001b[0mbundles\u001b[0m\u001b[0;34m.\u001b[0m\u001b[0mload\u001b[0m\u001b[0;34m(\u001b[0m\u001b[0mquiz_helper\u001b[0m\u001b[0;34m.\u001b[0m\u001b[0mEOD_BUNDLE_NAME\u001b[0m\u001b[0;34m)\u001b[0m\u001b[0;34m\u001b[0m\u001b[0m\n\u001b[0m\u001b[1;32m      8\u001b[0m \u001b[0mengine\u001b[0m \u001b[0;34m=\u001b[0m \u001b[0mquiz_helper\u001b[0m\u001b[0;34m.\u001b[0m\u001b[0mbuild_pipeline_engine\u001b[0m\u001b[0;34m(\u001b[0m\u001b[0mbundle_data\u001b[0m\u001b[0;34m,\u001b[0m \u001b[0mtrading_calendar\u001b[0m\u001b[0;34m)\u001b[0m\u001b[0;34m\u001b[0m\u001b[0m\n",
      "\u001b[0;32m/Users/manwaiwong/anaconda3/envs/ai_trade/lib/python3.5/site-packages/zipline/data/bundles/core.py\u001b[0m in \u001b[0;36mload\u001b[0;34m(name, environ, timestamp)\u001b[0m\n\u001b[1;32m    519\u001b[0m         \u001b[0;32mif\u001b[0m \u001b[0mtimestamp\u001b[0m \u001b[0;32mis\u001b[0m \u001b[0;32mNone\u001b[0m\u001b[0;34m:\u001b[0m\u001b[0;34m\u001b[0m\u001b[0m\n\u001b[1;32m    520\u001b[0m             \u001b[0mtimestamp\u001b[0m \u001b[0;34m=\u001b[0m \u001b[0mpd\u001b[0m\u001b[0;34m.\u001b[0m\u001b[0mTimestamp\u001b[0m\u001b[0;34m.\u001b[0m\u001b[0mutcnow\u001b[0m\u001b[0;34m(\u001b[0m\u001b[0;34m)\u001b[0m\u001b[0;34m\u001b[0m\u001b[0m\n\u001b[0;32m--> 521\u001b[0;31m         \u001b[0mtimestr\u001b[0m \u001b[0;34m=\u001b[0m \u001b[0mmost_recent_data\u001b[0m\u001b[0;34m(\u001b[0m\u001b[0mname\u001b[0m\u001b[0;34m,\u001b[0m \u001b[0mtimestamp\u001b[0m\u001b[0;34m,\u001b[0m \u001b[0menviron\u001b[0m\u001b[0;34m=\u001b[0m\u001b[0menviron\u001b[0m\u001b[0;34m)\u001b[0m\u001b[0;34m\u001b[0m\u001b[0m\n\u001b[0m\u001b[1;32m    522\u001b[0m         return BundleData(\n\u001b[1;32m    523\u001b[0m             asset_finder=AssetFinder(\n",
      "\u001b[0;32m/Users/manwaiwong/anaconda3/envs/ai_trade/lib/python3.5/site-packages/zipline/data/bundles/core.py\u001b[0m in \u001b[0;36mmost_recent_data\u001b[0;34m(bundle_name, timestamp, environ)\u001b[0m\n\u001b[1;32m    495\u001b[0m                 'maybe you need to run: $ zipline ingest -b {bundle}'.format(\n\u001b[1;32m    496\u001b[0m                     \u001b[0mbundle\u001b[0m\u001b[0;34m=\u001b[0m\u001b[0mbundle_name\u001b[0m\u001b[0;34m,\u001b[0m\u001b[0;34m\u001b[0m\u001b[0m\n\u001b[0;32m--> 497\u001b[0;31m                     \u001b[0mtimestamp\u001b[0m\u001b[0;34m=\u001b[0m\u001b[0mtimestamp\u001b[0m\u001b[0;34m,\u001b[0m\u001b[0;34m\u001b[0m\u001b[0m\n\u001b[0m\u001b[1;32m    498\u001b[0m                 ),\n\u001b[1;32m    499\u001b[0m             )\n",
      "\u001b[0;31mValueError\u001b[0m: no data for bundle 'm4-quiz-eod-quotemedia' on or before 2020-02-24 00:19:02.932128+00:00\nmaybe you need to run: $ zipline ingest -b m4-quiz-eod-quotemedia"
     ]
    }
   ],
   "source": [
    "from zipline.pipeline import Pipeline\n",
    "from zipline.pipeline.factors import AverageDollarVolume\n",
    "from zipline.utils.calendars import get_calendar\n",
    "\n",
    "universe = AverageDollarVolume(window_length=120).top(500) \n",
    "trading_calendar = get_calendar('NYSE') \n",
    "bundle_data = bundles.load(quiz_helper.EOD_BUNDLE_NAME)\n",
    "engine = quiz_helper.build_pipeline_engine(bundle_data, trading_calendar)"
   ]
  },
  {
   "cell_type": "code",
   "execution_count": null,
   "metadata": {},
   "outputs": [],
   "source": []
  },
  {
   "cell_type": "code",
   "execution_count": null,
   "metadata": {},
   "outputs": [],
   "source": []
  }
 ],
 "metadata": {
  "kernelspec": {
   "display_name": "Python 3",
   "language": "python",
   "name": "python3"
  },
  "language_info": {
   "codemirror_mode": {
    "name": "ipython",
    "version": 3
   },
   "file_extension": ".py",
   "mimetype": "text/x-python",
   "name": "python",
   "nbconvert_exporter": "python",
   "pygments_lexer": "ipython3",
   "version": "3.5.6"
  }
 },
 "nbformat": 4,
 "nbformat_minor": 4
}
