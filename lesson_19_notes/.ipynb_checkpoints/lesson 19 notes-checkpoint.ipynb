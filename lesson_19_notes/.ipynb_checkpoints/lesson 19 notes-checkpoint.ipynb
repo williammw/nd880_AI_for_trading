{
 "cells": [
  {
   "cell_type": "markdown",
   "metadata": {},
   "source": [
    "# Video #10"
   ]
  },
  {
   "cell_type": "code",
   "execution_count": 3,
   "metadata": {},
   "outputs": [],
   "source": [
    "import numpy as np\n",
    "import pandas as pd "
   ]
  },
  {
   "cell_type": "code",
   "execution_count": 4,
   "metadata": {},
   "outputs": [
    {
     "data": {
      "text/plain": [
       "A    0.035\n",
       "B    0.017\n",
       "C    0.029\n",
       "D    0.093\n",
       "E    0.033\n",
       "dtype: float64"
      ]
     },
     "execution_count": 4,
     "metadata": {},
     "output_type": "execute_result"
    }
   ],
   "source": [
    "portfolio = pd.Series([0.035, 0.017, 0.029, 0.093, 0.033], index=['A', 'B', 'C', 'D', 'E'])\n",
    "portfolio"
   ]
  },
  {
   "cell_type": "code",
   "execution_count": 1,
   "metadata": {},
   "outputs": [
    {
     "ename": "SyntaxError",
     "evalue": "invalid syntax (<ipython-input-1-5a65898e7c92>, line 4)",
     "output_type": "error",
     "traceback": [
      "\u001b[0;36m  File \u001b[0;32m\"<ipython-input-1-5a65898e7c92>\"\u001b[0;36m, line \u001b[0;32m4\u001b[0m\n\u001b[0;31m    'B':[0.0007., 0.0008, 0.0005, 0.0007, 0.0009],\u001b[0m\n\u001b[0m                ^\u001b[0m\n\u001b[0;31mSyntaxError\u001b[0m\u001b[0;31m:\u001b[0m invalid syntax\n"
     ]
    }
   ],
   "source": [
    "covariance =  pd.DataFrame(\n",
    "    {\n",
    "        'A':[0.0014, 0.0008, 0.0005, 0.0007, 0.0009],\n",
    "        'B':[0.0007, 0.0008, 0.0005, 0.0007, 0.0009],\n",
    "        'C':[0.0004, 0.0008, 0.0005, 0.0007, 0.0009],\n",
    "        'D':[0.0007, 0.0008, 0.0005, 0.0007, 0.0009],\n",
    "        'E':[0.0009, 0.0008, 0.0005, 0.0007, 0.0009],\n",
    "    }\n",
    ")\n",
    "covariance"
   ]
  },
  {
   "cell_type": "code",
   "execution_count": null,
   "metadata": {},
   "outputs": [],
   "source": []
  }
 ],
 "metadata": {
  "kernelspec": {
   "display_name": "Python 3",
   "language": "python",
   "name": "python3"
  },
  "language_info": {
   "codemirror_mode": {
    "name": "ipython",
    "version": 3
   },
   "file_extension": ".py",
   "mimetype": "text/x-python",
   "name": "python",
   "nbconvert_exporter": "python",
   "pygments_lexer": "ipython3",
   "version": "3.7.4"
  }
 },
 "nbformat": 4,
 "nbformat_minor": 2
}
