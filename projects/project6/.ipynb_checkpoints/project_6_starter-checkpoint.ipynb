{
 "cells": [
  {
   "cell_type": "markdown",
   "metadata": {},
   "source": [
    "# Project 6: Analyzing Stock Sentiment from Twits\n",
    "## Instructions\n",
    "Each problem consists of a function to implement and instructions on how to implement the function.  The parts of the function that need to be implemented are marked with a `# TODO` comment.\n",
    "\n",
    "## Packages\n",
    "When you implement the functions, you'll only need to you use the packages you've used in the classroom, like [Pandas](https://pandas.pydata.org/) and [Numpy](http://www.numpy.org/). These packages will be imported for you. We recommend you don't add any import statements, otherwise the grader might not be able to run your code.\n",
    "\n",
    "### Load Packages"
   ]
  },
  {
   "cell_type": "code",
   "execution_count": 1,
   "metadata": {},
   "outputs": [],
   "source": [
    "import json\n",
    "import nltk\n",
    "import os\n",
    "import random\n",
    "import re\n",
    "import torch\n",
    "import numpy as np\n",
    "\n",
    "from torch import nn, optim\n",
    "import torch.nn.functional as F"
   ]
  },
  {
   "cell_type": "markdown",
   "metadata": {},
   "source": [
    "## Introduction\n",
    "When deciding the value of a company, it's important to follow the news. For example, a product recall or natural disaster in a company's product chain. You want to be able to turn this information into a signal. Currently, the best tool for the job is a Neural Network. \n",
    "\n",
    "For this project, you'll use posts from the social media site [StockTwits](https://en.wikipedia.org/wiki/StockTwits). The community on StockTwits is full of investors, traders, and entrepreneurs. Each message posted is called a Twit. This is similar to Twitter's version of a post, called a Tweet. You'll build a model around these twits that generate a sentiment score.\n",
    "\n",
    "We've collected a bunch of twits, then hand labeled the sentiment of each. To capture the degree of sentiment, we'll use a five-point scale: very negative, negative, neutral, positive, very positive. Each twit is labeled -2 to 2 in steps of 1, from very negative to very positive respectively. You'll build a sentiment analysis model that will learn to assign sentiment to twits on its own, using this labeled data.\n",
    "\n",
    "The first thing we should to do, is load the data.\n",
    "\n",
    "## Import Twits \n",
    "### Load Twits Data \n",
    "This JSON file contains a list of objects for each twit in the `'data'` field:\n",
    "\n",
    "```\n",
    "{'data':\n",
    "  {'message_body': 'Neutral twit body text here',\n",
    "   'sentiment': 0},\n",
    "  {'message_body': 'Happy twit body text here',\n",
    "   'sentiment': 1},\n",
    "   ...\n",
    "}\n",
    "```\n",
    "\n",
    "The fields represent the following:\n",
    "\n",
    "* `'message_body'`: The text of the twit.\n",
    "* `'sentiment'`: Sentiment score for the twit, ranges from -2 to 2 in steps of 1, with 0 being neutral.\n",
    "\n",
    "\n",
    "To see what the data look like by printing the first 10 twits from the list. "
   ]
  },
  {
   "cell_type": "code",
   "execution_count": 2,
   "metadata": {},
   "outputs": [
    {
     "name": "stdout",
     "output_type": "stream",
     "text": [
      "[{'message_body': '$FITB great buy at 26.00...ill wait', 'sentiment': 2, 'timestamp': '2018-07-01T00:00:09Z'}, {'message_body': '@StockTwits $MSFT', 'sentiment': 1, 'timestamp': '2018-07-01T00:00:42Z'}, {'message_body': '#STAAnalystAlert for $TDG : Jefferies Maintains with a rating of Hold setting target price at USD 350.00. Our own verdict is Buy  http://www.stocktargetadvisor.com/toprating', 'sentiment': 2, 'timestamp': '2018-07-01T00:01:24Z'}, {'message_body': '$AMD I heard there’s a guy who knows someone who thinks somebody knows something - on StockTwits.', 'sentiment': 1, 'timestamp': '2018-07-01T00:01:47Z'}, {'message_body': '$AMD reveal yourself!', 'sentiment': 0, 'timestamp': '2018-07-01T00:02:13Z'}, {'message_body': '$AAPL Why the drop? I warren Buffet taking out his position?', 'sentiment': 1, 'timestamp': '2018-07-01T00:03:10Z'}, {'message_body': '$BA bears have 1 reason on 06-29 to pay more attention https://dividendbot.com?s=BA', 'sentiment': -2, 'timestamp': '2018-07-01T00:04:09Z'}, {'message_body': '$BAC ok good we&#39;re not dropping in price over the weekend, lol', 'sentiment': 1, 'timestamp': '2018-07-01T00:04:17Z'}, {'message_body': '$AMAT - Daily Chart, we need to get back to above 50.', 'sentiment': 2, 'timestamp': '2018-07-01T00:08:01Z'}, {'message_body': '$GME 3% drop per week after spike... if no news in 3 months, back to 12s... if BO, then bingo... what is the odds?', 'sentiment': -2, 'timestamp': '2018-07-01T00:09:03Z'}]\n"
     ]
    }
   ],
   "source": [
    "with open(os.path.join('..', '..', 'data', 'project_6_stocktwits', 'twits.json'), 'r') as f:\n",
    "    twits = json.load(f)\n",
    "\n",
    "print(twits['data'][:10])"
   ]
  },
  {
   "cell_type": "markdown",
   "metadata": {},
   "source": [
    "### Length of Data\n",
    "Now let's look at the number of twits in dataset. Print the number of twits below."
   ]
  },
  {
   "cell_type": "code",
   "execution_count": 3,
   "metadata": {},
   "outputs": [
    {
     "name": "stdout",
     "output_type": "stream",
     "text": [
      "1548010\n"
     ]
    }
   ],
   "source": [
    "\"\"\"print out the number of twits\"\"\"\n",
    "\n",
    "# TODO Implement \n",
    "\n",
    "print(len(twits['data']))"
   ]
  },
  {
   "cell_type": "markdown",
   "metadata": {},
   "source": [
    "### Split Message Body and Sentiment Score"
   ]
  },
  {
   "cell_type": "code",
   "execution_count": 4,
   "metadata": {},
   "outputs": [],
   "source": [
    "messages = [twit['message_body'] for twit in twits['data']]\n",
    "# Since the sentiment scores are discrete, we'll scale the sentiments to 0 to 4 for use in our network\n",
    "sentiments = [twit['sentiment'] + 2 for twit in twits['data']]"
   ]
  },
  {
   "cell_type": "markdown",
   "metadata": {},
   "source": [
    "## Preprocessing the Data\n",
    "With our data in hand we need to preprocess our text. These twits are collected by filtering on ticker symbols where these are denoted with a leader $ symbol in the twit itself. For example,\n",
    "\n",
    "`{'message_body': 'RT @google Our annual look at the year in Google blogging (and beyond) http://t.co/sptHOAh8 $GOOG',\n",
    " 'sentiment': 0}`\n",
    "\n",
    "The ticker symbols don't provide information on the sentiment, and they are in every twit, so we should remove them. This twit also has the `@google` username, again not providing sentiment information, so we should also remove it. We also see a URL `http://t.co/sptHOAh8`. Let's remove these too.\n",
    "\n",
    "The easiest way to remove specific words or phrases is with regex using the `re` module. You can sub out specific patterns with a space:\n",
    "\n",
    "```python\n",
    "re.sub(pattern, ' ', text)\n",
    "```\n",
    "This will substitute a space with anywhere the pattern matches in the text. Later when we tokenize the text, we'll split appropriately on those spaces."
   ]
  },
  {
   "cell_type": "markdown",
   "metadata": {},
   "source": [
    "### Pre-Processing"
   ]
  },
  {
   "cell_type": "code",
   "execution_count": 5,
   "metadata": {},
   "outputs": [
    {
     "name": "stdout",
     "output_type": "stream",
     "text": [
      "[nltk_data] Downloading package wordnet to /root/nltk_data...\n",
      "[nltk_data]   Unzipping corpora/wordnet.zip.\n"
     ]
    }
   ],
   "source": [
    "nltk.download('wordnet')\n",
    "\n",
    "\n",
    "def preprocess(message):\n",
    "    \"\"\"\n",
    "    This function takes a string as input, then performs these operations: \n",
    "        - lowercase\n",
    "        - remove URLs\n",
    "        - remove ticker symbols \n",
    "        - removes punctuation\n",
    "        - tokenize by splitting the string on whitespace \n",
    "        - removes any single character tokens\n",
    "    \n",
    "    Parameters\n",
    "    ----------\n",
    "        message : The text message to be preprocessed.\n",
    "        \n",
    "    Returns\n",
    "    -------\n",
    "        tokens: The preprocessed text into tokens.\n",
    "    \"\"\" \n",
    "    #TODO: Implement \n",
    "    \n",
    "    # Lowercase the twit message\n",
    "    text = message.lower()\n",
    "    \n",
    "    # Replace URLs with a space in the message\n",
    "    text = re.sub(r'https?://[^\\s]+', ' ', text)\n",
    "    \n",
    "    # Replace ticker symbols with a space. The ticker symbols are any stock symbol that starts with $.\n",
    "    text = re.sub(r'[$][A-Za-z][\\S]*', ' ', text)\n",
    "    \n",
    "    # Replace StockTwits usernames with a space. The usernames are any word that starts with @.\n",
    "    text = re.sub(r'[@][A-Za-z][\\S]*', ' ', text)\n",
    "\n",
    "    # Replace everything not a letter with a space\n",
    "    text = re.sub(r'[\\W_]+', ' ', text)\n",
    "    \n",
    "    # Tokenize by splitting the string on whitespace into a list of words\n",
    "    tokens = tokens = text.split()\n",
    "\n",
    "    # Lemmatize words using the WordNetLemmatizer. You can ignore any word that is not longer than one character.\n",
    "    wnl = nltk.stem.WordNetLemmatizer()\n",
    "    tokens = [wnl.lemmatize(w) for w in tokens if len(w)  > 1]\n",
    "    \n",
    "    return tokens"
   ]
  },
  {
   "cell_type": "markdown",
   "metadata": {},
   "source": [
    "### Preprocess All the Twits \n",
    "Now we can preprocess each of the twits in our dataset. Apply the function `preprocess` to all the twit messages."
   ]
  },
  {
   "cell_type": "code",
   "execution_count": 6,
   "metadata": {},
   "outputs": [],
   "source": [
    "# TODO Implement\n",
    "\n",
    "tokenized = [preprocess(message) for message in messages]"
   ]
  },
  {
   "cell_type": "markdown",
   "metadata": {},
   "source": [
    "### Bag of Words\n",
    "Now with all of our messages tokenized, we want to create a vocabulary and count up how often each word appears in our entire corpus. Use the [`Counter`](https://docs.python.org/3.1/library/collections.html#collections.Counter) function to count up all the tokens."
   ]
  },
  {
   "cell_type": "code",
   "execution_count": 7,
   "metadata": {},
   "outputs": [],
   "source": [
    "from collections import Counter\n",
    "\n",
    "\n",
    "\"\"\"\n",
    "Create a vocabulary by using Bag of words\n",
    "\"\"\"\n",
    "\n",
    "# TODO: Implement \n",
    "stacked_tokens = [word for twit in tokenized for word in twit]\n",
    "bow = Counter(stacked_tokens)"
   ]
  },
  {
   "cell_type": "markdown",
   "metadata": {},
   "source": [
    "### Frequency of Words Appearing in Message\n",
    "With our vocabulary, now we'll remove some of the most common words such as 'the', 'and', 'it', etc. These words don't contribute to identifying sentiment and are really common, resulting in a lot of noise in our input. If we can filter these out, then our network should have an easier time learning.\n",
    "\n",
    "We also want to remove really rare words that show up in a only a few twits. Here you'll want to divide the count of each word by the number of messages. Then remove words that only appear in some small fraction of the messages."
   ]
  },
  {
   "cell_type": "code",
   "execution_count": 8,
   "metadata": {},
   "outputs": [
    {
     "name": "stdout",
     "output_type": "stream",
     "text": [
      "[('the', 398740), ('to', 379398), ('is', 284853), ('for', 273513), ('on', 241643), ('of', 211300), ('and', 208468), ('in', 205252), ('this', 203546), ('it', 193478), ('39', 190897), ('at', 138314), ('will', 128195), ('up', 121516), ('are', 101423)]\n"
     ]
    },
    {
     "data": {
      "text/plain": [
       "7044"
      ]
     },
     "execution_count": 8,
     "metadata": {},
     "output_type": "execute_result"
    }
   ],
   "source": [
    "\"\"\"\n",
    "Set the following variables:\n",
    "    freqs\n",
    "    low_cutoff\n",
    "    high_cutoff\n",
    "    K_most_common\n",
    "\"\"\"\n",
    "\n",
    "# TODO Implement \n",
    "\n",
    "# Dictionart that contains the Frequency of words appearing in messages.\n",
    "# The key is the token and the value is the frequency of that word in the corpus.\n",
    "total_num_words = len(stacked_tokens)\n",
    "freqs = {key: value/total_num_words for key, value in bow.items()}\n",
    "\n",
    "# Float that is the frequency cutoff. Drop words with a frequency that is lower or equal to this number.\n",
    "low_cutoff = 5e-6\n",
    "\n",
    "# Integer that is the cut off for most common words. Drop words that are the `high_cutoff` most common words.\n",
    "high_cutoff = 15\n",
    "\n",
    "# The k most common words in the corpus. Use `high_cutoff` as the k.\n",
    "K_most_common = [word for word in bow.most_common(high_cutoff)]\n",
    "\n",
    "\n",
    "filtered_words = [word for word, freq in freqs.items() if (freq > low_cutoff and word not in K_most_common)]\n",
    "print(K_most_common)\n",
    "len(filtered_words) "
   ]
  },
  {
   "cell_type": "markdown",
   "metadata": {},
   "source": [
    "### Updating Vocabulary by Removing Filtered Words\n",
    "Let's creat three variables that will help with our vocabulary."
   ]
  },
  {
   "cell_type": "code",
   "execution_count": 9,
   "metadata": {},
   "outputs": [],
   "source": [
    "from tqdm import tqdm"
   ]
  },
  {
   "cell_type": "code",
   "execution_count": 10,
   "metadata": {},
   "outputs": [
    {
     "name": "stderr",
     "output_type": "stream",
     "text": [
      "100%|██████████| 1548010/1548010 [00:09<00:00, 168790.08it/s]\n"
     ]
    }
   ],
   "source": [
    "\"\"\"\n",
    "Set the following variables:\n",
    "    vocab\n",
    "    id2vocab\n",
    "    filtered\n",
    "\"\"\"\n",
    "\n",
    "#TODO Implement\n",
    "counts = Counter(filtered_words)\n",
    "i=1\n",
    "# A dictionary for the `filtered_words`. The key is the word and value is an id that represents the word. \n",
    "vocab={}\n",
    "for w in (filtered_words):\n",
    "    vocab[w]=i\n",
    "    i+=1\n",
    "# Reverse of the `vocab` dictionary. The key is word id and value is the word. \n",
    "id2vocab = { ii:word for  word,ii in vocab.items()}\n",
    "# tokenized with the words not in `filtered_words` removed.\n",
    "filtered=[[word for word in message if word in vocab] for message in tqdm(tokenized)]"
   ]
  },
  {
   "cell_type": "markdown",
   "metadata": {},
   "source": [
    "### Balancing the classes\n",
    "Let's do a few last pre-processing steps. If we look at how our twits are labeled, we'll find that 50% of them are neutral. This means that our network will be 50% accurate just by guessing 0 every single time. To help our network learn appropriately, we'll want to balance our classes.\n",
    "That is, make sure each of our different sentiment scores show up roughly as frequently in the data.\n",
    "\n",
    "What we can do here is go through each of our examples and randomly drop twits with neutral sentiment. What should be the probability we drop these twits if we want to get around 20% neutral twits starting at 50% neutral? We should also take this opportunity to remove messages with length 0."
   ]
  },
  {
   "cell_type": "code",
   "execution_count": 11,
   "metadata": {},
   "outputs": [],
   "source": [
    "balanced = {'messages': [], 'sentiments':[]}\n",
    "\n",
    "n_neutral = sum(1 for each in sentiments if each == 2)\n",
    "N_examples = len(sentiments)\n",
    "keep_prob = (N_examples - n_neutral)/4/n_neutral\n",
    "\n",
    "for idx, sentiment in enumerate(sentiments):\n",
    "    message = filtered[idx]\n",
    "    if len(message) == 0:\n",
    "        # skip this message because it has length zero\n",
    "        continue\n",
    "    elif sentiment != 2 or random.random() < keep_prob:\n",
    "        balanced['messages'].append(message)\n",
    "        balanced['sentiments'].append(sentiment) "
   ]
  },
  {
   "cell_type": "markdown",
   "metadata": {},
   "source": [
    "If you did it correctly, you should see the following result "
   ]
  },
  {
   "cell_type": "code",
   "execution_count": 12,
   "metadata": {},
   "outputs": [
    {
     "data": {
      "text/plain": [
       "0.19325129304039596"
      ]
     },
     "execution_count": 12,
     "metadata": {},
     "output_type": "execute_result"
    }
   ],
   "source": [
    "n_neutral = sum(1 for each in balanced['sentiments'] if each == 2)\n",
    "N_examples = len(balanced['sentiments'])\n",
    "n_neutral/N_examples"
   ]
  },
  {
   "cell_type": "markdown",
   "metadata": {},
   "source": [
    "Finally let's convert our tokens into integer ids which we can pass to the network."
   ]
  },
  {
   "cell_type": "code",
   "execution_count": 13,
   "metadata": {},
   "outputs": [],
   "source": [
    "token_ids = [[vocab[word] for word in message] for message in balanced['messages']]\n",
    "sentiments = balanced['sentiments']"
   ]
  },
  {
   "cell_type": "markdown",
   "metadata": {},
   "source": [
    "## Neural Network\n",
    "Now we have our vocabulary which means we can transform our tokens into ids, which are then passed to our network. So, let's define the network now!\n",
    "\n",
    "Here is a nice diagram showing the network we'd like to build: \n",
    "\n",
    "#### Embed -> RNN -> Dense -> Softmax\n",
    "### Implement the text classifier\n",
    "Before we build text classifier, if you remember from the other network that you built in  \"Sentiment Analysis with an RNN\"  exercise  - which there, the network called \" SentimentRNN\", here we named it \"TextClassifer\" - consists of three main parts: 1) init function `__init__` 2) forward pass `forward`  3) hidden state `init_hidden`. \n",
    "\n",
    "This network is pretty similar to the network you built expect in the  `forward` pass, we use softmax instead of sigmoid. The reason we are not using sigmoid is that the output of NN is not a binary. In our network, sentiment scores have 5 possible outcomes. We are looking for an outcome with the highest probability thus softmax is a better choice."
   ]
  },
  {
   "cell_type": "code",
   "execution_count": 14,
   "metadata": {},
   "outputs": [],
   "source": [
    "class TextClassifier(nn.Module):\n",
    "    def __init__(self, vocab_size, embed_size, lstm_size, output_size, lstm_layers=1, dropout=0.1):\n",
    "        \"\"\"\n",
    "        Initialize the model by setting up the layers.\n",
    "        \n",
    "        Parameters\n",
    "        ----------\n",
    "            vocab_size : The vocabulary size.\n",
    "            embed_size : The embedding layer size.\n",
    "            lstm_size : The LSTM layer size.\n",
    "            output_size : The output size.\n",
    "            lstm_layers : The number of LSTM layers.\n",
    "            dropout : The dropout probability.\n",
    "        \"\"\"\n",
    "        \n",
    "        super().__init__()\n",
    "        self.vocab_size = vocab_size\n",
    "        self.embed_size = embed_size\n",
    "        self.lstm_size = lstm_size\n",
    "        self.output_size = output_size\n",
    "        self.lstm_layers = lstm_layers\n",
    "        self.dropout = dropout\n",
    "        \n",
    "        # TODO Implement\n",
    "\n",
    "        # Setup embedding layer\n",
    "        self.embedding = nn.Embedding(vocab_size, embed_size)\n",
    "        self.lstm = nn.LSTM(embed_size, lstm_size, lstm_layers, dropout=dropout, batch_first=False)\n",
    "        # Setup additional layers\n",
    "        self.dropout = nn.Dropout(dropout)\n",
    "        self.fc = nn.Linear(lstm_size, output_size)\n",
    "        self.log_softmax = nn.LogSoftmax(dim=1)\n",
    "\n",
    "\n",
    "    def init_hidden(self, batch_size):\n",
    "        \"\"\" \n",
    "        Initializes hidden state\n",
    "        \n",
    "        Parameters\n",
    "        ----------\n",
    "            batch_size : The size of batches.\n",
    "        \n",
    "        Returns\n",
    "        -------\n",
    "            hidden_state\n",
    "            \n",
    "        \"\"\"\n",
    "        \n",
    "        # TODO Implement \n",
    "        \n",
    "        # Create two new tensors with sizes n_layers x batch_size x hidden_dim,\n",
    "        # initialized to zero, for hidden state and cell state of LSTM\n",
    "        weight = next(self.parameters()).data\n",
    "        hidden = (weight.new(self.lstm_layers, batch_size, self.lstm_size).zero_(), weight.new(self.lstm_layers, batch_size, self.lstm_size).zero_())\n",
    "        return hidden\n",
    "\n",
    "\n",
    "    def forward(self, nn_input, hidden_state):\n",
    "        \"\"\"\n",
    "        Perform a forward pass of our model on nn_input.\n",
    "        \n",
    "        Parameters\n",
    "        ----------\n",
    "            nn_input : The batch of input to the NN.\n",
    "            hidden_state : The LSTM hidden state.\n",
    "\n",
    "        Returns\n",
    "        -------\n",
    "            logps: log softmax output\n",
    "            hidden_state: The new hidden state.\n",
    "\n",
    "        \"\"\"\n",
    "        \n",
    "        # TODO Implement \n",
    "        embed = self.embedding (nn_input)\n",
    "        lstm_out, hidden_state = self.lstm(embed, hidden_state)\n",
    "        lstm_out = lstm_out[-1]\n",
    "        \n",
    "        logps = self.log_softmax(self.dropout(self.fc(lstm_out)))\n",
    "        \n",
    "        return logps, hidden_state"
   ]
  },
  {
   "cell_type": "markdown",
   "metadata": {},
   "source": [
    "### View Model"
   ]
  },
  {
   "cell_type": "code",
   "execution_count": 15,
   "metadata": {},
   "outputs": [
    {
     "name": "stdout",
     "output_type": "stream",
     "text": [
      "tensor([[-1.5462, -1.2931, -1.4739, -1.9079, -2.0017],\n",
      "        [-1.5399, -1.2921, -1.4867, -1.9009, -1.9999],\n",
      "        [-1.5441, -1.3086, -1.4596, -1.9112, -1.9946],\n",
      "        [-1.5473, -1.2811, -1.4818, -1.9102, -2.0088]])\n"
     ]
    }
   ],
   "source": [
    "model = TextClassifier(len(vocab), 10, 6, 5, dropout=0.1, lstm_layers=2)\n",
    "model.embedding.weight.data.uniform_(-1, 1)\n",
    "input = torch.randint(0, 1000, (5, 4), dtype=torch.int64)\n",
    "hidden = model.init_hidden(4)\n",
    "\n",
    "logps, _ = model.forward(input, hidden)\n",
    "print(logps)"
   ]
  },
  {
   "cell_type": "markdown",
   "metadata": {},
   "source": [
    "## Training\n",
    "### DataLoaders and Batching\n",
    "Now we should build a generator that we can use to loop through our data. It'll be more efficient if we can pass our sequences in as batches. Our input tensors should look like `(sequence_length, batch_size)`. So if our sequences are 40 tokens long and we pass in 25 sequences, then we'd have an input size of `(40, 25)`.\n",
    "\n",
    "If we set our sequence length to 40, what do we do with messages that are more or less than 40 tokens? For messages with fewer than 40 tokens, we will pad the empty spots with zeros. We should be sure to **left** pad so that the RNN starts from nothing before going through the data. If the message has 20 tokens, then the first 20 spots of our 40 long sequence will be 0. If a message has more than 40 tokens, we'll just keep the first 40 tokens."
   ]
  },
  {
   "cell_type": "code",
   "execution_count": 16,
   "metadata": {},
   "outputs": [],
   "source": [
    "def dataloader(messages, labels, sequence_length=30, batch_size=32, shuffle=False):\n",
    "    \"\"\" \n",
    "    Build a dataloader.\n",
    "    \"\"\"\n",
    "    if shuffle:\n",
    "        indices = list(range(len(messages)))\n",
    "        random.shuffle(indices)\n",
    "        messages = [messages[idx] for idx in indices]\n",
    "        labels = [labels[idx] for idx in indices]\n",
    "\n",
    "    total_sequences = len(messages)\n",
    "\n",
    "    for ii in range(0, total_sequences, batch_size):\n",
    "        batch_messages = messages[ii: ii+batch_size]\n",
    "        \n",
    "        # First initialize a tensor of all zeros\n",
    "        batch = torch.zeros((sequence_length, len(batch_messages)), dtype=torch.int64)\n",
    "        for batch_num, tokens in enumerate(batch_messages):\n",
    "            token_tensor = torch.tensor(tokens)\n",
    "            # Left pad!\n",
    "            start_idx = max(sequence_length - len(token_tensor), 0)\n",
    "            batch[start_idx:, batch_num] = token_tensor[:sequence_length]\n",
    "        \n",
    "        label_tensor = torch.tensor(labels[ii: ii+len(batch_messages)])\n",
    "        \n",
    "        yield batch, label_tensor"
   ]
  },
  {
   "cell_type": "markdown",
   "metadata": {},
   "source": [
    "### Training and  Validation\n",
    "With our data in nice shape, we'll split it into training and validation sets."
   ]
  },
  {
   "cell_type": "code",
   "execution_count": 17,
   "metadata": {},
   "outputs": [],
   "source": [
    "\"\"\"\n",
    "Split data into training and validation datasets. Use an appropriate split size.\n",
    "The features are the `token_ids` and the labels are the `sentiments`.\n",
    "\"\"\"   \n",
    "\n",
    "# TODO Implement \n",
    "valid_split = int(len(token_ids)*0.8)\n",
    "\n",
    "train_features = token_ids[:valid_split]\n",
    "valid_features = token_ids[valid_split:]\n",
    "train_labels = sentiments[:valid_split]\n",
    "valid_labels = sentiments[valid_split:]"
   ]
  },
  {
   "cell_type": "code",
   "execution_count": 18,
   "metadata": {},
   "outputs": [],
   "source": [
    "text_batch, labels = next(iter(dataloader(train_features, train_labels, sequence_length=20, batch_size=64)))\n",
    "model = TextClassifier(len(vocab)+1, 200, 128, 5, dropout=0.)\n",
    "hidden = model.init_hidden(64)\n",
    "logps, hidden = model.forward(text_batch, hidden)"
   ]
  },
  {
   "cell_type": "markdown",
   "metadata": {},
   "source": [
    "### Training\n",
    "It's time to train the neural network!"
   ]
  },
  {
   "cell_type": "code",
   "execution_count": 19,
   "metadata": {
    "scrolled": true
   },
   "outputs": [
    {
     "data": {
      "text/plain": [
       "TextClassifier(\n",
       "  (embedding): Embedding(7045, 1024)\n",
       "  (lstm): LSTM(1024, 512, num_layers=2, dropout=0.2)\n",
       "  (dropout): Dropout(p=0.2)\n",
       "  (fc): Linear(in_features=512, out_features=5, bias=True)\n",
       "  (log_softmax): LogSoftmax()\n",
       ")"
      ]
     },
     "execution_count": 19,
     "metadata": {},
     "output_type": "execute_result"
    }
   ],
   "source": [
    "device = torch.device(\"cuda\" if torch.cuda.is_available() else \"cpu\")\n",
    "\n",
    "model = TextClassifier(len(vocab)+1, 1024, 512, 5, lstm_layers=2, dropout=0.2)\n",
    "model.embedding.weight.data.uniform_(-1, 1)\n",
    "model.to(device)"
   ]
  },
  {
   "cell_type": "code",
   "execution_count": 20,
   "metadata": {
    "scrolled": true
   },
   "outputs": [
    {
     "name": "stdout",
     "output_type": "stream",
     "text": [
      "Starting epoch 1\n",
      "Epoch: 1/1... Step: 100... Loss: 1.309558... Val Loss: 1.345661 Val Correct Count: 90426.000000 Val Accuracy: 43.00%\n",
      "Epoch: 1/1... Step: 200... Loss: 1.337393... Val Loss: 1.307223 Val Correct Count: 95236.000000 Val Accuracy: 46.00%\n",
      "Epoch: 1/1... Step: 300... Loss: 1.186831... Val Loss: 1.198229 Val Correct Count: 102738.000000 Val Accuracy: 49.00%\n",
      "Epoch: 1/1... Step: 400... Loss: 1.304695... Val Loss: 1.127901 Val Correct Count: 113692.000000 Val Accuracy: 55.00%\n",
      "Epoch: 1/1... Step: 500... Loss: 0.883854... Val Loss: 1.074986 Val Correct Count: 119917.000000 Val Accuracy: 58.00%\n",
      "Epoch: 1/1... Step: 600... Loss: 0.983001... Val Loss: 1.071640 Val Correct Count: 120027.000000 Val Accuracy: 58.00%\n",
      "Epoch: 1/1... Step: 700... Loss: 1.218590... Val Loss: 1.008999 Val Correct Count: 123656.000000 Val Accuracy: 59.00%\n",
      "Epoch: 1/1... Step: 800... Loss: 1.130801... Val Loss: 1.021418 Val Correct Count: 118587.000000 Val Accuracy: 57.00%\n",
      "Epoch: 1/1... Step: 900... Loss: 0.953756... Val Loss: 0.975661 Val Correct Count: 129196.000000 Val Accuracy: 62.00%\n",
      "Epoch: 1/1... Step: 1000... Loss: 0.789069... Val Loss: 0.979503 Val Correct Count: 130904.000000 Val Accuracy: 63.00%\n",
      "Epoch: 1/1... Step: 1100... Loss: 1.081947... Val Loss: 0.921920 Val Correct Count: 133285.000000 Val Accuracy: 64.00%\n",
      "Epoch: 1/1... Step: 1200... Loss: 1.187725... Val Loss: 0.921022 Val Correct Count: 133880.000000 Val Accuracy: 64.00%\n",
      "Epoch: 1/1... Step: 1300... Loss: 0.900237... Val Loss: 0.885650 Val Correct Count: 137409.000000 Val Accuracy: 66.00%\n",
      "Epoch: 1/1... Step: 1400... Loss: 0.805403... Val Loss: 0.894506 Val Correct Count: 137105.000000 Val Accuracy: 66.00%\n",
      "Epoch: 1/1... Step: 1500... Loss: 0.992643... Val Loss: 0.898116 Val Correct Count: 137006.000000 Val Accuracy: 66.00%\n",
      "Epoch: 1/1... Step: 1600... Loss: 0.585637... Val Loss: 0.871945 Val Correct Count: 138282.000000 Val Accuracy: 66.00%\n",
      "Epoch: 1/1... Step: 1700... Loss: 0.907287... Val Loss: 0.855543 Val Correct Count: 138938.000000 Val Accuracy: 67.00%\n",
      "Epoch: 1/1... Step: 1800... Loss: 0.828071... Val Loss: 0.846993 Val Correct Count: 139026.000000 Val Accuracy: 67.00%\n",
      "Epoch: 1/1... Step: 1900... Loss: 0.935128... Val Loss: 0.844656 Val Correct Count: 140611.000000 Val Accuracy: 68.00%\n",
      "Epoch: 1/1... Step: 2000... Loss: 0.873715... Val Loss: 0.832400 Val Correct Count: 141308.000000 Val Accuracy: 68.00%\n",
      "Epoch: 1/1... Step: 2100... Loss: 0.560091... Val Loss: 0.824515 Val Correct Count: 142233.000000 Val Accuracy: 68.00%\n",
      "Epoch: 1/1... Step: 2200... Loss: 0.927315... Val Loss: 0.833353 Val Correct Count: 138852.000000 Val Accuracy: 67.00%\n",
      "Epoch: 1/1... Step: 2300... Loss: 0.923748... Val Loss: 0.823554 Val Correct Count: 142644.000000 Val Accuracy: 69.00%\n",
      "Epoch: 1/1... Step: 2400... Loss: 0.694249... Val Loss: 0.814677 Val Correct Count: 143261.000000 Val Accuracy: 69.00%\n",
      "Epoch: 1/1... Step: 2500... Loss: 1.060425... Val Loss: 0.807747 Val Correct Count: 144047.000000 Val Accuracy: 69.00%\n",
      "Epoch: 1/1... Step: 2600... Loss: 0.944443... Val Loss: 0.802156 Val Correct Count: 144622.000000 Val Accuracy: 70.00%\n",
      "Epoch: 1/1... Step: 2700... Loss: 1.043403... Val Loss: 0.802698 Val Correct Count: 144271.000000 Val Accuracy: 69.00%\n",
      "Epoch: 1/1... Step: 2800... Loss: 1.075259... Val Loss: 0.789769 Val Correct Count: 145547.000000 Val Accuracy: 70.00%\n",
      "Epoch: 1/1... Step: 2900... Loss: 0.672858... Val Loss: 0.788832 Val Correct Count: 145488.000000 Val Accuracy: 70.00%\n",
      "Epoch: 1/1... Step: 3000... Loss: 1.028390... Val Loss: 0.800293 Val Correct Count: 144064.000000 Val Accuracy: 69.00%\n",
      "Epoch: 1/1... Step: 3100... Loss: 0.722925... Val Loss: 0.777918 Val Correct Count: 146595.000000 Val Accuracy: 71.00%\n",
      "Epoch: 1/1... Step: 3200... Loss: 0.847632... Val Loss: 0.787276 Val Correct Count: 144679.000000 Val Accuracy: 70.00%\n",
      "Epoch: 1/1... Step: 3300... Loss: 0.947364... Val Loss: 0.781294 Val Correct Count: 146039.000000 Val Accuracy: 70.00%\n",
      "Epoch: 1/1... Step: 3400... Loss: 0.811155... Val Loss: 0.778677 Val Correct Count: 146632.000000 Val Accuracy: 71.00%\n",
      "Epoch: 1/1... Step: 3500... Loss: 0.708652... Val Loss: 0.769558 Val Correct Count: 147632.000000 Val Accuracy: 71.00%\n",
      "Epoch: 1/1... Step: 3600... Loss: 0.726755... Val Loss: 0.761877 Val Correct Count: 147898.000000 Val Accuracy: 71.00%\n",
      "Epoch: 1/1... Step: 3700... Loss: 0.768356... Val Loss: 0.754273 Val Correct Count: 147814.000000 Val Accuracy: 71.00%\n",
      "Epoch: 1/1... Step: 3800... Loss: 0.764973... Val Loss: 0.760695 Val Correct Count: 147729.000000 Val Accuracy: 71.00%\n",
      "Epoch: 1/1... Step: 3900... Loss: 0.627920... Val Loss: 0.751802 Val Correct Count: 148343.000000 Val Accuracy: 71.00%\n",
      "Epoch: 1/1... Step: 4000... Loss: 0.655918... Val Loss: 0.761199 Val Correct Count: 148189.000000 Val Accuracy: 71.00%\n",
      "Epoch: 1/1... Step: 4100... Loss: 0.629427... Val Loss: 0.747015 Val Correct Count: 149054.000000 Val Accuracy: 72.00%\n",
      "Epoch: 1/1... Step: 4200... Loss: 0.749924... Val Loss: 0.748288 Val Correct Count: 148597.000000 Val Accuracy: 71.00%\n",
      "Epoch: 1/1... Step: 4300... Loss: 0.601612... Val Loss: 0.741053 Val Correct Count: 149286.000000 Val Accuracy: 72.00%\n",
      "Epoch: 1/1... Step: 4400... Loss: 0.706538... Val Loss: 0.745550 Val Correct Count: 149037.000000 Val Accuracy: 72.00%\n",
      "Epoch: 1/1... Step: 4500... Loss: 0.710087... Val Loss: 0.735175 Val Correct Count: 150126.000000 Val Accuracy: 72.00%\n",
      "Epoch: 1/1... Step: 4600... Loss: 0.632887... Val Loss: 0.739636 Val Correct Count: 149697.000000 Val Accuracy: 72.00%\n",
      "Epoch: 1/1... Step: 4700... Loss: 0.614297... Val Loss: 0.732019 Val Correct Count: 149405.000000 Val Accuracy: 72.00%\n",
      "Epoch: 1/1... Step: 4800... Loss: 0.641923... Val Loss: 0.728677 Val Correct Count: 150393.000000 Val Accuracy: 72.00%\n",
      "Epoch: 1/1... Step: 4900... Loss: 0.786945... Val Loss: 0.732073 Val Correct Count: 150396.000000 Val Accuracy: 72.00%\n",
      "Epoch: 1/1... Step: 5000... Loss: 0.709692... Val Loss: 0.725433 Val Correct Count: 149880.000000 Val Accuracy: 72.00%\n",
      "Epoch: 1/1... Step: 5100... Loss: 0.721139... Val Loss: 0.729703 Val Correct Count: 149487.000000 Val Accuracy: 72.00%\n",
      "Epoch: 1/1... Step: 5200... Loss: 0.686320... Val Loss: 0.722185 Val Correct Count: 150699.000000 Val Accuracy: 72.00%\n",
      "Epoch: 1/1... Step: 5300... Loss: 0.745658... Val Loss: 0.736629 Val Correct Count: 149138.000000 Val Accuracy: 72.00%\n",
      "Epoch: 1/1... Step: 5400... Loss: 0.873660... Val Loss: 0.725790 Val Correct Count: 150707.000000 Val Accuracy: 72.00%\n",
      "Epoch: 1/1... Step: 5500... Loss: 0.714259... Val Loss: 0.720852 Val Correct Count: 150156.000000 Val Accuracy: 72.00%\n",
      "Epoch: 1/1... Step: 5600... Loss: 0.780129... Val Loss: 0.717716 Val Correct Count: 150460.000000 Val Accuracy: 72.00%\n",
      "Epoch: 1/1... Step: 5700... Loss: 0.817829... Val Loss: 0.712124 Val Correct Count: 151483.000000 Val Accuracy: 73.00%\n",
      "Epoch: 1/1... Step: 5800... Loss: 0.714065... Val Loss: 0.708485 Val Correct Count: 151394.000000 Val Accuracy: 73.00%\n",
      "Epoch: 1/1... Step: 5900... Loss: 0.811734... Val Loss: 0.707715 Val Correct Count: 151224.000000 Val Accuracy: 73.00%\n",
      "Epoch: 1/1... Step: 6000... Loss: 0.720587... Val Loss: 0.709378 Val Correct Count: 151724.000000 Val Accuracy: 73.00%\n",
      "Epoch: 1/1... Step: 6100... Loss: 0.628177... Val Loss: 0.713481 Val Correct Count: 150501.000000 Val Accuracy: 72.00%\n",
      "Epoch: 1/1... Step: 6200... Loss: 0.768035... Val Loss: 0.707422 Val Correct Count: 151408.000000 Val Accuracy: 73.00%\n",
      "Epoch: 1/1... Step: 6300... Loss: 0.556408... Val Loss: 0.714774 Val Correct Count: 150898.000000 Val Accuracy: 73.00%\n",
      "Epoch: 1/1... Step: 6400... Loss: 0.642492... Val Loss: 0.708363 Val Correct Count: 151569.000000 Val Accuracy: 73.00%\n",
      "Epoch: 1/1... Step: 6500... Loss: 0.691706... Val Loss: 0.704954 Val Correct Count: 151623.000000 Val Accuracy: 73.00%\n",
      "Epoch: 1/1... Step: 6600... Loss: 0.786846... Val Loss: 0.706942 Val Correct Count: 151628.000000 Val Accuracy: 73.00%\n",
      "Epoch: 1/1... Step: 6700... Loss: 0.861136... Val Loss: 0.706531 Val Correct Count: 151543.000000 Val Accuracy: 73.00%\n",
      "Epoch: 1/1... Step: 6800... Loss: 0.634472... Val Loss: 0.699993 Val Correct Count: 152146.000000 Val Accuracy: 73.00%\n",
      "Epoch: 1/1... Step: 6900... Loss: 0.728440... Val Loss: 0.705366 Val Correct Count: 151948.000000 Val Accuracy: 73.00%\n"
     ]
    },
    {
     "name": "stdout",
     "output_type": "stream",
     "text": [
      "Epoch: 1/1... Step: 7000... Loss: 0.554238... Val Loss: 0.710919 Val Correct Count: 151962.000000 Val Accuracy: 73.00%\n",
      "Epoch: 1/1... Step: 7100... Loss: 0.813048... Val Loss: 0.727805 Val Correct Count: 150756.000000 Val Accuracy: 73.00%\n",
      "Epoch: 1/1... Step: 7200... Loss: 0.800680... Val Loss: 0.703971 Val Correct Count: 152035.000000 Val Accuracy: 73.00%\n",
      "Epoch: 1/1... Step: 7300... Loss: 0.708541... Val Loss: 0.704199 Val Correct Count: 151706.000000 Val Accuracy: 73.00%\n",
      "Epoch: 1/1... Step: 7400... Loss: 0.782797... Val Loss: 0.697046 Val Correct Count: 152639.000000 Val Accuracy: 73.00%\n",
      "Epoch: 1/1... Step: 7500... Loss: 1.027876... Val Loss: 0.698242 Val Correct Count: 152444.000000 Val Accuracy: 73.00%\n",
      "Epoch: 1/1... Step: 7600... Loss: 0.681276... Val Loss: 0.700633 Val Correct Count: 152522.000000 Val Accuracy: 73.00%\n",
      "Epoch: 1/1... Step: 7700... Loss: 1.037357... Val Loss: 0.688270 Val Correct Count: 153086.000000 Val Accuracy: 74.00%\n",
      "Epoch: 1/1... Step: 7800... Loss: 0.773069... Val Loss: 0.695393 Val Correct Count: 152333.000000 Val Accuracy: 73.00%\n",
      "Epoch: 1/1... Step: 7900... Loss: 0.658281... Val Loss: 0.685374 Val Correct Count: 153100.000000 Val Accuracy: 74.00%\n",
      "Epoch: 1/1... Step: 8000... Loss: 0.662415... Val Loss: 0.691978 Val Correct Count: 152236.000000 Val Accuracy: 73.00%\n",
      "Epoch: 1/1... Step: 8100... Loss: 0.551222... Val Loss: 0.696549 Val Correct Count: 152912.000000 Val Accuracy: 74.00%\n",
      "Epoch: 1/1... Step: 8200... Loss: 0.931170... Val Loss: 0.689727 Val Correct Count: 152777.000000 Val Accuracy: 74.00%\n",
      "Epoch: 1/1... Step: 8300... Loss: 0.731346... Val Loss: 0.687260 Val Correct Count: 153043.000000 Val Accuracy: 74.00%\n",
      "Epoch: 1/1... Step: 8400... Loss: 0.794901... Val Loss: 0.685985 Val Correct Count: 153130.000000 Val Accuracy: 74.00%\n",
      "Epoch: 1/1... Step: 8500... Loss: 0.751967... Val Loss: 0.682124 Val Correct Count: 153052.000000 Val Accuracy: 74.00%\n",
      "Epoch: 1/1... Step: 8600... Loss: 0.927637... Val Loss: 0.682158 Val Correct Count: 153128.000000 Val Accuracy: 74.00%\n",
      "Epoch: 1/1... Step: 8700... Loss: 0.876837... Val Loss: 0.680726 Val Correct Count: 153440.000000 Val Accuracy: 74.00%\n",
      "Epoch: 1/1... Step: 8800... Loss: 0.773044... Val Loss: 0.690432 Val Correct Count: 152574.000000 Val Accuracy: 73.00%\n",
      "Epoch: 1/1... Step: 8900... Loss: 0.656164... Val Loss: 0.682873 Val Correct Count: 153438.000000 Val Accuracy: 74.00%\n",
      "Epoch: 1/1... Step: 9000... Loss: 0.850323... Val Loss: 0.685747 Val Correct Count: 152587.000000 Val Accuracy: 73.00%\n",
      "Epoch: 1/1... Step: 9100... Loss: 0.782176... Val Loss: 0.696361 Val Correct Count: 152500.000000 Val Accuracy: 73.00%\n",
      "Epoch: 1/1... Step: 9200... Loss: 0.814602... Val Loss: 0.698557 Val Correct Count: 150555.000000 Val Accuracy: 72.00%\n",
      "Epoch: 1/1... Step: 9300... Loss: 0.813679... Val Loss: 0.694848 Val Correct Count: 152429.000000 Val Accuracy: 73.00%\n",
      "Epoch: 1/1... Step: 9400... Loss: 0.788881... Val Loss: 0.693471 Val Correct Count: 152585.000000 Val Accuracy: 73.00%\n",
      "Epoch: 1/1... Step: 9500... Loss: 0.691440... Val Loss: 0.688347 Val Correct Count: 152501.000000 Val Accuracy: 73.00%\n",
      "Epoch: 1/1... Step: 9600... Loss: 1.033717... Val Loss: 0.696606 Val Correct Count: 151613.000000 Val Accuracy: 73.00%\n",
      "Epoch: 1/1... Step: 9700... Loss: 0.908118... Val Loss: 0.679782 Val Correct Count: 153679.000000 Val Accuracy: 74.00%\n",
      "Epoch: 1/1... Step: 9800... Loss: 0.904366... Val Loss: 0.681246 Val Correct Count: 153196.000000 Val Accuracy: 74.00%\n",
      "Epoch: 1/1... Step: 9900... Loss: 0.576201... Val Loss: 0.690440 Val Correct Count: 152036.000000 Val Accuracy: 73.00%\n",
      "Epoch: 1/1... Step: 10000... Loss: 0.677481... Val Loss: 0.677071 Val Correct Count: 153724.000000 Val Accuracy: 74.00%\n",
      "Epoch: 1/1... Step: 10100... Loss: 0.852248... Val Loss: 0.680493 Val Correct Count: 152854.000000 Val Accuracy: 74.00%\n",
      "Epoch: 1/1... Step: 10200... Loss: 0.758090... Val Loss: 0.679873 Val Correct Count: 153445.000000 Val Accuracy: 74.00%\n",
      "Epoch: 1/1... Step: 10300... Loss: 1.007354... Val Loss: 0.683866 Val Correct Count: 152637.000000 Val Accuracy: 73.00%\n",
      "Epoch: 1/1... Step: 10400... Loss: 0.736417... Val Loss: 0.678511 Val Correct Count: 153525.000000 Val Accuracy: 74.00%\n",
      "Epoch: 1/1... Step: 10500... Loss: 0.602209... Val Loss: 0.687259 Val Correct Count: 153384.000000 Val Accuracy: 74.00%\n",
      "Epoch: 1/1... Step: 10600... Loss: 0.959523... Val Loss: 0.677302 Val Correct Count: 153682.000000 Val Accuracy: 74.00%\n",
      "Epoch: 1/1... Step: 10700... Loss: 0.794764... Val Loss: 0.682573 Val Correct Count: 153820.000000 Val Accuracy: 74.00%\n",
      "Epoch: 1/1... Step: 10800... Loss: 0.658640... Val Loss: 0.677132 Val Correct Count: 154112.000000 Val Accuracy: 74.00%\n",
      "Epoch: 1/1... Step: 10900... Loss: 0.700684... Val Loss: 0.677132 Val Correct Count: 153760.000000 Val Accuracy: 74.00%\n",
      "Epoch: 1/1... Step: 11000... Loss: 0.936300... Val Loss: 0.680736 Val Correct Count: 153384.000000 Val Accuracy: 74.00%\n",
      "Epoch: 1/1... Step: 11100... Loss: 0.707015... Val Loss: 0.675770 Val Correct Count: 153993.000000 Val Accuracy: 74.00%\n",
      "Epoch: 1/1... Step: 11200... Loss: 1.090511... Val Loss: 0.671746 Val Correct Count: 154074.000000 Val Accuracy: 74.00%\n",
      "Epoch: 1/1... Step: 11300... Loss: 0.431243... Val Loss: 0.676200 Val Correct Count: 153813.000000 Val Accuracy: 74.00%\n",
      "Epoch: 1/1... Step: 11400... Loss: 0.800026... Val Loss: 0.680614 Val Correct Count: 151442.000000 Val Accuracy: 73.00%\n",
      "Epoch: 1/1... Step: 11500... Loss: 0.778646... Val Loss: 0.671392 Val Correct Count: 153940.000000 Val Accuracy: 74.00%\n",
      "Epoch: 1/1... Step: 11600... Loss: 0.826805... Val Loss: 0.671313 Val Correct Count: 153155.000000 Val Accuracy: 74.00%\n",
      "Epoch: 1/1... Step: 11700... Loss: 0.975817... Val Loss: 0.673227 Val Correct Count: 153771.000000 Val Accuracy: 74.00%\n",
      "Epoch: 1/1... Step: 11800... Loss: 1.008306... Val Loss: 0.675395 Val Correct Count: 154022.000000 Val Accuracy: 74.00%\n",
      "Epoch: 1/1... Step: 11900... Loss: 1.011746... Val Loss: 0.674017 Val Correct Count: 154181.000000 Val Accuracy: 74.00%\n",
      "Epoch: 1/1... Step: 12000... Loss: 0.629183... Val Loss: 0.672761 Val Correct Count: 153865.000000 Val Accuracy: 74.00%\n",
      "Epoch: 1/1... Step: 12100... Loss: 0.982602... Val Loss: 0.675596 Val Correct Count: 154004.000000 Val Accuracy: 74.00%\n",
      "Epoch: 1/1... Step: 12200... Loss: 0.844756... Val Loss: 0.669458 Val Correct Count: 154201.000000 Val Accuracy: 74.00%\n",
      "Epoch: 1/1... Step: 12300... Loss: 0.802001... Val Loss: 0.665499 Val Correct Count: 154502.000000 Val Accuracy: 74.00%\n",
      "Epoch: 1/1... Step: 12400... Loss: 0.791083... Val Loss: 0.671469 Val Correct Count: 154231.000000 Val Accuracy: 74.00%\n",
      "Epoch: 1/1... Step: 12500... Loss: 0.428436... Val Loss: 0.664905 Val Correct Count: 154676.000000 Val Accuracy: 74.00%\n",
      "Epoch: 1/1... Step: 12600... Loss: 0.728447... Val Loss: 0.664648 Val Correct Count: 154622.000000 Val Accuracy: 74.00%\n",
      "Epoch: 1/1... Step: 12700... Loss: 0.622136... Val Loss: 0.659040 Val Correct Count: 155078.000000 Val Accuracy: 75.00%\n",
      "Epoch: 1/1... Step: 12800... Loss: 0.578924... Val Loss: 0.661734 Val Correct Count: 154659.000000 Val Accuracy: 74.00%\n",
      "Epoch: 1/1... Step: 12900... Loss: 0.746750... Val Loss: 0.652857 Val Correct Count: 155370.000000 Val Accuracy: 75.00%\n",
      "Finished Training.\n"
     ]
    }
   ],
   "source": [
    "\"\"\"\n",
    "Train your model with dropout. Make sure to clip your gradients.\n",
    "Print the training loss, validation loss, and validation accuracy for every 100 steps.\n",
    "\"\"\"\n",
    "epochs = 1\n",
    "batch_size = 512\n",
    "learning_rate = 0.001\n",
    "\n",
    "clip=5 # gradient clipping\n",
    "\n",
    "print_every = 100\n",
    "criterion = nn.NLLLoss()\n",
    "optimizer = optim.Adam(model.parameters(), lr=learning_rate)\n",
    "model.train()\n",
    "\n",
    "for epoch in range(epochs):\n",
    "    print('Starting epoch {}'.format(epoch + 1))\n",
    "    \n",
    "    steps = 0\n",
    "    for text_batch, labels in dataloader(train_features, train_labels, batch_size=batch_size):\n",
    "        steps += 1\n",
    "        model.zero_grad()\n",
    "        hidden = model.init_hidden(labels.shape[0])\n",
    "        \n",
    "        # Set Device\n",
    "        text_batch, labels = text_batch.to(device), labels.to(device)\n",
    "        \n",
    "        for each in hidden:\n",
    "            each.to(device)\n",
    "        \n",
    "        \n",
    "        \n",
    "        \n",
    "        output, hidden = model(text_batch, hidden)     \n",
    "        \n",
    "        # calculate the loss and perform backprop\n",
    "        loss = criterion(output, labels)\n",
    "        #loss.backward()       \n",
    "        loss.backward(retain_graph=True)\n",
    "        # `clip_grad_norm` helps prevent the exploding gradient problem in RNNs / LSTMs.\n",
    "        nn.utils.clip_grad_norm_(model.parameters(), clip)\n",
    "        optimizer.step()          \n",
    "        # TODO Implement: Train Model\n",
    "        correct_count = 0.0\n",
    "        if steps % print_every == 0:\n",
    "            val_h = model.init_hidden(batch_size=labels.shape[0])\n",
    "            val_losses = []\n",
    "            model.eval()\n",
    "            for inputs, labels in dataloader(valid_features, valid_labels, batch_size=batch_size):\n",
    "\n",
    "                # Creating new variables for the hidden state, otherwise\n",
    "                # we'd backprop through the entire training history\n",
    "                #val_h = tuple([each.data for each in val_h])\n",
    "                val_h = model.init_hidden(labels.shape[0])\n",
    "                inputs, labels = inputs.to(device), labels.to(device)\n",
    "                \n",
    "                \n",
    "                for each in val_h:\n",
    "                    each.to(device)                \n",
    "\n",
    "                output, val_h = model(inputs, val_h)\n",
    "                val_loss = criterion(output, labels)\n",
    "\n",
    "                val_losses.append(val_loss.item())            \n",
    "                topval, topclass = torch.exp(output).topk(1)\n",
    "                correct_count += torch.sum(topclass.squeeze() == labels)\n",
    "            # TODO Implement: Print metrics\n",
    "            \n",
    "            model.train()\n",
    "            print(\"Epoch: {}/{}...\".format(epoch+1, epochs),\n",
    "                \"Step: {}...\".format(steps),\n",
    "                \"Loss: {:.6f}...\".format(loss.item()),\n",
    "                \"Val Loss: {:.6f}\".format(np.mean(val_losses)),\n",
    "                \"Val Correct Count: {:.6f}\".format(correct_count),\n",
    "                \"Val Accuracy: {:.2f}%\".format(100*correct_count/len(valid_labels)))\n",
    "            \n",
    "print(\"Finished Training.\")"
   ]
  },
  {
   "cell_type": "markdown",
   "metadata": {},
   "source": [
    "## Making Predictions\n",
    "### Prediction \n",
    "Okay, now that you have a trained model, try it on some new twits and see if it works appropriately. Remember that for any new text, you'll need to preprocess it first before passing it to the network. Implement the `predict` function to generate the prediction vector from a message."
   ]
  },
  {
   "cell_type": "code",
   "execution_count": 21,
   "metadata": {},
   "outputs": [],
   "source": [
    "def predict(text, model, vocab):\n",
    "    \"\"\" \n",
    "    Make a prediction on a single sentence.\n",
    "\n",
    "    Parameters\n",
    "    ----------\n",
    "        text : The string to make a prediction on.\n",
    "        model : The model to use for making the prediction.\n",
    "        vocab : Dictionary for word to word ids. The key is the word and the value is the word id.\n",
    "\n",
    "    Returns\n",
    "    -------\n",
    "        pred : Prediction vector\n",
    "    \"\"\"    \n",
    "    \n",
    "    # TODO Implement\n",
    "    \n",
    "    tokens = preprocess(text)\n",
    "    \n",
    "    # Filter non-vocab words\n",
    "    tokens = [token for token in tokens if token in vocab]\n",
    "    # Convert words to ids\n",
    "    tokens = [vocab[token] for token in tokens]\n",
    "        \n",
    "    # Adding a batch dimension\n",
    "    text_input = torch.from_numpy(np.asarray(tokens)).view(-1,1)\n",
    "    # Get the NN output\n",
    "    hidden = model.init_hidden(1)\n",
    "    logps, _ = model.forward(text_input,hidden)\n",
    "    # Take the exponent of the NN output to get a range of 0 to 1 for each label.\n",
    "    pred = torch.exp(logps)\n",
    "    \n",
    "    return pred"
   ]
  },
  {
   "cell_type": "code",
   "execution_count": 22,
   "metadata": {},
   "outputs": [
    {
     "data": {
      "text/plain": [
       "tensor([[ 0.0007,  0.0195,  0.0088,  0.8846,  0.0864]])"
      ]
     },
     "execution_count": 22,
     "metadata": {},
     "output_type": "execute_result"
    }
   ],
   "source": [
    "text = \"Google is working on self driving cars, I'm bullish on $goog\"\n",
    "model.eval()\n",
    "model.to(\"cpu\")\n",
    "predict(text, model, vocab)\n"
   ]
  },
  {
   "cell_type": "markdown",
   "metadata": {},
   "source": [
    "### Questions: What is the prediction of the model? What is the uncertainty of the prediction?\n",
    "** TODO: Answer Question**\n",
    "\n"
   ]
  },
  {
   "cell_type": "markdown",
   "metadata": {},
   "source": [
    "Now we have a trained model and we can make predictions. We can use this model to track the sentiments of various stocks by predicting the sentiments of twits as they are coming in. Now we have a stream of twits. For each of those twits, pull out the stocks mentioned in them and keep track of the sentiments. Remember that in the twits, ticker symbols are encoded with a dollar sign as the first character, all caps, and 2-4 letters, like $AAPL. Ideally, you'd want to track the sentiments of the stocks in your universe and use this as a signal in your larger model(s).\n",
    "\n",
    "## Testing\n",
    "### Load the Data "
   ]
  },
  {
   "cell_type": "code",
   "execution_count": 23,
   "metadata": {},
   "outputs": [],
   "source": [
    "with open(os.path.join('..', '..', 'data', 'project_6_stocktwits', 'test_twits.json'), 'r') as f:\n",
    "    test_data = json.load(f)"
   ]
  },
  {
   "cell_type": "markdown",
   "metadata": {},
   "source": [
    "### Twit Stream"
   ]
  },
  {
   "cell_type": "code",
   "execution_count": 24,
   "metadata": {},
   "outputs": [
    {
     "data": {
      "text/plain": [
       "{'message_body': '$JWN has moved -1.69% on 10-31. Check out the movement and peers at  https://dividendbot.com?s=JWN',\n",
       " 'timestamp': '2018-11-01T00:00:05Z'}"
      ]
     },
     "execution_count": 24,
     "metadata": {},
     "output_type": "execute_result"
    }
   ],
   "source": [
    "def twit_stream():\n",
    "    for twit in test_data['data']:\n",
    "        yield twit\n",
    "\n",
    "next(twit_stream())"
   ]
  },
  {
   "cell_type": "markdown",
   "metadata": {},
   "source": [
    "Using the `prediction` function, let's apply it to a stream of twits."
   ]
  },
  {
   "cell_type": "code",
   "execution_count": 25,
   "metadata": {},
   "outputs": [],
   "source": [
    "def score_twits(stream, model, vocab, universe):\n",
    "    \"\"\" \n",
    "    Given a stream of twits and a universe of tickers, return sentiment scores for tickers in the universe.\n",
    "    \"\"\"\n",
    "    for twit in stream:\n",
    "\n",
    "        # Get the message text\n",
    "        text = twit['message_body']\n",
    "        symbols = re.findall('\\$[A-Z]{2,4}', text)\n",
    "        score = predict(text, model, vocab)\n",
    "\n",
    "        for symbol in symbols:\n",
    "            if symbol in universe:\n",
    "                yield {'symbol': symbol, 'score': score, 'timestamp': twit['timestamp']}"
   ]
  },
  {
   "cell_type": "code",
   "execution_count": 26,
   "metadata": {},
   "outputs": [
    {
     "data": {
      "text/plain": [
       "{'symbol': '$AAPL',\n",
       " 'score': tensor([[ 0.6047,  0.0388,  0.0466,  0.0630,  0.2469]]),\n",
       " 'timestamp': '2018-11-01T00:00:18Z'}"
      ]
     },
     "execution_count": 26,
     "metadata": {},
     "output_type": "execute_result"
    }
   ],
   "source": [
    "universe = {'$BBRY', '$AAPL', '$AMZN', '$BABA', '$YHOO', '$LQMT', '$FB', '$GOOG', '$BBBY', '$JNUG', '$SBUX', '$MU'}\n",
    "score_stream = score_twits(twit_stream(), model, vocab, universe)\n",
    "\n",
    "next(score_stream)"
   ]
  },
  {
   "cell_type": "markdown",
   "metadata": {},
   "source": [
    "That's it. You have successfully built a model for sentiment analysis! "
   ]
  },
  {
   "cell_type": "markdown",
   "metadata": {},
   "source": [
    "## Submission\n",
    "Now that you're done with the project, it's time to submit it. Click the submit button in the bottom right. One of our reviewers will give you feedback on your project with a pass or not passed grade. You can continue to the next section while you wait for feedback."
   ]
  },
  {
   "cell_type": "code",
   "execution_count": null,
   "metadata": {},
   "outputs": [],
   "source": []
  },
  {
   "cell_type": "code",
   "execution_count": null,
   "metadata": {},
   "outputs": [],
   "source": []
  }
 ],
 "metadata": {
  "kernelspec": {
   "display_name": "Python 3",
   "language": "python",
   "name": "python3"
  },
  "language_info": {
   "codemirror_mode": {
    "name": "ipython",
    "version": 3
   },
   "file_extension": ".py",
   "mimetype": "text/x-python",
   "name": "python",
   "nbconvert_exporter": "python",
   "pygments_lexer": "ipython3",
   "version": "3.6.3"
  }
 },
 "nbformat": 4,
 "nbformat_minor": 2
}
