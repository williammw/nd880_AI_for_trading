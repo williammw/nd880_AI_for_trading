{
 "cells": [
  {
   "cell_type": "markdown",
   "metadata": {},
   "source": [
    "# portfolio optimization (real world)"
   ]
  },
  {
   "cell_type": "code",
   "execution_count": 4,
   "metadata": {},
   "outputs": [],
   "source": [
    "\n",
    "import pandas as pd\n",
    "import numpy as np\n",
    "import cvxpy as cvx\n",
    "import helper\n",
    "import project_helper\n",
    "import os\n",
    "import pandas_datareader.data as pdr\n",
    "import datetime as dt\n",
    "import requests_cache\n"
   ]
  },
  {
   "cell_type": "code",
   "execution_count": 3,
   "metadata": {},
   "outputs": [],
   "source": [
    "# quandl key\n",
    "f = open(\"/Users/manwaiwong/key/quandl.txt\",\"r\")\n",
    "\n",
    "if f.mode == 'r':\n",
    "    c = f.read() "
   ]
  },
  {
   "cell_type": "markdown",
   "metadata": {},
   "source": [
    "# get stock stock from quandl"
   ]
  },
  {
   "cell_type": "code",
   "execution_count": 13,
   "metadata": {},
   "outputs": [
    {
     "name": "stdout",
     "output_type": "stream",
     "text": [
      "            NominalPrice  NetChange  Change    Bid    Ask  PEx   High    Low  \\\n",
      "Date                                                                           \n",
      "2020-02-13         13.38        NaN     NaN  13.38  13.40  NaN  13.64  12.78   \n",
      "2020-02-12         12.92        NaN     NaN  12.90  12.92  NaN  12.98  12.44   \n",
      "2020-02-11         12.78        NaN     NaN  12.78  12.80  NaN  13.16  12.78   \n",
      "2020-02-10         12.96        NaN     NaN  12.94  12.96  NaN  13.02  12.60   \n",
      "\n",
      "            PreviousClose  ShareVolume000  Turnover000  LotSize  \n",
      "Date                                                             \n",
      "2020-02-13          12.92        370025.0    4882186.0      NaN  \n",
      "2020-02-12          12.78        206695.0    2631046.0      NaN  \n",
      "2020-02-11          12.96        176487.0    2277630.0      NaN  \n",
      "2020-02-10          12.84        209947.0    2705278.0      NaN  \n",
      "            NominalPrice  NetChange  Change   Bid   Ask  PEx  High   Low  \\\n",
      "Date                                                                       \n",
      "2020-02-13          3.11        NaN     NaN  3.11  3.12  NaN  3.14  3.04   \n",
      "2020-02-12          3.11        NaN     NaN  3.10  3.11  NaN  3.20  3.03   \n",
      "2020-02-11          3.12        NaN     NaN  3.12  3.13  NaN  3.20  3.11   \n",
      "2020-02-10          3.16        NaN     NaN  3.16  3.17  NaN  3.28  3.11   \n",
      "\n",
      "            PreviousClose  ShareVolume000  Turnover000  LotSize  \n",
      "Date                                                             \n",
      "2020-02-13           3.11         33023.0     102014.0      NaN  \n",
      "2020-02-12           3.12         48894.0     151276.0      NaN  \n",
      "2020-02-11           3.16         38400.0     120573.0      NaN  \n",
      "2020-02-10           3.19         56141.0     178679.0      NaN  \n",
      "            NominalPrice  NetChange  Change   Bid   Ask  PEx  High   Low  \\\n",
      "Date                                                                       \n",
      "2020-02-13          5.84        NaN     NaN  5.84  5.85  NaN  6.00  5.79   \n",
      "2020-02-12          5.93        NaN     NaN  5.93  5.94  NaN  5.98  5.74   \n",
      "2020-02-11          5.80        NaN     NaN  5.80  5.82  NaN  5.94  5.74   \n",
      "2020-02-10          5.82        NaN     NaN  5.81  5.82  NaN  5.83  5.55   \n",
      "\n",
      "            PreviousClose  ShareVolume000  Turnover000  LotSize  \n",
      "Date                                                             \n",
      "2020-02-13           5.93         13807.0      81110.0      NaN  \n",
      "2020-02-12           5.80         18299.0     107973.0      NaN  \n",
      "2020-02-11           5.82         16140.0      93949.0      NaN  \n",
      "2020-02-10           5.71         15858.0      91090.0      NaN  \n"
     ]
    }
   ],
   "source": [
    "# quandl \n",
    "tickers = [\"HKEX/01810\",\"HKEX/02342\", \"HKEX/00552\"]\n",
    "expire_after = dt.timedelta(days=3)\n",
    "session = requests_cache.CachedSession(cache_name='cache', backend='sqlite', expire_after=expire_after)\n",
    "start = dt.date.today() - dt.timedelta(5)\n",
    "end = dt.date.today() \n",
    "qkey = c\n",
    "\n",
    "\n",
    "close_prices = pd.DataFrame() # dataframe to store close price of each ticker\n",
    "share_volumes = pd.DataFrame()\n",
    "attempt = 0 # initializing passthrough variable\n",
    "drop = [] # initializing list to store tickers whose close price was successfully extracted\n",
    "## loop tickers get data\n",
    "while len(tickers) != 0 and attempt <= 5:\n",
    "    tickers = [j for j in tickers if j not in drop] # removing stocks whose data has been extracted from the ticker list\n",
    "    for i in range(len(tickers)):\n",
    "        try:\n",
    "            temp = pdr.DataReader(tickers[i], 'quandl', start, end, api_key=qkey, session=session)\n",
    "            print(temp)\n",
    "            close_prices[tickers[i]] = temp[\"PreviousClose\"]\n",
    "            share_volumes[tickers[i]] = temp[\"ShareVolume000\"]\n",
    "            temp.dropna(inplace = True)\n",
    "            drop.append(tickers[i])       \n",
    "        except:\n",
    "            print(tickers[i],\" :failed to fetch data...retrying\")\n",
    "            continue\n",
    "    attempt+=1"
   ]
  },
  {
   "cell_type": "code",
   "execution_count": 14,
   "metadata": {},
   "outputs": [
    {
     "data": {
      "text/html": [
       "<div>\n",
       "<style scoped>\n",
       "    .dataframe tbody tr th:only-of-type {\n",
       "        vertical-align: middle;\n",
       "    }\n",
       "\n",
       "    .dataframe tbody tr th {\n",
       "        vertical-align: top;\n",
       "    }\n",
       "\n",
       "    .dataframe thead th {\n",
       "        text-align: right;\n",
       "    }\n",
       "</style>\n",
       "<table border=\"1\" class=\"dataframe\">\n",
       "  <thead>\n",
       "    <tr style=\"text-align: right;\">\n",
       "      <th></th>\n",
       "      <th>HKEX/01810</th>\n",
       "      <th>HKEX/02342</th>\n",
       "      <th>HKEX/00552</th>\n",
       "    </tr>\n",
       "    <tr>\n",
       "      <th>Date</th>\n",
       "      <th></th>\n",
       "      <th></th>\n",
       "      <th></th>\n",
       "    </tr>\n",
       "  </thead>\n",
       "  <tbody>\n",
       "    <tr>\n",
       "      <th>2020-02-13</th>\n",
       "      <td>12.92</td>\n",
       "      <td>3.11</td>\n",
       "      <td>5.93</td>\n",
       "    </tr>\n",
       "    <tr>\n",
       "      <th>2020-02-12</th>\n",
       "      <td>12.78</td>\n",
       "      <td>3.12</td>\n",
       "      <td>5.80</td>\n",
       "    </tr>\n",
       "    <tr>\n",
       "      <th>2020-02-11</th>\n",
       "      <td>12.96</td>\n",
       "      <td>3.16</td>\n",
       "      <td>5.82</td>\n",
       "    </tr>\n",
       "    <tr>\n",
       "      <th>2020-02-10</th>\n",
       "      <td>12.84</td>\n",
       "      <td>3.19</td>\n",
       "      <td>5.71</td>\n",
       "    </tr>\n",
       "  </tbody>\n",
       "</table>\n",
       "</div>"
      ],
      "text/plain": [
       "            HKEX/01810  HKEX/02342  HKEX/00552\n",
       "Date                                          \n",
       "2020-02-13       12.92        3.11        5.93\n",
       "2020-02-12       12.78        3.12        5.80\n",
       "2020-02-11       12.96        3.16        5.82\n",
       "2020-02-10       12.84        3.19        5.71"
      ]
     },
     "execution_count": 14,
     "metadata": {},
     "output_type": "execute_result"
    }
   ],
   "source": [
    "close_prices"
   ]
  },
  {
   "cell_type": "code",
   "execution_count": 15,
   "metadata": {},
   "outputs": [
    {
     "data": {
      "text/html": [
       "<div>\n",
       "<style scoped>\n",
       "    .dataframe tbody tr th:only-of-type {\n",
       "        vertical-align: middle;\n",
       "    }\n",
       "\n",
       "    .dataframe tbody tr th {\n",
       "        vertical-align: top;\n",
       "    }\n",
       "\n",
       "    .dataframe thead th {\n",
       "        text-align: right;\n",
       "    }\n",
       "</style>\n",
       "<table border=\"1\" class=\"dataframe\">\n",
       "  <thead>\n",
       "    <tr style=\"text-align: right;\">\n",
       "      <th></th>\n",
       "      <th>HKEX/01810</th>\n",
       "      <th>HKEX/02342</th>\n",
       "      <th>HKEX/00552</th>\n",
       "    </tr>\n",
       "    <tr>\n",
       "      <th>Date</th>\n",
       "      <th></th>\n",
       "      <th></th>\n",
       "      <th></th>\n",
       "    </tr>\n",
       "  </thead>\n",
       "  <tbody>\n",
       "    <tr>\n",
       "      <th>2020-02-13</th>\n",
       "      <td>370025.0</td>\n",
       "      <td>33023.0</td>\n",
       "      <td>13807.0</td>\n",
       "    </tr>\n",
       "    <tr>\n",
       "      <th>2020-02-12</th>\n",
       "      <td>206695.0</td>\n",
       "      <td>48894.0</td>\n",
       "      <td>18299.0</td>\n",
       "    </tr>\n",
       "    <tr>\n",
       "      <th>2020-02-11</th>\n",
       "      <td>176487.0</td>\n",
       "      <td>38400.0</td>\n",
       "      <td>16140.0</td>\n",
       "    </tr>\n",
       "    <tr>\n",
       "      <th>2020-02-10</th>\n",
       "      <td>209947.0</td>\n",
       "      <td>56141.0</td>\n",
       "      <td>15858.0</td>\n",
       "    </tr>\n",
       "  </tbody>\n",
       "</table>\n",
       "</div>"
      ],
      "text/plain": [
       "            HKEX/01810  HKEX/02342  HKEX/00552\n",
       "Date                                          \n",
       "2020-02-13    370025.0     33023.0     13807.0\n",
       "2020-02-12    206695.0     48894.0     18299.0\n",
       "2020-02-11    176487.0     38400.0     16140.0\n",
       "2020-02-10    209947.0     56141.0     15858.0"
      ]
     },
     "execution_count": 15,
     "metadata": {},
     "output_type": "execute_result"
    }
   ],
   "source": [
    "share_volumes"
   ]
  },
  {
   "cell_type": "code",
   "execution_count": null,
   "metadata": {},
   "outputs": [],
   "source": [
    "def generate_returns(prices):\n",
    "    \"\"\"\n",
    "    Generate returns for ticker and date.\n",
    "\n",
    "    Parameters\n",
    "    ----------\n",
    "    prices : DataFrame\n",
    "        Price for each ticker and date\n",
    "\n",
    "    Returns\n",
    "    -------\n",
    "    returns : Dataframe\n",
    "        The returns for each ticker and date\n",
    "    \"\"\"\n",
    "    #TODO: Implement function\n",
    "    #print(prices.sum(axis = 0))\n",
    "    # lesson 7 stock return\n",
    "    returns = (prices - prices.shift(1)) / prices.shift(1)\n",
    "    return returns"
   ]
  },
  {
   "cell_type": "code",
   "execution_count": null,
   "metadata": {},
   "outputs": [],
   "source": [
    "returns = generate_returns"
   ]
  }
 ],
 "metadata": {
  "kernelspec": {
   "display_name": "Python 3.7.4 64-bit ('twd': conda)",
   "language": "python",
   "name": "python37464bittwdconda86e3f19d55e4477aaacb7777a5a29077"
  },
  "language_info": {
   "codemirror_mode": {
    "name": "ipython",
    "version": 3
   },
   "file_extension": ".py",
   "mimetype": "text/x-python",
   "name": "python",
   "nbconvert_exporter": "python",
   "pygments_lexer": "ipython3",
   "version": "3.7.4"
  }
 },
 "nbformat": 4,
 "nbformat_minor": 2
}
