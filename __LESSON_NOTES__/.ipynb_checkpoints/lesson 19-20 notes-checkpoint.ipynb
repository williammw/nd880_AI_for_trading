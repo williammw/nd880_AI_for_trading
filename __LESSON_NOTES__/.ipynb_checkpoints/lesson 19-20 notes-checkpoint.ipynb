{
 "cells": [
  {
   "cell_type": "markdown",
   "metadata": {},
   "source": [
    "# Video #10"
   ]
  },
  {
   "cell_type": "code",
   "execution_count": 67,
   "metadata": {},
   "outputs": [],
   "source": [
    "import numpy as np\n",
    "import pandas as pd "
   ]
  },
  {
   "cell_type": "code",
   "execution_count": 68,
   "metadata": {},
   "outputs": [],
   "source": [
    "import cvxpy as cvx"
   ]
  },
  {
   "cell_type": "code",
   "execution_count": 3,
   "metadata": {},
   "outputs": [
    {
     "data": {
      "text/plain": [
       "A    0.035\n",
       "B    0.017\n",
       "C    0.029\n",
       "D    0.093\n",
       "E    0.033\n",
       "dtype: float64"
      ]
     },
     "execution_count": 3,
     "metadata": {},
     "output_type": "execute_result"
    }
   ],
   "source": [
    "portfolio = pd.Series([0.035, 0.017, 0.029, 0.093, 0.033], index=['A', 'B', 'C', 'D', 'E'])\n",
    "portfolio"
   ]
  },
  {
   "cell_type": "code",
   "execution_count": 48,
   "metadata": {},
   "outputs": [
    {
     "data": {
      "text/html": [
       "<div>\n",
       "<style scoped>\n",
       "    .dataframe tbody tr th:only-of-type {\n",
       "        vertical-align: middle;\n",
       "    }\n",
       "\n",
       "    .dataframe tbody tr th {\n",
       "        vertical-align: top;\n",
       "    }\n",
       "\n",
       "    .dataframe thead th {\n",
       "        text-align: right;\n",
       "    }\n",
       "</style>\n",
       "<table border=\"1\" class=\"dataframe\">\n",
       "  <thead>\n",
       "    <tr style=\"text-align: right;\">\n",
       "      <th></th>\n",
       "      <th>A</th>\n",
       "      <th>B</th>\n",
       "      <th>C</th>\n",
       "      <th>D</th>\n",
       "      <th>E</th>\n",
       "      <th>Q</th>\n",
       "    </tr>\n",
       "  </thead>\n",
       "  <tbody>\n",
       "    <tr>\n",
       "      <th>0</th>\n",
       "      <td>0.0014</td>\n",
       "      <td>0.0007</td>\n",
       "      <td>0.0004</td>\n",
       "      <td>0.0007</td>\n",
       "      <td>0.0009</td>\n",
       "      <td>0.0014</td>\n",
       "    </tr>\n",
       "    <tr>\n",
       "      <th>1</th>\n",
       "      <td>0.0008</td>\n",
       "      <td>0.0008</td>\n",
       "      <td>0.0008</td>\n",
       "      <td>0.0008</td>\n",
       "      <td>0.0008</td>\n",
       "      <td>0.0008</td>\n",
       "    </tr>\n",
       "    <tr>\n",
       "      <th>2</th>\n",
       "      <td>0.0005</td>\n",
       "      <td>0.0005</td>\n",
       "      <td>0.0005</td>\n",
       "      <td>0.0005</td>\n",
       "      <td>0.0005</td>\n",
       "      <td>0.0005</td>\n",
       "    </tr>\n",
       "    <tr>\n",
       "      <th>3</th>\n",
       "      <td>0.0007</td>\n",
       "      <td>0.0007</td>\n",
       "      <td>0.0007</td>\n",
       "      <td>0.0007</td>\n",
       "      <td>0.0007</td>\n",
       "      <td>0.0007</td>\n",
       "    </tr>\n",
       "    <tr>\n",
       "      <th>4</th>\n",
       "      <td>0.0009</td>\n",
       "      <td>0.0009</td>\n",
       "      <td>0.0009</td>\n",
       "      <td>0.0009</td>\n",
       "      <td>0.0009</td>\n",
       "      <td>0.0009</td>\n",
       "    </tr>\n",
       "  </tbody>\n",
       "</table>\n",
       "</div>"
      ],
      "text/plain": [
       "        A       B       C       D       E       Q\n",
       "0  0.0014  0.0007  0.0004  0.0007  0.0009  0.0014\n",
       "1  0.0008  0.0008  0.0008  0.0008  0.0008  0.0008\n",
       "2  0.0005  0.0005  0.0005  0.0005  0.0005  0.0005\n",
       "3  0.0007  0.0007  0.0007  0.0007  0.0007  0.0007\n",
       "4  0.0009  0.0009  0.0009  0.0009  0.0009  0.0009"
      ]
     },
     "execution_count": 48,
     "metadata": {},
     "output_type": "execute_result"
    }
   ],
   "source": [
    "covariance =  pd.DataFrame(\n",
    "    {\n",
    "        'A':[0.0014, 0.0008, 0.0005, 0.0007, 0.0009],\n",
    "        'B':[0.0007, 0.0008, 0.0005, 0.0007, 0.0009],\n",
    "        'C':[0.0004, 0.0008, 0.0005, 0.0007, 0.0009],\n",
    "        'D':[0.0007, 0.0008, 0.0005, 0.0007, 0.0009],\n",
    "        'E':[0.0009, 0.0008, 0.0005, 0.0007, 0.0009],\n",
    "    }\n",
    ")\n",
    "covariance['Q'] = [0.0014, 0.0008, 0.0005, 0.0007, 0.0009]\n",
    "\n",
    "covariance"
   ]
  },
  {
   "cell_type": "markdown",
   "metadata": {},
   "source": [
    "# Sharpe Ratio \n",
    "### L19\n"
   ]
  },
  {
   "cell_type": "code",
   "execution_count": 8,
   "metadata": {},
   "outputs": [],
   "source": [
    "f = open(\"/Users/manwaiwong/key/quandl.txt\",\"r\")\n",
    "\n",
    "if f.mode == 'r':\n",
    "    c = f.read() \n",
    "    #print(c)\n"
   ]
  },
  {
   "cell_type": "code",
   "execution_count": 62,
   "metadata": {},
   "outputs": [
    {
     "data": {
      "text/plain": [
       "-3.0385792132220346"
      ]
     },
     "execution_count": 62,
     "metadata": {},
     "output_type": "execute_result"
    }
   ],
   "source": [
    "# from pandas.io import data, wb # becomes\n",
    "import os\n",
    "import pandas_datareader.data as pdr\n",
    "import datetime as dt\n",
    "import requests_cache\n",
    "\n",
    "# print(pdr.get_data_fred('GS10'))\n",
    "\n",
    "# option \n",
    "tickers = [\"HKEX/01810\",\"HKEX/09988\",\"HKEX/00700\",\"HKEX/02342\", \"HKEX/00552\"]\n",
    "# ticker = \"HKEX/HSINX2019\"\n",
    "# ticker = \"HKEX/00001\"\n",
    "# \n",
    "# ticker = \"0001.hk\"\n",
    "\n",
    "expire_after = dt.timedelta(days=3)\n",
    "session = requests_cache.CachedSession(cache_name='cache', backend='sqlite', expire_after=expire_after)\n",
    "start = dt.date.today() - dt.timedelta(5)\n",
    "end = dt.date.today() \n",
    "qkey = c\n",
    "\n",
    "\n",
    "close_prices = pd.DataFrame() # dataframe to store close price of each ticker\n",
    "attempt = 0 # initializing passthrough variable\n",
    "drop = [] # initializing list to store tickers whose close price was successfully extracted\n",
    "## loop tickers get data\n",
    "while len(tickers) != 0 and attempt <= 5:\n",
    "    tickers = [j for j in tickers if j not in drop] # removing stocks whose data has been extracted from the ticker list\n",
    "    for i in range(len(tickers)):\n",
    "        try:\n",
    "            temp = pdr.DataReader(tickers[i], 'quandl', start, end, api_key=qkey, session=session)\n",
    "            close_prices[tickers[i]] = temp[\"PreviousClose\"]\n",
    "            temp.dropna(inplace = True)\n",
    "            drop.append(tickers[i])       \n",
    "        except:\n",
    "            print(tickers[i],\" :failed to fetch data...retrying\")\n",
    "            continue\n",
    "    attempt+=1\n",
    "\n",
    "close_prices['TotalPosition'] = close_prices.sum(axis = 1)\n",
    "close_prices['DailyReturn'] = close_prices['TotalPosition'].pct_change(1)\n",
    "sharpe_ratio = close_prices['DailyReturn'].mean() / close_prices['DailyReturn'].std()\n",
    "sharpe_ratio\n",
    "\n",
    "annual_sharpe_ratio = (252**0.5) * sharpe_ratio\n",
    "annual_sharpe_ratio\n"
   ]
  },
  {
   "cell_type": "markdown",
   "metadata": {},
   "source": [
    "# Optimization Portfolio\n",
    "### L20 Two-Asset Portfolio Optimization\n",
    "#### Derivation of Optimal Weights on a Two-Asset Portfolio\n",
    "x_1 + x_2 + x_3 + ... + x_n = 1\n",
    "where x is the weight of various assets in th portfolio\n",
    " \n",
    "### (1) σ<sup>2</sup><sub>P</sub> =  x<sup>2</sup><sub>A</sub>σ<sup>2</sup><sub>A</sub> + x<sup>2</sup><sub>B</sub>σ<sup>2</sup><sub>B</sub> + 2x<sub>A</sub>x<sub>B</sub>σ<sub>A</sub>σ<sub>B</sub>ρ<sub>r<sub>A</sub>r<sub>B</sub></sub>\n",
    "\n",
    "σ<sup>2</sup><sub>P</sub> = is the portfolio variance \\\n",
    "σ<sup>2</sup><sub>A</sub> = is the variance of the return of Stock A \\\n",
    "σ<sup>2</sup><sub>B</sub> = is the variance of the return of Stock B \\\n",
    "ρ<sub>r<sub>A</sub>r<sub>B</sub></sub> = is the correlation between  the returns of stocks A and B. \\\n",
    "\\\n",
    "\\\n",
    "\\\n",
    "constraints is : \n",
    "###  (2) x<sub>A</sub> + x<sub>B</sub> = 1\n",
    "\n",
    "put (2) in (1) \\ \n",
    "then :\n",
    "### x<sub>B</sub> = 1 - x<sub>A</sub> \n",
    "\n",
    "\n",
    "\n",
    "## μ<sub>P</sub> = μ<sub>A</sub>x<sub>A</sub> + μ<sub>B</sub>x<sub>B</sub> \n",
    "\n",
    "## μ is portfolio mean"
   ]
  },
  {
   "cell_type": "markdown",
   "metadata": {},
   "source": [
    "# CVXPY"
   ]
  },
  {
   "cell_type": "code",
   "execution_count": 73,
   "metadata": {},
   "outputs": [
    {
     "name": "stdout",
     "output_type": "stream",
     "text": [
      "Optimal value of x : 1.399919957976194e-29\n"
     ]
    },
    {
     "ename": "AttributeError",
     "evalue": "'Problem' object has no attribute 'vlaue'",
     "output_type": "error",
     "traceback": [
      "\u001b[0;31m---------------------------------------------------------------------------\u001b[0m",
      "\u001b[0;31mAttributeError\u001b[0m                            Traceback (most recent call last)",
      "\u001b[0;32m<ipython-input-73-b67fef9d6737>\u001b[0m in \u001b[0;36m<module>\u001b[0;34m\u001b[0m\n\u001b[1;32m      5\u001b[0m \u001b[0mresult\u001b[0m \u001b[0;34m=\u001b[0m \u001b[0mProblem\u001b[0m\u001b[0;34m.\u001b[0m\u001b[0msolve\u001b[0m\u001b[0;34m(\u001b[0m\u001b[0;34m)\u001b[0m\u001b[0;34m\u001b[0m\u001b[0;34m\u001b[0m\u001b[0m\n\u001b[1;32m      6\u001b[0m \u001b[0mprint\u001b[0m\u001b[0;34m(\u001b[0m\u001b[0;34m'Optimal value of x : {}'\u001b[0m\u001b[0;34m.\u001b[0m\u001b[0mformat\u001b[0m\u001b[0;34m(\u001b[0m\u001b[0mx\u001b[0m\u001b[0;34m.\u001b[0m\u001b[0mvalue\u001b[0m\u001b[0;34m[\u001b[0m\u001b[0;36m0\u001b[0m\u001b[0;34m]\u001b[0m\u001b[0;34m)\u001b[0m\u001b[0;34m)\u001b[0m\u001b[0;34m\u001b[0m\u001b[0;34m\u001b[0m\u001b[0m\n\u001b[0;32m----> 7\u001b[0;31m \u001b[0mprint\u001b[0m\u001b[0;34m(\u001b[0m\u001b[0;34m'Optimal value of the objective : {:.6f}'\u001b[0m\u001b[0;34m.\u001b[0m\u001b[0mformat\u001b[0m\u001b[0;34m(\u001b[0m\u001b[0mProblem\u001b[0m\u001b[0;34m.\u001b[0m\u001b[0mvlaue\u001b[0m\u001b[0;34m)\u001b[0m\u001b[0;34m)\u001b[0m\u001b[0;34m\u001b[0m\u001b[0;34m\u001b[0m\u001b[0m\n\u001b[0m",
      "\u001b[0;31mAttributeError\u001b[0m: 'Problem' object has no attribute 'vlaue'"
     ]
    }
   ],
   "source": [
    "x = cvx.Variable(1)\n",
    "objective = cvx.Minimize((x -1)**2 + 1)\n",
    "constraints = [x <= 0]\n",
    "problem = cvx.Problem(objective, constraints)\n",
    "result = problem.solve()\n",
    "print('Optimal value of x : {}'.format(x.value[0]))\n",
    "print('Optimal value of the objective : {:.6f}'.format(problem.vlaue))\n"
   ]
  },
  {
   "cell_type": "code",
   "execution_count": null,
   "metadata": {},
   "outputs": [],
   "source": []
  }
 ],
 "metadata": {
  "kernelspec": {
   "display_name": "Python 3",
   "language": "python",
   "name": "python3"
  },
  "language_info": {
   "codemirror_mode": {
    "name": "ipython",
    "version": 3
   },
   "file_extension": ".py",
   "mimetype": "text/x-python",
   "name": "python",
   "nbconvert_exporter": "python",
   "pygments_lexer": "ipython3",
   "version": "3.7.4"
  }
 },
 "nbformat": 4,
 "nbformat_minor": 2
}
